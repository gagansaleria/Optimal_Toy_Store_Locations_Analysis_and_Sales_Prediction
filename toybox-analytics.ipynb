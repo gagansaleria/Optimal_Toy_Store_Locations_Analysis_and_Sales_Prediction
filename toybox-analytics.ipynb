{
 "cells": [
  {
   "cell_type": "code",
   "execution_count": 1,
   "id": "e56bcb1d",
   "metadata": {
    "_cell_guid": "b1076dfc-b9ad-4769-8c92-a6c4dae69d19",
    "_uuid": "8f2839f25d086af736a60e9eeb907d3b93b6e0e5",
    "papermill": {
     "duration": 1.020109,
     "end_time": "2024-01-24T07:46:09.479315",
     "exception": false,
     "start_time": "2024-01-24T07:46:08.459206",
     "status": "completed"
    },
    "tags": []
   },
   "outputs": [],
   "source": [
    "# Change the current working directory\n",
    "import os\n",
    "\n",
    "os.chdir(\"C:\\\\Users\\\\Dell 3400\\\\Desktop\\\\Projects\\\\Toy_Sales_Analysis_Python\\\\Raw Data\")"
   ]
  },
  {
   "cell_type": "code",
   "execution_count": 2,
   "id": "7a1c69e0-440c-4ff7-82c6-8e326c9f7249",
   "metadata": {},
   "outputs": [
    {
     "data": {
      "text/plain": [
       "'C:\\\\Users\\\\Dell 3400\\\\Desktop\\\\Projects\\\\Toy_Sales_Analysis_Python\\\\Raw Data'"
      ]
     },
     "execution_count": 2,
     "metadata": {},
     "output_type": "execute_result"
    }
   ],
   "source": [
    "# Get the current working directory\n",
    "\n",
    "os.getcwd()"
   ]
  },
  {
   "cell_type": "code",
   "execution_count": 3,
   "id": "42aeb5da",
   "metadata": {
    "papermill": {
     "duration": 1.96384,
     "end_time": "2024-01-24T07:46:11.464354",
     "exception": false,
     "start_time": "2024-01-24T07:46:09.500514",
     "status": "completed"
    },
    "tags": []
   },
   "outputs": [],
   "source": [
    "#Importing necessary Libraries\n",
    "\n",
    "import pandas as pd\n",
    "import numpy as np\n",
    "import matplotlib.pyplot as plt\n",
    "import seaborn as sns\n",
    "from sklearn import preprocessing"
   ]
  },
  {
   "cell_type": "code",
   "execution_count": 4,
   "id": "f6ae4235",
   "metadata": {
    "papermill": {
     "duration": 0.684648,
     "end_time": "2024-01-24T07:46:12.169044",
     "exception": false,
     "start_time": "2024-01-24T07:46:11.484396",
     "status": "completed"
    },
    "tags": []
   },
   "outputs": [],
   "source": [
    "#Loading datasets\n",
    "\n",
    "Inventory = pd.read_csv(\"C:\\\\Users\\\\Dell 3400\\\\Desktop\\\\Projects\\\\Toy_Sales_Analysis_Python\\\\Raw Data\\\\inventory.csv\")\n",
    "Products = pd.read_csv(\"C:\\\\Users\\\\Dell 3400\\\\Desktop\\\\Projects\\\\Toy_Sales_Analysis_Python\\\\Raw Data\\\\products.csv\")\n",
    "Sales = pd.read_csv(\"C:\\\\Users\\\\Dell 3400\\\\Desktop\\\\Projects\\\\Toy_Sales_Analysis_Python\\\\Raw Data\\\\sales.csv\")\n",
    "Stores = pd.read_csv(\"C:\\\\Users\\\\Dell 3400\\\\Desktop\\\\Projects\\\\Toy_Sales_Analysis_Python\\\\Raw Data\\\\stores.csv\")"
   ]
  },
  {
   "cell_type": "markdown",
   "id": "d1d30cda",
   "metadata": {
    "papermill": {
     "duration": 0.017996,
     "end_time": "2024-01-24T07:46:12.205804",
     "exception": false,
     "start_time": "2024-01-24T07:46:12.187808",
     "status": "completed"
    },
    "tags": []
   },
   "source": [
    "## Displaying all tables to identify and compare common columns*"
   ]
  },
  {
   "cell_type": "code",
   "execution_count": 5,
   "id": "42dd5a1f",
   "metadata": {
    "papermill": {
     "duration": 0.048577,
     "end_time": "2024-01-24T07:46:12.272715",
     "exception": false,
     "start_time": "2024-01-24T07:46:12.224138",
     "status": "completed"
    },
    "tags": []
   },
   "outputs": [
    {
     "data": {
      "text/html": [
       "<div>\n",
       "<style scoped>\n",
       "    .dataframe tbody tr th:only-of-type {\n",
       "        vertical-align: middle;\n",
       "    }\n",
       "\n",
       "    .dataframe tbody tr th {\n",
       "        vertical-align: top;\n",
       "    }\n",
       "\n",
       "    .dataframe thead th {\n",
       "        text-align: right;\n",
       "    }\n",
       "</style>\n",
       "<table border=\"1\" class=\"dataframe\">\n",
       "  <thead>\n",
       "    <tr style=\"text-align: right;\">\n",
       "      <th></th>\n",
       "      <th>Store_ID</th>\n",
       "      <th>Product_ID</th>\n",
       "      <th>Stock_On_Hand</th>\n",
       "    </tr>\n",
       "  </thead>\n",
       "  <tbody>\n",
       "    <tr>\n",
       "      <th>0</th>\n",
       "      <td>1</td>\n",
       "      <td>1</td>\n",
       "      <td>27</td>\n",
       "    </tr>\n",
       "    <tr>\n",
       "      <th>1</th>\n",
       "      <td>1</td>\n",
       "      <td>2</td>\n",
       "      <td>0</td>\n",
       "    </tr>\n",
       "    <tr>\n",
       "      <th>2</th>\n",
       "      <td>1</td>\n",
       "      <td>3</td>\n",
       "      <td>32</td>\n",
       "    </tr>\n",
       "    <tr>\n",
       "      <th>3</th>\n",
       "      <td>1</td>\n",
       "      <td>4</td>\n",
       "      <td>6</td>\n",
       "    </tr>\n",
       "    <tr>\n",
       "      <th>4</th>\n",
       "      <td>1</td>\n",
       "      <td>5</td>\n",
       "      <td>0</td>\n",
       "    </tr>\n",
       "  </tbody>\n",
       "</table>\n",
       "</div>"
      ],
      "text/plain": [
       "   Store_ID  Product_ID  Stock_On_Hand\n",
       "0         1           1             27\n",
       "1         1           2              0\n",
       "2         1           3             32\n",
       "3         1           4              6\n",
       "4         1           5              0"
      ]
     },
     "execution_count": 5,
     "metadata": {},
     "output_type": "execute_result"
    }
   ],
   "source": [
    "Inventory.head(5)"
   ]
  },
  {
   "cell_type": "code",
   "execution_count": 6,
   "id": "d7b1a1ac",
   "metadata": {
    "papermill": {
     "duration": 0.109537,
     "end_time": "2024-01-24T07:46:12.401499",
     "exception": false,
     "start_time": "2024-01-24T07:46:12.291962",
     "status": "completed"
    },
    "tags": []
   },
   "outputs": [
    {
     "data": {
      "text/html": [
       "<div>\n",
       "<style scoped>\n",
       "    .dataframe tbody tr th:only-of-type {\n",
       "        vertical-align: middle;\n",
       "    }\n",
       "\n",
       "    .dataframe tbody tr th {\n",
       "        vertical-align: top;\n",
       "    }\n",
       "\n",
       "    .dataframe thead th {\n",
       "        text-align: right;\n",
       "    }\n",
       "</style>\n",
       "<table border=\"1\" class=\"dataframe\">\n",
       "  <thead>\n",
       "    <tr style=\"text-align: right;\">\n",
       "      <th></th>\n",
       "      <th>Product_ID</th>\n",
       "      <th>Product_Name</th>\n",
       "      <th>Product_Category</th>\n",
       "      <th>Product_Cost</th>\n",
       "      <th>Product_Price</th>\n",
       "    </tr>\n",
       "  </thead>\n",
       "  <tbody>\n",
       "    <tr>\n",
       "      <th>0</th>\n",
       "      <td>1</td>\n",
       "      <td>Action Figure</td>\n",
       "      <td>Toys</td>\n",
       "      <td>$9.99</td>\n",
       "      <td>$15.99</td>\n",
       "    </tr>\n",
       "    <tr>\n",
       "      <th>1</th>\n",
       "      <td>2</td>\n",
       "      <td>Animal Figures</td>\n",
       "      <td>Toys</td>\n",
       "      <td>$9.99</td>\n",
       "      <td>$12.99</td>\n",
       "    </tr>\n",
       "    <tr>\n",
       "      <th>2</th>\n",
       "      <td>3</td>\n",
       "      <td>Barrel O' Slime</td>\n",
       "      <td>Art &amp; Crafts</td>\n",
       "      <td>$1.99</td>\n",
       "      <td>$3.99</td>\n",
       "    </tr>\n",
       "    <tr>\n",
       "      <th>3</th>\n",
       "      <td>4</td>\n",
       "      <td>Chutes &amp; Ladders</td>\n",
       "      <td>Games</td>\n",
       "      <td>$9.99</td>\n",
       "      <td>$12.99</td>\n",
       "    </tr>\n",
       "    <tr>\n",
       "      <th>4</th>\n",
       "      <td>5</td>\n",
       "      <td>Classic Dominoes</td>\n",
       "      <td>Games</td>\n",
       "      <td>$7.99</td>\n",
       "      <td>$9.99</td>\n",
       "    </tr>\n",
       "  </tbody>\n",
       "</table>\n",
       "</div>"
      ],
      "text/plain": [
       "   Product_ID      Product_Name Product_Category Product_Cost Product_Price\n",
       "0           1     Action Figure             Toys       $9.99        $15.99 \n",
       "1           2    Animal Figures             Toys       $9.99        $12.99 \n",
       "2           3   Barrel O' Slime     Art & Crafts       $1.99         $3.99 \n",
       "3           4  Chutes & Ladders            Games       $9.99        $12.99 \n",
       "4           5  Classic Dominoes            Games       $7.99         $9.99 "
      ]
     },
     "execution_count": 6,
     "metadata": {},
     "output_type": "execute_result"
    }
   ],
   "source": [
    "Products.head(5)"
   ]
  },
  {
   "cell_type": "code",
   "execution_count": 7,
   "id": "aca5cd4e",
   "metadata": {
    "papermill": {
     "duration": 0.036414,
     "end_time": "2024-01-24T07:46:12.456878",
     "exception": false,
     "start_time": "2024-01-24T07:46:12.420464",
     "status": "completed"
    },
    "tags": []
   },
   "outputs": [
    {
     "data": {
      "text/html": [
       "<div>\n",
       "<style scoped>\n",
       "    .dataframe tbody tr th:only-of-type {\n",
       "        vertical-align: middle;\n",
       "    }\n",
       "\n",
       "    .dataframe tbody tr th {\n",
       "        vertical-align: top;\n",
       "    }\n",
       "\n",
       "    .dataframe thead th {\n",
       "        text-align: right;\n",
       "    }\n",
       "</style>\n",
       "<table border=\"1\" class=\"dataframe\">\n",
       "  <thead>\n",
       "    <tr style=\"text-align: right;\">\n",
       "      <th></th>\n",
       "      <th>Sale_ID</th>\n",
       "      <th>Date</th>\n",
       "      <th>Store_ID</th>\n",
       "      <th>Product_ID</th>\n",
       "      <th>Units</th>\n",
       "    </tr>\n",
       "  </thead>\n",
       "  <tbody>\n",
       "    <tr>\n",
       "      <th>0</th>\n",
       "      <td>1</td>\n",
       "      <td>2017-01-01</td>\n",
       "      <td>24</td>\n",
       "      <td>4</td>\n",
       "      <td>1</td>\n",
       "    </tr>\n",
       "    <tr>\n",
       "      <th>1</th>\n",
       "      <td>2</td>\n",
       "      <td>2017-01-01</td>\n",
       "      <td>28</td>\n",
       "      <td>1</td>\n",
       "      <td>1</td>\n",
       "    </tr>\n",
       "    <tr>\n",
       "      <th>2</th>\n",
       "      <td>3</td>\n",
       "      <td>2017-01-01</td>\n",
       "      <td>6</td>\n",
       "      <td>8</td>\n",
       "      <td>1</td>\n",
       "    </tr>\n",
       "    <tr>\n",
       "      <th>3</th>\n",
       "      <td>4</td>\n",
       "      <td>2017-01-01</td>\n",
       "      <td>48</td>\n",
       "      <td>7</td>\n",
       "      <td>1</td>\n",
       "    </tr>\n",
       "    <tr>\n",
       "      <th>4</th>\n",
       "      <td>5</td>\n",
       "      <td>2017-01-01</td>\n",
       "      <td>44</td>\n",
       "      <td>18</td>\n",
       "      <td>1</td>\n",
       "    </tr>\n",
       "  </tbody>\n",
       "</table>\n",
       "</div>"
      ],
      "text/plain": [
       "   Sale_ID        Date  Store_ID  Product_ID  Units\n",
       "0        1  2017-01-01        24           4      1\n",
       "1        2  2017-01-01        28           1      1\n",
       "2        3  2017-01-01         6           8      1\n",
       "3        4  2017-01-01        48           7      1\n",
       "4        5  2017-01-01        44          18      1"
      ]
     },
     "execution_count": 7,
     "metadata": {},
     "output_type": "execute_result"
    }
   ],
   "source": [
    "Sales.head(5)"
   ]
  },
  {
   "cell_type": "code",
   "execution_count": 8,
   "id": "2f17bf5c",
   "metadata": {
    "papermill": {
     "duration": 0.03782,
     "end_time": "2024-01-24T07:46:12.514058",
     "exception": false,
     "start_time": "2024-01-24T07:46:12.476238",
     "status": "completed"
    },
    "tags": []
   },
   "outputs": [
    {
     "data": {
      "text/html": [
       "<div>\n",
       "<style scoped>\n",
       "    .dataframe tbody tr th:only-of-type {\n",
       "        vertical-align: middle;\n",
       "    }\n",
       "\n",
       "    .dataframe tbody tr th {\n",
       "        vertical-align: top;\n",
       "    }\n",
       "\n",
       "    .dataframe thead th {\n",
       "        text-align: right;\n",
       "    }\n",
       "</style>\n",
       "<table border=\"1\" class=\"dataframe\">\n",
       "  <thead>\n",
       "    <tr style=\"text-align: right;\">\n",
       "      <th></th>\n",
       "      <th>Store_ID</th>\n",
       "      <th>Store_Name</th>\n",
       "      <th>Store_City</th>\n",
       "      <th>Store_Location</th>\n",
       "      <th>Store_Open_Date</th>\n",
       "    </tr>\n",
       "  </thead>\n",
       "  <tbody>\n",
       "    <tr>\n",
       "      <th>0</th>\n",
       "      <td>1</td>\n",
       "      <td>Maven Toys Guadalajara 1</td>\n",
       "      <td>Guadalajara</td>\n",
       "      <td>Residential</td>\n",
       "      <td>1992-09-18</td>\n",
       "    </tr>\n",
       "    <tr>\n",
       "      <th>1</th>\n",
       "      <td>2</td>\n",
       "      <td>Maven Toys Monterrey 1</td>\n",
       "      <td>Monterrey</td>\n",
       "      <td>Residential</td>\n",
       "      <td>1995-04-27</td>\n",
       "    </tr>\n",
       "    <tr>\n",
       "      <th>2</th>\n",
       "      <td>3</td>\n",
       "      <td>Maven Toys Guadalajara 2</td>\n",
       "      <td>Guadalajara</td>\n",
       "      <td>Commercial</td>\n",
       "      <td>1999-12-27</td>\n",
       "    </tr>\n",
       "    <tr>\n",
       "      <th>3</th>\n",
       "      <td>4</td>\n",
       "      <td>Maven Toys Saltillo 1</td>\n",
       "      <td>Saltillo</td>\n",
       "      <td>Downtown</td>\n",
       "      <td>2000-01-01</td>\n",
       "    </tr>\n",
       "    <tr>\n",
       "      <th>4</th>\n",
       "      <td>5</td>\n",
       "      <td>Maven Toys La Paz 1</td>\n",
       "      <td>La Paz</td>\n",
       "      <td>Downtown</td>\n",
       "      <td>2001-05-31</td>\n",
       "    </tr>\n",
       "  </tbody>\n",
       "</table>\n",
       "</div>"
      ],
      "text/plain": [
       "   Store_ID                Store_Name   Store_City Store_Location  \\\n",
       "0         1  Maven Toys Guadalajara 1  Guadalajara    Residential   \n",
       "1         2    Maven Toys Monterrey 1    Monterrey    Residential   \n",
       "2         3  Maven Toys Guadalajara 2  Guadalajara     Commercial   \n",
       "3         4     Maven Toys Saltillo 1     Saltillo       Downtown   \n",
       "4         5       Maven Toys La Paz 1       La Paz       Downtown   \n",
       "\n",
       "  Store_Open_Date  \n",
       "0      1992-09-18  \n",
       "1      1995-04-27  \n",
       "2      1999-12-27  \n",
       "3      2000-01-01  \n",
       "4      2001-05-31  "
      ]
     },
     "execution_count": 8,
     "metadata": {},
     "output_type": "execute_result"
    }
   ],
   "source": [
    "Stores.head(5)"
   ]
  },
  {
   "cell_type": "markdown",
   "id": "5fa11730",
   "metadata": {
    "papermill": {
     "duration": 0.019308,
     "end_time": "2024-01-24T07:46:12.553395",
     "exception": false,
     "start_time": "2024-01-24T07:46:12.534087",
     "status": "completed"
    },
    "tags": []
   },
   "source": [
    "**Findings-**\n",
    "*   Store_ID is common in Inventory, Sales & Stores.\n",
    "*   Product_ID is common in Inventory, Products & Sales."
   ]
  },
  {
   "cell_type": "markdown",
   "id": "b61ab31a",
   "metadata": {
    "execution": {
     "iopub.execute_input": "2023-11-06T08:31:31.178110Z",
     "iopub.status.busy": "2023-11-06T08:31:31.177694Z",
     "iopub.status.idle": "2023-11-06T08:31:31.183603Z",
     "shell.execute_reply": "2023-11-06T08:31:31.182150Z",
     "shell.execute_reply.started": "2023-11-06T08:31:31.178075Z"
    },
    "papermill": {
     "duration": 0.019532,
     "end_time": "2024-01-24T07:46:12.592823",
     "exception": false,
     "start_time": "2024-01-24T07:46:12.573291",
     "status": "completed"
    },
    "tags": []
   },
   "source": [
    "# **Merging all Datasets**"
   ]
  },
  {
   "cell_type": "code",
   "execution_count": 9,
   "id": "cc3c648b",
   "metadata": {
    "papermill": {
     "duration": 0.050219,
     "end_time": "2024-01-24T07:46:12.662750",
     "exception": false,
     "start_time": "2024-01-24T07:46:12.612531",
     "status": "completed"
    },
    "tags": []
   },
   "outputs": [],
   "source": [
    "ProductInventory = pd.merge(Inventory,Products,on=\"Product_ID\",how=\"outer\")"
   ]
  },
  {
   "cell_type": "code",
   "execution_count": 10,
   "id": "7f0084c3",
   "metadata": {
    "papermill": {
     "duration": 0.469796,
     "end_time": "2024-01-24T07:46:13.152055",
     "exception": false,
     "start_time": "2024-01-24T07:46:12.682259",
     "status": "completed"
    },
    "tags": []
   },
   "outputs": [],
   "source": [
    "SalesProductInventory = pd.merge(Sales, ProductInventory, on=[\"Store_ID\",'Product_ID'], how=\"outer\")"
   ]
  },
  {
   "cell_type": "code",
   "execution_count": 11,
   "id": "bbba6f15",
   "metadata": {
    "papermill": {
     "duration": 0.481651,
     "end_time": "2024-01-24T07:46:13.653137",
     "exception": false,
     "start_time": "2024-01-24T07:46:13.171486",
     "status": "completed"
    },
    "tags": []
   },
   "outputs": [],
   "source": [
    "MF = pd.merge(Stores,SalesProductInventory,on=\"Store_ID\",how=\"outer\")"
   ]
  },
  {
   "cell_type": "code",
   "execution_count": 12,
   "id": "da5122d6",
   "metadata": {
    "papermill": {
     "duration": 0.030592,
     "end_time": "2024-01-24T07:46:13.703139",
     "exception": false,
     "start_time": "2024-01-24T07:46:13.672547",
     "status": "completed"
    },
    "tags": []
   },
   "outputs": [
    {
     "data": {
      "text/plain": [
       "(829265, 14)"
      ]
     },
     "execution_count": 12,
     "metadata": {},
     "output_type": "execute_result"
    }
   ],
   "source": [
    "#Checking shape of dataset\n",
    "MF.shape"
   ]
  },
  {
   "cell_type": "code",
   "execution_count": 13,
   "id": "9593307f",
   "metadata": {
    "papermill": {
     "duration": 0.043635,
     "end_time": "2024-01-24T07:46:13.766504",
     "exception": false,
     "start_time": "2024-01-24T07:46:13.722869",
     "status": "completed"
    },
    "tags": []
   },
   "outputs": [
    {
     "data": {
      "text/html": [
       "<div>\n",
       "<style scoped>\n",
       "    .dataframe tbody tr th:only-of-type {\n",
       "        vertical-align: middle;\n",
       "    }\n",
       "\n",
       "    .dataframe tbody tr th {\n",
       "        vertical-align: top;\n",
       "    }\n",
       "\n",
       "    .dataframe thead th {\n",
       "        text-align: right;\n",
       "    }\n",
       "</style>\n",
       "<table border=\"1\" class=\"dataframe\">\n",
       "  <thead>\n",
       "    <tr style=\"text-align: right;\">\n",
       "      <th></th>\n",
       "      <th>Store_ID</th>\n",
       "      <th>Store_Name</th>\n",
       "      <th>Store_City</th>\n",
       "      <th>Store_Location</th>\n",
       "      <th>Store_Open_Date</th>\n",
       "      <th>Sale_ID</th>\n",
       "      <th>Date</th>\n",
       "      <th>Product_ID</th>\n",
       "      <th>Units</th>\n",
       "      <th>Stock_On_Hand</th>\n",
       "      <th>Product_Name</th>\n",
       "      <th>Product_Category</th>\n",
       "      <th>Product_Cost</th>\n",
       "      <th>Product_Price</th>\n",
       "    </tr>\n",
       "  </thead>\n",
       "  <tbody>\n",
       "    <tr>\n",
       "      <th>0</th>\n",
       "      <td>1</td>\n",
       "      <td>Maven Toys Guadalajara 1</td>\n",
       "      <td>Guadalajara</td>\n",
       "      <td>Residential</td>\n",
       "      <td>1992-09-18</td>\n",
       "      <td>6.0</td>\n",
       "      <td>2017-01-01</td>\n",
       "      <td>31</td>\n",
       "      <td>1.0</td>\n",
       "      <td>7.0</td>\n",
       "      <td>Splash Balls</td>\n",
       "      <td>Sports &amp; Outdoors</td>\n",
       "      <td>$7.99</td>\n",
       "      <td>$8.99</td>\n",
       "    </tr>\n",
       "    <tr>\n",
       "      <th>1</th>\n",
       "      <td>1</td>\n",
       "      <td>Maven Toys Guadalajara 1</td>\n",
       "      <td>Guadalajara</td>\n",
       "      <td>Residential</td>\n",
       "      <td>1992-09-18</td>\n",
       "      <td>87.0</td>\n",
       "      <td>2017-01-01</td>\n",
       "      <td>31</td>\n",
       "      <td>1.0</td>\n",
       "      <td>7.0</td>\n",
       "      <td>Splash Balls</td>\n",
       "      <td>Sports &amp; Outdoors</td>\n",
       "      <td>$7.99</td>\n",
       "      <td>$8.99</td>\n",
       "    </tr>\n",
       "    <tr>\n",
       "      <th>2</th>\n",
       "      <td>1</td>\n",
       "      <td>Maven Toys Guadalajara 1</td>\n",
       "      <td>Guadalajara</td>\n",
       "      <td>Residential</td>\n",
       "      <td>1992-09-18</td>\n",
       "      <td>420.0</td>\n",
       "      <td>2017-01-01</td>\n",
       "      <td>31</td>\n",
       "      <td>1.0</td>\n",
       "      <td>7.0</td>\n",
       "      <td>Splash Balls</td>\n",
       "      <td>Sports &amp; Outdoors</td>\n",
       "      <td>$7.99</td>\n",
       "      <td>$8.99</td>\n",
       "    </tr>\n",
       "    <tr>\n",
       "      <th>3</th>\n",
       "      <td>1</td>\n",
       "      <td>Maven Toys Guadalajara 1</td>\n",
       "      <td>Guadalajara</td>\n",
       "      <td>Residential</td>\n",
       "      <td>1992-09-18</td>\n",
       "      <td>637.0</td>\n",
       "      <td>2017-01-01</td>\n",
       "      <td>31</td>\n",
       "      <td>1.0</td>\n",
       "      <td>7.0</td>\n",
       "      <td>Splash Balls</td>\n",
       "      <td>Sports &amp; Outdoors</td>\n",
       "      <td>$7.99</td>\n",
       "      <td>$8.99</td>\n",
       "    </tr>\n",
       "    <tr>\n",
       "      <th>4</th>\n",
       "      <td>1</td>\n",
       "      <td>Maven Toys Guadalajara 1</td>\n",
       "      <td>Guadalajara</td>\n",
       "      <td>Residential</td>\n",
       "      <td>1992-09-18</td>\n",
       "      <td>745.0</td>\n",
       "      <td>2017-01-01</td>\n",
       "      <td>31</td>\n",
       "      <td>1.0</td>\n",
       "      <td>7.0</td>\n",
       "      <td>Splash Balls</td>\n",
       "      <td>Sports &amp; Outdoors</td>\n",
       "      <td>$7.99</td>\n",
       "      <td>$8.99</td>\n",
       "    </tr>\n",
       "  </tbody>\n",
       "</table>\n",
       "</div>"
      ],
      "text/plain": [
       "   Store_ID                Store_Name   Store_City Store_Location  \\\n",
       "0         1  Maven Toys Guadalajara 1  Guadalajara    Residential   \n",
       "1         1  Maven Toys Guadalajara 1  Guadalajara    Residential   \n",
       "2         1  Maven Toys Guadalajara 1  Guadalajara    Residential   \n",
       "3         1  Maven Toys Guadalajara 1  Guadalajara    Residential   \n",
       "4         1  Maven Toys Guadalajara 1  Guadalajara    Residential   \n",
       "\n",
       "  Store_Open_Date  Sale_ID        Date  Product_ID  Units  Stock_On_Hand  \\\n",
       "0      1992-09-18      6.0  2017-01-01          31    1.0            7.0   \n",
       "1      1992-09-18     87.0  2017-01-01          31    1.0            7.0   \n",
       "2      1992-09-18    420.0  2017-01-01          31    1.0            7.0   \n",
       "3      1992-09-18    637.0  2017-01-01          31    1.0            7.0   \n",
       "4      1992-09-18    745.0  2017-01-01          31    1.0            7.0   \n",
       "\n",
       "   Product_Name   Product_Category Product_Cost Product_Price  \n",
       "0  Splash Balls  Sports & Outdoors       $7.99         $8.99   \n",
       "1  Splash Balls  Sports & Outdoors       $7.99         $8.99   \n",
       "2  Splash Balls  Sports & Outdoors       $7.99         $8.99   \n",
       "3  Splash Balls  Sports & Outdoors       $7.99         $8.99   \n",
       "4  Splash Balls  Sports & Outdoors       $7.99         $8.99   "
      ]
     },
     "execution_count": 13,
     "metadata": {},
     "output_type": "execute_result"
    }
   ],
   "source": [
    "#Displaying final merged file\n",
    "MF.head()"
   ]
  },
  {
   "cell_type": "code",
   "execution_count": 14,
   "id": "8eb36861",
   "metadata": {
    "papermill": {
     "duration": 0.391575,
     "end_time": "2024-01-24T07:46:14.180361",
     "exception": false,
     "start_time": "2024-01-24T07:46:13.788786",
     "status": "completed"
    },
    "tags": []
   },
   "outputs": [
    {
     "name": "stdout",
     "output_type": "stream",
     "text": [
      "<class 'pandas.core.frame.DataFrame'>\n",
      "Int64Index: 829265 entries, 0 to 829264\n",
      "Data columns (total 14 columns):\n",
      " #   Column            Non-Null Count   Dtype  \n",
      "---  ------            --------------   -----  \n",
      " 0   Store_ID          829265 non-null  int64  \n",
      " 1   Store_Name        829265 non-null  object \n",
      " 2   Store_City        829265 non-null  object \n",
      " 3   Store_Location    829265 non-null  object \n",
      " 4   Store_Open_Date   829265 non-null  object \n",
      " 5   Sale_ID           829262 non-null  float64\n",
      " 6   Date              829262 non-null  object \n",
      " 7   Product_ID        829265 non-null  int64  \n",
      " 8   Units             829262 non-null  float64\n",
      " 9   Stock_On_Hand     823033 non-null  float64\n",
      " 10  Product_Name      823033 non-null  object \n",
      " 11  Product_Category  823033 non-null  object \n",
      " 12  Product_Cost      823033 non-null  object \n",
      " 13  Product_Price     823033 non-null  object \n",
      "dtypes: float64(3), int64(2), object(9)\n",
      "memory usage: 94.9+ MB\n"
     ]
    }
   ],
   "source": [
    "#Checking summary of final file\n",
    "MF.info()"
   ]
  },
  {
   "cell_type": "markdown",
   "id": "ef3562a6",
   "metadata": {
    "papermill": {
     "duration": 0.019399,
     "end_time": "2024-01-24T07:46:14.219820",
     "exception": false,
     "start_time": "2024-01-24T07:46:14.200421",
     "status": "completed"
    },
    "tags": []
   },
   "source": [
    "# **MISSING VALUES**"
   ]
  },
  {
   "cell_type": "code",
   "execution_count": 15,
   "id": "43417b12",
   "metadata": {
    "papermill": {
     "duration": 0.375148,
     "end_time": "2024-01-24T07:46:14.614582",
     "exception": false,
     "start_time": "2024-01-24T07:46:14.239434",
     "status": "completed"
    },
    "tags": []
   },
   "outputs": [
    {
     "name": "stdout",
     "output_type": "stream",
     "text": [
      "Store_ID               0\n",
      "Store_Name             0\n",
      "Store_City             0\n",
      "Store_Location         0\n",
      "Store_Open_Date        0\n",
      "Sale_ID                3\n",
      "Date                   3\n",
      "Product_ID             0\n",
      "Units                  3\n",
      "Stock_On_Hand       6232\n",
      "Product_Name        6232\n",
      "Product_Category    6232\n",
      "Product_Cost        6232\n",
      "Product_Price       6232\n",
      "dtype: int64\n"
     ]
    }
   ],
   "source": [
    "# Check for missing values in the DataFrame\n",
    "missing_values = MF.isnull().sum();\n",
    "\n",
    "# Print or display the missing values count for each column\n",
    "print(missing_values)"
   ]
  },
  {
   "cell_type": "markdown",
   "id": "41ebef57",
   "metadata": {
    "papermill": {
     "duration": 0.022059,
     "end_time": "2024-01-24T07:46:14.658470",
     "exception": false,
     "start_time": "2024-01-24T07:46:14.636411",
     "status": "completed"
    },
    "tags": []
   },
   "source": [
    "**Findings-**\n",
    "\n",
    "Missing Values found in 8 columns (namely- Sales_ID, Date, Units, Stock_On_Hand, Product_Name, Product_Category, Product_Cost, Product_Price)"
   ]
  },
  {
   "cell_type": "code",
   "execution_count": 16,
   "id": "beb29246",
   "metadata": {
    "papermill": {
     "duration": 0.030074,
     "end_time": "2024-01-24T07:46:14.709269",
     "exception": false,
     "start_time": "2024-01-24T07:46:14.679195",
     "status": "completed"
    },
    "tags": []
   },
   "outputs": [],
   "source": [
    "#Adjusting Display Settings for Maximum Columns\n",
    "pd.set_option('display.max_columns', None)"
   ]
  },
  {
   "cell_type": "code",
   "execution_count": 17,
   "id": "4a95f932",
   "metadata": {
    "papermill": {
     "duration": 0.043402,
     "end_time": "2024-01-24T07:46:14.774857",
     "exception": false,
     "start_time": "2024-01-24T07:46:14.731455",
     "status": "completed"
    },
    "tags": []
   },
   "outputs": [
    {
     "data": {
      "text/html": [
       "<div>\n",
       "<style scoped>\n",
       "    .dataframe tbody tr th:only-of-type {\n",
       "        vertical-align: middle;\n",
       "    }\n",
       "\n",
       "    .dataframe tbody tr th {\n",
       "        vertical-align: top;\n",
       "    }\n",
       "\n",
       "    .dataframe thead th {\n",
       "        text-align: right;\n",
       "    }\n",
       "</style>\n",
       "<table border=\"1\" class=\"dataframe\">\n",
       "  <thead>\n",
       "    <tr style=\"text-align: right;\">\n",
       "      <th></th>\n",
       "      <th>Store_ID</th>\n",
       "      <th>Store_Name</th>\n",
       "      <th>Store_City</th>\n",
       "      <th>Store_Location</th>\n",
       "      <th>Store_Open_Date</th>\n",
       "      <th>Sale_ID</th>\n",
       "      <th>Date</th>\n",
       "      <th>Product_ID</th>\n",
       "      <th>Units</th>\n",
       "      <th>Stock_On_Hand</th>\n",
       "      <th>Product_Name</th>\n",
       "      <th>Product_Category</th>\n",
       "      <th>Product_Cost</th>\n",
       "      <th>Product_Price</th>\n",
       "    </tr>\n",
       "  </thead>\n",
       "  <tbody>\n",
       "    <tr>\n",
       "      <th>238841</th>\n",
       "      <td>14</td>\n",
       "      <td>Maven Toys Guanajuato 1</td>\n",
       "      <td>Guanajuato</td>\n",
       "      <td>Downtown</td>\n",
       "      <td>2007-01-31</td>\n",
       "      <td>NaN</td>\n",
       "      <td>NaN</td>\n",
       "      <td>26</td>\n",
       "      <td>NaN</td>\n",
       "      <td>3.0</td>\n",
       "      <td>PlayDoh Playset</td>\n",
       "      <td>Art &amp; Crafts</td>\n",
       "      <td>$20.99</td>\n",
       "      <td>$24.99</td>\n",
       "    </tr>\n",
       "    <tr>\n",
       "      <th>440631</th>\n",
       "      <td>27</td>\n",
       "      <td>Maven Toys Oaxaca 1</td>\n",
       "      <td>Oaxaca</td>\n",
       "      <td>Downtown</td>\n",
       "      <td>2010-10-02</td>\n",
       "      <td>NaN</td>\n",
       "      <td>NaN</td>\n",
       "      <td>26</td>\n",
       "      <td>NaN</td>\n",
       "      <td>6.0</td>\n",
       "      <td>PlayDoh Playset</td>\n",
       "      <td>Art &amp; Crafts</td>\n",
       "      <td>$20.99</td>\n",
       "      <td>$24.99</td>\n",
       "    </tr>\n",
       "    <tr>\n",
       "      <th>472394</th>\n",
       "      <td>29</td>\n",
       "      <td>Maven Toys Xalapa 1</td>\n",
       "      <td>Xalapa</td>\n",
       "      <td>Commercial</td>\n",
       "      <td>2011-06-21</td>\n",
       "      <td>NaN</td>\n",
       "      <td>NaN</td>\n",
       "      <td>33</td>\n",
       "      <td>NaN</td>\n",
       "      <td>6.0</td>\n",
       "      <td>Teddy Bear</td>\n",
       "      <td>Toys</td>\n",
       "      <td>$10.99</td>\n",
       "      <td>$12.99</td>\n",
       "    </tr>\n",
       "  </tbody>\n",
       "</table>\n",
       "</div>"
      ],
      "text/plain": [
       "        Store_ID               Store_Name  Store_City Store_Location  \\\n",
       "238841        14  Maven Toys Guanajuato 1  Guanajuato       Downtown   \n",
       "440631        27      Maven Toys Oaxaca 1      Oaxaca       Downtown   \n",
       "472394        29      Maven Toys Xalapa 1      Xalapa     Commercial   \n",
       "\n",
       "       Store_Open_Date  Sale_ID Date  Product_ID  Units  Stock_On_Hand  \\\n",
       "238841      2007-01-31      NaN  NaN          26    NaN            3.0   \n",
       "440631      2010-10-02      NaN  NaN          26    NaN            6.0   \n",
       "472394      2011-06-21      NaN  NaN          33    NaN            6.0   \n",
       "\n",
       "           Product_Name Product_Category Product_Cost Product_Price  \n",
       "238841  PlayDoh Playset     Art & Crafts      $20.99        $24.99   \n",
       "440631  PlayDoh Playset     Art & Crafts      $20.99        $24.99   \n",
       "472394       Teddy Bear             Toys      $10.99        $12.99   "
      ]
     },
     "execution_count": 17,
     "metadata": {},
     "output_type": "execute_result"
    }
   ],
   "source": [
    "#Checking null values in column-Sale_ID\n",
    "MF[MF['Sale_ID'].isnull()]"
   ]
  },
  {
   "cell_type": "markdown",
   "id": "867330aa",
   "metadata": {
    "papermill": {
     "duration": 0.020532,
     "end_time": "2024-01-24T07:46:14.818505",
     "exception": false,
     "start_time": "2024-01-24T07:46:14.797973",
     "status": "completed"
    },
    "tags": []
   },
   "source": [
    "**Findings-**\n",
    "\n",
    "3 stores have 0 stock for some products because of which dataset is showing null values for Sale_ID, Date & Units."
   ]
  },
  {
   "cell_type": "code",
   "execution_count": 18,
   "id": "6e882db9",
   "metadata": {
    "papermill": {
     "duration": 0.030514,
     "end_time": "2024-01-24T07:46:14.870834",
     "exception": false,
     "start_time": "2024-01-24T07:46:14.840320",
     "status": "completed"
    },
    "tags": []
   },
   "outputs": [],
   "source": [
    "#TestMergedFile=MF.drop([238841, 440631, 472394])\n",
    "#TestMergedFile[TestMergedFile['Sale_ID'].isnull()]"
   ]
  },
  {
   "cell_type": "code",
   "execution_count": 19,
   "id": "6d3593bc",
   "metadata": {
    "papermill": {
     "duration": 0.164613,
     "end_time": "2024-01-24T07:46:15.057166",
     "exception": false,
     "start_time": "2024-01-24T07:46:14.892553",
     "status": "completed"
    },
    "tags": []
   },
   "outputs": [
    {
     "data": {
      "text/html": [
       "<div>\n",
       "<style scoped>\n",
       "    .dataframe tbody tr th:only-of-type {\n",
       "        vertical-align: middle;\n",
       "    }\n",
       "\n",
       "    .dataframe tbody tr th {\n",
       "        vertical-align: top;\n",
       "    }\n",
       "\n",
       "    .dataframe thead th {\n",
       "        text-align: right;\n",
       "    }\n",
       "</style>\n",
       "<table border=\"1\" class=\"dataframe\">\n",
       "  <thead>\n",
       "    <tr style=\"text-align: right;\">\n",
       "      <th></th>\n",
       "      <th>Store_ID</th>\n",
       "      <th>Store_Name</th>\n",
       "      <th>Store_City</th>\n",
       "      <th>Store_Location</th>\n",
       "      <th>Store_Open_Date</th>\n",
       "      <th>Sale_ID</th>\n",
       "      <th>Date</th>\n",
       "      <th>Product_ID</th>\n",
       "      <th>Units</th>\n",
       "      <th>Stock_On_Hand</th>\n",
       "      <th>Product_Name</th>\n",
       "      <th>Product_Category</th>\n",
       "      <th>Product_Cost</th>\n",
       "      <th>Product_Price</th>\n",
       "    </tr>\n",
       "  </thead>\n",
       "  <tbody>\n",
       "  </tbody>\n",
       "</table>\n",
       "</div>"
      ],
      "text/plain": [
       "Empty DataFrame\n",
       "Columns: [Store_ID, Store_Name, Store_City, Store_Location, Store_Open_Date, Sale_ID, Date, Product_ID, Units, Stock_On_Hand, Product_Name, Product_Category, Product_Cost, Product_Price]\n",
       "Index: []"
      ]
     },
     "execution_count": 19,
     "metadata": {},
     "output_type": "execute_result"
    }
   ],
   "source": [
    "#Removing rows where stock on hand is 0.\n",
    "MergedFile = MF[~MF['Sale_ID'].isnull()]\n",
    "\n",
    "#Rechecking Missing Values in Sale_ID column\n",
    "MergedFile[MergedFile['Sale_ID'].isnull()]"
   ]
  },
  {
   "cell_type": "code",
   "execution_count": 20,
   "id": "11628b99",
   "metadata": {
    "papermill": {
     "duration": 0.366215,
     "end_time": "2024-01-24T07:46:15.444839",
     "exception": false,
     "start_time": "2024-01-24T07:46:15.078624",
     "status": "completed"
    },
    "tags": []
   },
   "outputs": [
    {
     "name": "stdout",
     "output_type": "stream",
     "text": [
      "Store_ID               0\n",
      "Store_Name             0\n",
      "Store_City             0\n",
      "Store_Location         0\n",
      "Store_Open_Date        0\n",
      "Sale_ID                0\n",
      "Date                   0\n",
      "Product_ID             0\n",
      "Units                  0\n",
      "Stock_On_Hand       6232\n",
      "Product_Name        6232\n",
      "Product_Category    6232\n",
      "Product_Cost        6232\n",
      "Product_Price       6232\n",
      "dtype: int64\n"
     ]
    }
   ],
   "source": [
    "#Rechecking Missing Values in the dataset\n",
    "new_missing_value = MergedFile.isnull().sum();\n",
    "\n",
    "print (new_missing_value)"
   ]
  },
  {
   "cell_type": "markdown",
   "id": "b444bd7e",
   "metadata": {
    "papermill": {
     "duration": 0.019985,
     "end_time": "2024-01-24T07:46:15.485821",
     "exception": false,
     "start_time": "2024-01-24T07:46:15.465836",
     "status": "completed"
    },
    "tags": []
   },
   "source": [
    "**Findings-**\n",
    "\n",
    "Missing Values found in 5 columns (namely- Stock_On_Hand, Product_Name, Product_Category, Product_Cost, Product_Price)"
   ]
  },
  {
   "cell_type": "code",
   "execution_count": 21,
   "id": "98d2eae3",
   "metadata": {
    "papermill": {
     "duration": 0.04506,
     "end_time": "2024-01-24T07:46:15.551001",
     "exception": false,
     "start_time": "2024-01-24T07:46:15.505941",
     "status": "completed"
    },
    "tags": []
   },
   "outputs": [
    {
     "data": {
      "text/html": [
       "<div>\n",
       "<style scoped>\n",
       "    .dataframe tbody tr th:only-of-type {\n",
       "        vertical-align: middle;\n",
       "    }\n",
       "\n",
       "    .dataframe tbody tr th {\n",
       "        vertical-align: top;\n",
       "    }\n",
       "\n",
       "    .dataframe thead th {\n",
       "        text-align: right;\n",
       "    }\n",
       "</style>\n",
       "<table border=\"1\" class=\"dataframe\">\n",
       "  <thead>\n",
       "    <tr style=\"text-align: right;\">\n",
       "      <th></th>\n",
       "      <th>Store_ID</th>\n",
       "      <th>Store_Name</th>\n",
       "      <th>Store_City</th>\n",
       "      <th>Store_Location</th>\n",
       "      <th>Store_Open_Date</th>\n",
       "      <th>Sale_ID</th>\n",
       "      <th>Date</th>\n",
       "      <th>Product_ID</th>\n",
       "      <th>Units</th>\n",
       "      <th>Stock_On_Hand</th>\n",
       "      <th>Product_Name</th>\n",
       "      <th>Product_Category</th>\n",
       "      <th>Product_Cost</th>\n",
       "      <th>Product_Price</th>\n",
       "    </tr>\n",
       "  </thead>\n",
       "  <tbody>\n",
       "    <tr>\n",
       "      <th>28060</th>\n",
       "      <td>2</td>\n",
       "      <td>Maven Toys Monterrey 1</td>\n",
       "      <td>Monterrey</td>\n",
       "      <td>Residential</td>\n",
       "      <td>1995-04-27</td>\n",
       "      <td>143683.0</td>\n",
       "      <td>2017-05-16</td>\n",
       "      <td>16</td>\n",
       "      <td>1.0</td>\n",
       "      <td>NaN</td>\n",
       "      <td>NaN</td>\n",
       "      <td>NaN</td>\n",
       "      <td>NaN</td>\n",
       "      <td>NaN</td>\n",
       "    </tr>\n",
       "    <tr>\n",
       "      <th>28061</th>\n",
       "      <td>2</td>\n",
       "      <td>Maven Toys Monterrey 1</td>\n",
       "      <td>Monterrey</td>\n",
       "      <td>Residential</td>\n",
       "      <td>1995-04-27</td>\n",
       "      <td>143687.0</td>\n",
       "      <td>2017-05-16</td>\n",
       "      <td>16</td>\n",
       "      <td>1.0</td>\n",
       "      <td>NaN</td>\n",
       "      <td>NaN</td>\n",
       "      <td>NaN</td>\n",
       "      <td>NaN</td>\n",
       "      <td>NaN</td>\n",
       "    </tr>\n",
       "    <tr>\n",
       "      <th>28062</th>\n",
       "      <td>2</td>\n",
       "      <td>Maven Toys Monterrey 1</td>\n",
       "      <td>Monterrey</td>\n",
       "      <td>Residential</td>\n",
       "      <td>1995-04-27</td>\n",
       "      <td>143908.0</td>\n",
       "      <td>2017-05-16</td>\n",
       "      <td>16</td>\n",
       "      <td>1.0</td>\n",
       "      <td>NaN</td>\n",
       "      <td>NaN</td>\n",
       "      <td>NaN</td>\n",
       "      <td>NaN</td>\n",
       "      <td>NaN</td>\n",
       "    </tr>\n",
       "    <tr>\n",
       "      <th>28063</th>\n",
       "      <td>2</td>\n",
       "      <td>Maven Toys Monterrey 1</td>\n",
       "      <td>Monterrey</td>\n",
       "      <td>Residential</td>\n",
       "      <td>1995-04-27</td>\n",
       "      <td>161143.0</td>\n",
       "      <td>2017-05-31</td>\n",
       "      <td>16</td>\n",
       "      <td>1.0</td>\n",
       "      <td>NaN</td>\n",
       "      <td>NaN</td>\n",
       "      <td>NaN</td>\n",
       "      <td>NaN</td>\n",
       "      <td>NaN</td>\n",
       "    </tr>\n",
       "    <tr>\n",
       "      <th>28064</th>\n",
       "      <td>2</td>\n",
       "      <td>Maven Toys Monterrey 1</td>\n",
       "      <td>Monterrey</td>\n",
       "      <td>Residential</td>\n",
       "      <td>1995-04-27</td>\n",
       "      <td>161174.0</td>\n",
       "      <td>2017-05-31</td>\n",
       "      <td>16</td>\n",
       "      <td>1.0</td>\n",
       "      <td>NaN</td>\n",
       "      <td>NaN</td>\n",
       "      <td>NaN</td>\n",
       "      <td>NaN</td>\n",
       "      <td>NaN</td>\n",
       "    </tr>\n",
       "  </tbody>\n",
       "</table>\n",
       "</div>"
      ],
      "text/plain": [
       "       Store_ID              Store_Name Store_City Store_Location  \\\n",
       "28060         2  Maven Toys Monterrey 1  Monterrey    Residential   \n",
       "28061         2  Maven Toys Monterrey 1  Monterrey    Residential   \n",
       "28062         2  Maven Toys Monterrey 1  Monterrey    Residential   \n",
       "28063         2  Maven Toys Monterrey 1  Monterrey    Residential   \n",
       "28064         2  Maven Toys Monterrey 1  Monterrey    Residential   \n",
       "\n",
       "      Store_Open_Date   Sale_ID        Date  Product_ID  Units  Stock_On_Hand  \\\n",
       "28060      1995-04-27  143683.0  2017-05-16          16    1.0            NaN   \n",
       "28061      1995-04-27  143687.0  2017-05-16          16    1.0            NaN   \n",
       "28062      1995-04-27  143908.0  2017-05-16          16    1.0            NaN   \n",
       "28063      1995-04-27  161143.0  2017-05-31          16    1.0            NaN   \n",
       "28064      1995-04-27  161174.0  2017-05-31          16    1.0            NaN   \n",
       "\n",
       "      Product_Name Product_Category Product_Cost Product_Price  \n",
       "28060          NaN              NaN          NaN           NaN  \n",
       "28061          NaN              NaN          NaN           NaN  \n",
       "28062          NaN              NaN          NaN           NaN  \n",
       "28063          NaN              NaN          NaN           NaN  \n",
       "28064          NaN              NaN          NaN           NaN  "
      ]
     },
     "execution_count": 21,
     "metadata": {},
     "output_type": "execute_result"
    }
   ],
   "source": [
    "#Checking null values in column-Stock_On_Hand\n",
    "MergedFile[MergedFile['Stock_On_Hand'].isnull()].head()"
   ]
  },
  {
   "cell_type": "code",
   "execution_count": 22,
   "id": "b1a92ee8",
   "metadata": {
    "papermill": {
     "duration": 0.035153,
     "end_time": "2024-01-24T07:46:15.606416",
     "exception": false,
     "start_time": "2024-01-24T07:46:15.571263",
     "status": "completed"
    },
    "tags": []
   },
   "outputs": [
    {
     "name": "stdout",
     "output_type": "stream",
     "text": [
      "[16 20  5 35  4 22 29 23]\n"
     ]
    }
   ],
   "source": [
    "#Checking Product_ID of the Out of Stock products.\n",
    "unique_null_stock_ids = MergedFile.loc[MergedFile['Stock_On_Hand'].isnull(), 'Product_ID'].unique()\n",
    "print(unique_null_stock_ids)"
   ]
  },
  {
   "cell_type": "markdown",
   "id": "bcb6171d",
   "metadata": {
    "papermill": {
     "duration": 0.020157,
     "end_time": "2024-01-24T07:46:15.647434",
     "exception": false,
     "start_time": "2024-01-24T07:46:15.627277",
     "status": "completed"
    },
    "tags": []
   },
   "source": [
    "**Findings-**\n",
    "\n",
    "8 products have went Out Stock after sale and store is yet to restock Product_IDs- 4, 5, 16, 20, 22, 23, 29, 35."
   ]
  },
  {
   "cell_type": "code",
   "execution_count": 23,
   "id": "973b9bb8",
   "metadata": {
    "papermill": {
     "duration": 0.377963,
     "end_time": "2024-01-24T07:46:16.046391",
     "exception": false,
     "start_time": "2024-01-24T07:46:15.668428",
     "status": "completed"
    },
    "tags": []
   },
   "outputs": [
    {
     "name": "stderr",
     "output_type": "stream",
     "text": [
      "C:\\Users\\Dell 3400\\AppData\\Local\\Temp\\ipykernel_23404\\2518833657.py:5: SettingWithCopyWarning: \n",
      "A value is trying to be set on a copy of a slice from a DataFrame.\n",
      "Try using .loc[row_indexer,col_indexer] = value instead\n",
      "\n",
      "See the caveats in the documentation: https://pandas.pydata.org/pandas-docs/stable/user_guide/indexing.html#returning-a-view-versus-a-copy\n",
      "  MergedFile['Product_Name'] = MergedFile['Product_Name'].fillna(MergedFile['Product_ID'].map(Products.set_index('Product_ID')['Product_Name']))\n",
      "C:\\Users\\Dell 3400\\AppData\\Local\\Temp\\ipykernel_23404\\2518833657.py:6: SettingWithCopyWarning: \n",
      "A value is trying to be set on a copy of a slice from a DataFrame.\n",
      "Try using .loc[row_indexer,col_indexer] = value instead\n",
      "\n",
      "See the caveats in the documentation: https://pandas.pydata.org/pandas-docs/stable/user_guide/indexing.html#returning-a-view-versus-a-copy\n",
      "  MergedFile['Product_Category'] = MergedFile['Product_Category'].fillna(MergedFile['Product_ID'].map(Products.set_index('Product_ID')['Product_Category']))\n",
      "C:\\Users\\Dell 3400\\AppData\\Local\\Temp\\ipykernel_23404\\2518833657.py:7: SettingWithCopyWarning: \n",
      "A value is trying to be set on a copy of a slice from a DataFrame.\n",
      "Try using .loc[row_indexer,col_indexer] = value instead\n",
      "\n",
      "See the caveats in the documentation: https://pandas.pydata.org/pandas-docs/stable/user_guide/indexing.html#returning-a-view-versus-a-copy\n",
      "  MergedFile['Product_Cost'] = MergedFile['Product_Cost'].fillna(MergedFile['Product_ID'].map(Products.set_index('Product_ID')['Product_Cost']))\n",
      "C:\\Users\\Dell 3400\\AppData\\Local\\Temp\\ipykernel_23404\\2518833657.py:8: SettingWithCopyWarning: \n",
      "A value is trying to be set on a copy of a slice from a DataFrame.\n",
      "Try using .loc[row_indexer,col_indexer] = value instead\n",
      "\n",
      "See the caveats in the documentation: https://pandas.pydata.org/pandas-docs/stable/user_guide/indexing.html#returning-a-view-versus-a-copy\n",
      "  MergedFile['Product_Price'] = MergedFile['Product_Price'].fillna(MergedFile['Product_ID'].map(Products.set_index('Product_ID')['Product_Price']))\n"
     ]
    }
   ],
   "source": [
    "#Changing all NaN value to 0 for column Stock_On_Hand\n",
    "MergedFile.loc[MergedFile['Stock_On_Hand'].isnull(), 'Stock_On_Hand'] = 0\n",
    "\n",
    "# Replacing NaN values for Product_Name, Product_Category, Product_Cost & Product_Price via 'Product_ID' as a common column between 'MergedFile' and 'Product'\n",
    "MergedFile['Product_Name'] = MergedFile['Product_Name'].fillna(MergedFile['Product_ID'].map(Products.set_index('Product_ID')['Product_Name']))\n",
    "MergedFile['Product_Category'] = MergedFile['Product_Category'].fillna(MergedFile['Product_ID'].map(Products.set_index('Product_ID')['Product_Category']))\n",
    "MergedFile['Product_Cost'] = MergedFile['Product_Cost'].fillna(MergedFile['Product_ID'].map(Products.set_index('Product_ID')['Product_Cost']))\n",
    "MergedFile['Product_Price'] = MergedFile['Product_Price'].fillna(MergedFile['Product_ID'].map(Products.set_index('Product_ID')['Product_Price']))"
   ]
  },
  {
   "cell_type": "code",
   "execution_count": 24,
   "id": "cde1dccd",
   "metadata": {
    "papermill": {
     "duration": 0.377836,
     "end_time": "2024-01-24T07:46:16.444932",
     "exception": false,
     "start_time": "2024-01-24T07:46:16.067096",
     "status": "completed"
    },
    "tags": []
   },
   "outputs": [
    {
     "name": "stdout",
     "output_type": "stream",
     "text": [
      "Store_ID            0\n",
      "Store_Name          0\n",
      "Store_City          0\n",
      "Store_Location      0\n",
      "Store_Open_Date     0\n",
      "Sale_ID             0\n",
      "Date                0\n",
      "Product_ID          0\n",
      "Units               0\n",
      "Stock_On_Hand       0\n",
      "Product_Name        0\n",
      "Product_Category    0\n",
      "Product_Cost        0\n",
      "Product_Price       0\n",
      "dtype: int64\n"
     ]
    }
   ],
   "source": [
    "#Rechecking Missing Values in the dataset.\n",
    "new_missing_value1 = MergedFile.isnull().sum();\n",
    "\n",
    "print (new_missing_value1)"
   ]
  },
  {
   "cell_type": "markdown",
   "id": "830df9fe",
   "metadata": {
    "papermill": {
     "duration": 0.021423,
     "end_time": "2024-01-24T07:46:16.488795",
     "exception": false,
     "start_time": "2024-01-24T07:46:16.467372",
     "status": "completed"
    },
    "tags": []
   },
   "source": [
    "# **Summary-**\n",
    "\n",
    "**Products that were out of stock for year 2017-2018 -**\n",
    "*   PlayDoh Playset (Product_ID- 26) at Maven Toys Guanajuato 1\n",
    "*   PlayDoh Playset (Product_ID- 26) at Maven Toys Oaxaca 1\n",
    "*   Teddy Bear (Product_ID- 33) at Maven Toys Xalapa 1\n",
    "\n",
    "\n",
    "**Products that went out of stock after last sale and is yet to be restocked -**\n",
    "*   Chutes & Ladders (Product_ID- 4)\n",
    "*   Classic Dominoes (Product_ID- 5)\n",
    "*   Jenga (Product_ID- 16)\n",
    "*   Mini Basketball Hoop (Product_ID- 20)\n",
    "*   Monopoly (Product_ID- 22)\n",
    "*   Mr. Potatohead (Product_ID- 23)\n",
    "*   Plush Pony (Product_ID- 29)\n",
    "*   Uno Card Game (Product_ID- 35)"
   ]
  },
  {
   "cell_type": "markdown",
   "id": "e36136ee",
   "metadata": {
    "papermill": {
     "duration": 0.022239,
     "end_time": "2024-01-24T07:46:16.532742",
     "exception": false,
     "start_time": "2024-01-24T07:46:16.510503",
     "status": "completed"
    },
    "tags": []
   },
   "source": [
    "# **Outlier Treatment**"
   ]
  },
  {
   "cell_type": "code",
   "execution_count": 25,
   "id": "80d319a6",
   "metadata": {
    "papermill": {
     "duration": 1.328501,
     "end_time": "2024-01-24T07:46:17.884638",
     "exception": false,
     "start_time": "2024-01-24T07:46:16.556137",
     "status": "completed"
    },
    "tags": []
   },
   "outputs": [
    {
     "name": "stderr",
     "output_type": "stream",
     "text": [
      "C:\\Users\\Dell 3400\\AppData\\Local\\Temp\\ipykernel_23404\\69184646.py:3: FutureWarning: The default value of regex will change from True to False in a future version. In addition, single character regular expressions will *not* be treated as literal strings when regex=True.\n",
      "  MergedFile[\"Product_Price\"] = pd.to_numeric(MergedFile[\"Product_Price\"].str.replace(\"$\", \"\"), errors ='coerce')\n",
      "C:\\Users\\Dell 3400\\AppData\\Local\\Temp\\ipykernel_23404\\69184646.py:3: SettingWithCopyWarning: \n",
      "A value is trying to be set on a copy of a slice from a DataFrame.\n",
      "Try using .loc[row_indexer,col_indexer] = value instead\n",
      "\n",
      "See the caveats in the documentation: https://pandas.pydata.org/pandas-docs/stable/user_guide/indexing.html#returning-a-view-versus-a-copy\n",
      "  MergedFile[\"Product_Price\"] = pd.to_numeric(MergedFile[\"Product_Price\"].str.replace(\"$\", \"\"), errors ='coerce')\n",
      "C:\\Users\\Dell 3400\\AppData\\Local\\Temp\\ipykernel_23404\\69184646.py:4: FutureWarning: The default value of regex will change from True to False in a future version. In addition, single character regular expressions will *not* be treated as literal strings when regex=True.\n",
      "  MergedFile[\"Product_Cost\"] = pd.to_numeric(MergedFile[\"Product_Cost\"].str.replace(\"$\", \"\"), errors= 'coerce')\n",
      "C:\\Users\\Dell 3400\\AppData\\Local\\Temp\\ipykernel_23404\\69184646.py:4: SettingWithCopyWarning: \n",
      "A value is trying to be set on a copy of a slice from a DataFrame.\n",
      "Try using .loc[row_indexer,col_indexer] = value instead\n",
      "\n",
      "See the caveats in the documentation: https://pandas.pydata.org/pandas-docs/stable/user_guide/indexing.html#returning-a-view-versus-a-copy\n",
      "  MergedFile[\"Product_Cost\"] = pd.to_numeric(MergedFile[\"Product_Cost\"].str.replace(\"$\", \"\"), errors= 'coerce')\n"
     ]
    },
    {
     "data": {
      "text/html": [
       "<div>\n",
       "<style scoped>\n",
       "    .dataframe tbody tr th:only-of-type {\n",
       "        vertical-align: middle;\n",
       "    }\n",
       "\n",
       "    .dataframe tbody tr th {\n",
       "        vertical-align: top;\n",
       "    }\n",
       "\n",
       "    .dataframe thead th {\n",
       "        text-align: right;\n",
       "    }\n",
       "</style>\n",
       "<table border=\"1\" class=\"dataframe\">\n",
       "  <thead>\n",
       "    <tr style=\"text-align: right;\">\n",
       "      <th></th>\n",
       "      <th>Store_ID</th>\n",
       "      <th>Store_Name</th>\n",
       "      <th>Store_City</th>\n",
       "      <th>Store_Location</th>\n",
       "      <th>Store_Open_Date</th>\n",
       "      <th>Sale_ID</th>\n",
       "      <th>Date</th>\n",
       "      <th>Product_ID</th>\n",
       "      <th>Units</th>\n",
       "      <th>Stock_On_Hand</th>\n",
       "      <th>Product_Name</th>\n",
       "      <th>Product_Category</th>\n",
       "      <th>Product_Cost</th>\n",
       "      <th>Product_Price</th>\n",
       "    </tr>\n",
       "  </thead>\n",
       "  <tbody>\n",
       "    <tr>\n",
       "      <th>0</th>\n",
       "      <td>1</td>\n",
       "      <td>Maven Toys Guadalajara 1</td>\n",
       "      <td>Guadalajara</td>\n",
       "      <td>Residential</td>\n",
       "      <td>1992-09-18</td>\n",
       "      <td>6.0</td>\n",
       "      <td>2017-01-01</td>\n",
       "      <td>31</td>\n",
       "      <td>1.0</td>\n",
       "      <td>7.0</td>\n",
       "      <td>Splash Balls</td>\n",
       "      <td>Sports &amp; Outdoors</td>\n",
       "      <td>7.99</td>\n",
       "      <td>8.99</td>\n",
       "    </tr>\n",
       "    <tr>\n",
       "      <th>1</th>\n",
       "      <td>1</td>\n",
       "      <td>Maven Toys Guadalajara 1</td>\n",
       "      <td>Guadalajara</td>\n",
       "      <td>Residential</td>\n",
       "      <td>1992-09-18</td>\n",
       "      <td>87.0</td>\n",
       "      <td>2017-01-01</td>\n",
       "      <td>31</td>\n",
       "      <td>1.0</td>\n",
       "      <td>7.0</td>\n",
       "      <td>Splash Balls</td>\n",
       "      <td>Sports &amp; Outdoors</td>\n",
       "      <td>7.99</td>\n",
       "      <td>8.99</td>\n",
       "    </tr>\n",
       "    <tr>\n",
       "      <th>2</th>\n",
       "      <td>1</td>\n",
       "      <td>Maven Toys Guadalajara 1</td>\n",
       "      <td>Guadalajara</td>\n",
       "      <td>Residential</td>\n",
       "      <td>1992-09-18</td>\n",
       "      <td>420.0</td>\n",
       "      <td>2017-01-01</td>\n",
       "      <td>31</td>\n",
       "      <td>1.0</td>\n",
       "      <td>7.0</td>\n",
       "      <td>Splash Balls</td>\n",
       "      <td>Sports &amp; Outdoors</td>\n",
       "      <td>7.99</td>\n",
       "      <td>8.99</td>\n",
       "    </tr>\n",
       "    <tr>\n",
       "      <th>3</th>\n",
       "      <td>1</td>\n",
       "      <td>Maven Toys Guadalajara 1</td>\n",
       "      <td>Guadalajara</td>\n",
       "      <td>Residential</td>\n",
       "      <td>1992-09-18</td>\n",
       "      <td>637.0</td>\n",
       "      <td>2017-01-01</td>\n",
       "      <td>31</td>\n",
       "      <td>1.0</td>\n",
       "      <td>7.0</td>\n",
       "      <td>Splash Balls</td>\n",
       "      <td>Sports &amp; Outdoors</td>\n",
       "      <td>7.99</td>\n",
       "      <td>8.99</td>\n",
       "    </tr>\n",
       "    <tr>\n",
       "      <th>4</th>\n",
       "      <td>1</td>\n",
       "      <td>Maven Toys Guadalajara 1</td>\n",
       "      <td>Guadalajara</td>\n",
       "      <td>Residential</td>\n",
       "      <td>1992-09-18</td>\n",
       "      <td>745.0</td>\n",
       "      <td>2017-01-01</td>\n",
       "      <td>31</td>\n",
       "      <td>1.0</td>\n",
       "      <td>7.0</td>\n",
       "      <td>Splash Balls</td>\n",
       "      <td>Sports &amp; Outdoors</td>\n",
       "      <td>7.99</td>\n",
       "      <td>8.99</td>\n",
       "    </tr>\n",
       "  </tbody>\n",
       "</table>\n",
       "</div>"
      ],
      "text/plain": [
       "   Store_ID                Store_Name   Store_City Store_Location  \\\n",
       "0         1  Maven Toys Guadalajara 1  Guadalajara    Residential   \n",
       "1         1  Maven Toys Guadalajara 1  Guadalajara    Residential   \n",
       "2         1  Maven Toys Guadalajara 1  Guadalajara    Residential   \n",
       "3         1  Maven Toys Guadalajara 1  Guadalajara    Residential   \n",
       "4         1  Maven Toys Guadalajara 1  Guadalajara    Residential   \n",
       "\n",
       "  Store_Open_Date  Sale_ID        Date  Product_ID  Units  Stock_On_Hand  \\\n",
       "0      1992-09-18      6.0  2017-01-01          31    1.0            7.0   \n",
       "1      1992-09-18     87.0  2017-01-01          31    1.0            7.0   \n",
       "2      1992-09-18    420.0  2017-01-01          31    1.0            7.0   \n",
       "3      1992-09-18    637.0  2017-01-01          31    1.0            7.0   \n",
       "4      1992-09-18    745.0  2017-01-01          31    1.0            7.0   \n",
       "\n",
       "   Product_Name   Product_Category  Product_Cost  Product_Price  \n",
       "0  Splash Balls  Sports & Outdoors          7.99           8.99  \n",
       "1  Splash Balls  Sports & Outdoors          7.99           8.99  \n",
       "2  Splash Balls  Sports & Outdoors          7.99           8.99  \n",
       "3  Splash Balls  Sports & Outdoors          7.99           8.99  \n",
       "4  Splash Balls  Sports & Outdoors          7.99           8.99  "
      ]
     },
     "execution_count": 25,
     "metadata": {},
     "output_type": "execute_result"
    }
   ],
   "source": [
    "#Removing $ and spaces to avoid calculation issues\n",
    "\n",
    "MergedFile[\"Product_Price\"] = pd.to_numeric(MergedFile[\"Product_Price\"].str.replace(\"$\", \"\"), errors ='coerce')\n",
    "MergedFile[\"Product_Cost\"] = pd.to_numeric(MergedFile[\"Product_Cost\"].str.replace(\"$\", \"\"), errors= 'coerce')\n",
    "\n",
    "MergedFile.head()"
   ]
  },
  {
   "cell_type": "code",
   "execution_count": 26,
   "id": "6b8a6e08",
   "metadata": {
    "papermill": {
     "duration": 0.047497,
     "end_time": "2024-01-24T07:46:17.954471",
     "exception": false,
     "start_time": "2024-01-24T07:46:17.906974",
     "status": "completed"
    },
    "tags": []
   },
   "outputs": [
    {
     "data": {
      "text/html": [
       "<div>\n",
       "<style scoped>\n",
       "    .dataframe tbody tr th:only-of-type {\n",
       "        vertical-align: middle;\n",
       "    }\n",
       "\n",
       "    .dataframe tbody tr th {\n",
       "        vertical-align: top;\n",
       "    }\n",
       "\n",
       "    .dataframe thead th {\n",
       "        text-align: right;\n",
       "    }\n",
       "</style>\n",
       "<table border=\"1\" class=\"dataframe\">\n",
       "  <thead>\n",
       "    <tr style=\"text-align: right;\">\n",
       "      <th></th>\n",
       "      <th>Store_ID</th>\n",
       "      <th>Store_Name</th>\n",
       "      <th>Store_City</th>\n",
       "      <th>Store_Location</th>\n",
       "      <th>Store_Open_Date</th>\n",
       "      <th>Sale_ID</th>\n",
       "      <th>Date</th>\n",
       "      <th>Product_ID</th>\n",
       "      <th>Units</th>\n",
       "      <th>Stock_On_Hand</th>\n",
       "      <th>Product_Name</th>\n",
       "      <th>Product_Category</th>\n",
       "      <th>Product_Cost</th>\n",
       "      <th>Product_Price</th>\n",
       "    </tr>\n",
       "  </thead>\n",
       "  <tbody>\n",
       "    <tr>\n",
       "      <th>0</th>\n",
       "      <td>1</td>\n",
       "      <td>Maven Toys Guadalajara 1</td>\n",
       "      <td>Guadalajara</td>\n",
       "      <td>Residential</td>\n",
       "      <td>1992-09-18</td>\n",
       "      <td>6.0</td>\n",
       "      <td>2017-01-01</td>\n",
       "      <td>31</td>\n",
       "      <td>1.0</td>\n",
       "      <td>7.0</td>\n",
       "      <td>Splash Balls</td>\n",
       "      <td>Sports &amp; Outdoors</td>\n",
       "      <td>7.99</td>\n",
       "      <td>8.99</td>\n",
       "    </tr>\n",
       "    <tr>\n",
       "      <th>1</th>\n",
       "      <td>1</td>\n",
       "      <td>Maven Toys Guadalajara 1</td>\n",
       "      <td>Guadalajara</td>\n",
       "      <td>Residential</td>\n",
       "      <td>1992-09-18</td>\n",
       "      <td>87.0</td>\n",
       "      <td>2017-01-01</td>\n",
       "      <td>31</td>\n",
       "      <td>1.0</td>\n",
       "      <td>7.0</td>\n",
       "      <td>Splash Balls</td>\n",
       "      <td>Sports &amp; Outdoors</td>\n",
       "      <td>7.99</td>\n",
       "      <td>8.99</td>\n",
       "    </tr>\n",
       "    <tr>\n",
       "      <th>2</th>\n",
       "      <td>1</td>\n",
       "      <td>Maven Toys Guadalajara 1</td>\n",
       "      <td>Guadalajara</td>\n",
       "      <td>Residential</td>\n",
       "      <td>1992-09-18</td>\n",
       "      <td>420.0</td>\n",
       "      <td>2017-01-01</td>\n",
       "      <td>31</td>\n",
       "      <td>1.0</td>\n",
       "      <td>7.0</td>\n",
       "      <td>Splash Balls</td>\n",
       "      <td>Sports &amp; Outdoors</td>\n",
       "      <td>7.99</td>\n",
       "      <td>8.99</td>\n",
       "    </tr>\n",
       "    <tr>\n",
       "      <th>3</th>\n",
       "      <td>1</td>\n",
       "      <td>Maven Toys Guadalajara 1</td>\n",
       "      <td>Guadalajara</td>\n",
       "      <td>Residential</td>\n",
       "      <td>1992-09-18</td>\n",
       "      <td>637.0</td>\n",
       "      <td>2017-01-01</td>\n",
       "      <td>31</td>\n",
       "      <td>1.0</td>\n",
       "      <td>7.0</td>\n",
       "      <td>Splash Balls</td>\n",
       "      <td>Sports &amp; Outdoors</td>\n",
       "      <td>7.99</td>\n",
       "      <td>8.99</td>\n",
       "    </tr>\n",
       "    <tr>\n",
       "      <th>4</th>\n",
       "      <td>1</td>\n",
       "      <td>Maven Toys Guadalajara 1</td>\n",
       "      <td>Guadalajara</td>\n",
       "      <td>Residential</td>\n",
       "      <td>1992-09-18</td>\n",
       "      <td>745.0</td>\n",
       "      <td>2017-01-01</td>\n",
       "      <td>31</td>\n",
       "      <td>1.0</td>\n",
       "      <td>7.0</td>\n",
       "      <td>Splash Balls</td>\n",
       "      <td>Sports &amp; Outdoors</td>\n",
       "      <td>7.99</td>\n",
       "      <td>8.99</td>\n",
       "    </tr>\n",
       "  </tbody>\n",
       "</table>\n",
       "</div>"
      ],
      "text/plain": [
       "   Store_ID                Store_Name   Store_City Store_Location  \\\n",
       "0         1  Maven Toys Guadalajara 1  Guadalajara    Residential   \n",
       "1         1  Maven Toys Guadalajara 1  Guadalajara    Residential   \n",
       "2         1  Maven Toys Guadalajara 1  Guadalajara    Residential   \n",
       "3         1  Maven Toys Guadalajara 1  Guadalajara    Residential   \n",
       "4         1  Maven Toys Guadalajara 1  Guadalajara    Residential   \n",
       "\n",
       "  Store_Open_Date  Sale_ID        Date  Product_ID  Units  Stock_On_Hand  \\\n",
       "0      1992-09-18      6.0  2017-01-01          31    1.0            7.0   \n",
       "1      1992-09-18     87.0  2017-01-01          31    1.0            7.0   \n",
       "2      1992-09-18    420.0  2017-01-01          31    1.0            7.0   \n",
       "3      1992-09-18    637.0  2017-01-01          31    1.0            7.0   \n",
       "4      1992-09-18    745.0  2017-01-01          31    1.0            7.0   \n",
       "\n",
       "   Product_Name   Product_Category  Product_Cost  Product_Price  \n",
       "0  Splash Balls  Sports & Outdoors          7.99           8.99  \n",
       "1  Splash Balls  Sports & Outdoors          7.99           8.99  \n",
       "2  Splash Balls  Sports & Outdoors          7.99           8.99  \n",
       "3  Splash Balls  Sports & Outdoors          7.99           8.99  \n",
       "4  Splash Balls  Sports & Outdoors          7.99           8.99  "
      ]
     },
     "execution_count": 26,
     "metadata": {},
     "output_type": "execute_result"
    }
   ],
   "source": [
    "MergedFile.head()"
   ]
  },
  {
   "cell_type": "markdown",
   "id": "0c07a0ed",
   "metadata": {
    "papermill": {
     "duration": 0.0214,
     "end_time": "2024-01-24T07:46:17.998717",
     "exception": false,
     "start_time": "2024-01-24T07:46:17.977317",
     "status": "completed"
    },
    "tags": []
   },
   "source": [
    "# **Method Used for Treating Outliers**\n",
    "\n",
    "**L2 normalization** is like resizing a vector (list of numbers) to have a length of 1 while maintaining the direction of the original vector. It's a way to make sure that the values are scaled proportionally in a manner that the overall \"magnitude\" is 1. This is useful in various mathematical and machine learning contexts.\n",
    "\n",
    "\n",
    "**L2 Normalization Formula-**![image.png](data:image/png;base64,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)"
   ]
  },
  {
   "cell_type": "markdown",
   "id": "b5026c7f",
   "metadata": {
    "papermill": {
     "duration": 0.021234,
     "end_time": "2024-01-24T07:46:18.041744",
     "exception": false,
     "start_time": "2024-01-24T07:46:18.020510",
     "status": "completed"
    },
    "tags": []
   },
   "source": [
    "**Outlier Treatment on Product Cost**"
   ]
  },
  {
   "cell_type": "code",
   "execution_count": 27,
   "id": "9181502e",
   "metadata": {
    "papermill": {
     "duration": 0.049734,
     "end_time": "2024-01-24T07:46:18.112986",
     "exception": false,
     "start_time": "2024-01-24T07:46:18.063252",
     "status": "completed"
    },
    "tags": []
   },
   "outputs": [
    {
     "name": "stdout",
     "output_type": "stream",
     "text": [
      "Mean: 9.976460250198377\n",
      "Standard Deviation: 7.817748541982314\n",
      "Minimum Value: 1.99\n",
      "Maximum Value: 34.99\n"
     ]
    }
   ],
   "source": [
    "# Calculate mean, standard deviation, and 3 times the standard deviation\n",
    "\n",
    "PC_mean = MergedFile['Product_Cost'].mean()\n",
    "PC_std_deviation = MergedFile['Product_Cost'].std()\n",
    "PC_Minimum_Value = MergedFile['Product_Cost'].min()\n",
    "PC_Maximum_Value = MergedFile['Product_Cost'].max()\n",
    "\n",
    "print(\"Mean:\", PC_mean)\n",
    "print(\"Standard Deviation:\", PC_std_deviation)\n",
    "print(\"Minimum Value:\", PC_Minimum_Value)\n",
    "print(\"Maximum Value:\", PC_Maximum_Value)"
   ]
  },
  {
   "cell_type": "code",
   "execution_count": 28,
   "id": "e16c427f",
   "metadata": {
    "papermill": {
     "duration": 0.062594,
     "end_time": "2024-01-24T07:46:18.198007",
     "exception": false,
     "start_time": "2024-01-24T07:46:18.135413",
     "status": "completed"
    },
    "tags": []
   },
   "outputs": [
    {
     "name": "stderr",
     "output_type": "stream",
     "text": [
      "C:\\Users\\Dell 3400\\AppData\\Local\\Temp\\ipykernel_23404\\1204364562.py:6: SettingWithCopyWarning: \n",
      "A value is trying to be set on a copy of a slice from a DataFrame.\n",
      "Try using .loc[row_indexer,col_indexer] = value instead\n",
      "\n",
      "See the caveats in the documentation: https://pandas.pydata.org/pandas-docs/stable/user_guide/indexing.html#returning-a-view-versus-a-copy\n",
      "  MergedFile['Product_Cost_Normalized'] = PC_normalized_arr.flatten()\n"
     ]
    },
    {
     "data": {
      "text/html": [
       "<div>\n",
       "<style scoped>\n",
       "    .dataframe tbody tr th:only-of-type {\n",
       "        vertical-align: middle;\n",
       "    }\n",
       "\n",
       "    .dataframe tbody tr th {\n",
       "        vertical-align: top;\n",
       "    }\n",
       "\n",
       "    .dataframe thead th {\n",
       "        text-align: right;\n",
       "    }\n",
       "</style>\n",
       "<table border=\"1\" class=\"dataframe\">\n",
       "  <thead>\n",
       "    <tr style=\"text-align: right;\">\n",
       "      <th></th>\n",
       "      <th>Store_ID</th>\n",
       "      <th>Store_Name</th>\n",
       "      <th>Store_City</th>\n",
       "      <th>Store_Location</th>\n",
       "      <th>Store_Open_Date</th>\n",
       "      <th>Sale_ID</th>\n",
       "      <th>Date</th>\n",
       "      <th>Product_ID</th>\n",
       "      <th>Units</th>\n",
       "      <th>Stock_On_Hand</th>\n",
       "      <th>Product_Name</th>\n",
       "      <th>Product_Category</th>\n",
       "      <th>Product_Cost</th>\n",
       "      <th>Product_Price</th>\n",
       "      <th>Product_Cost_Normalized</th>\n",
       "    </tr>\n",
       "  </thead>\n",
       "  <tbody>\n",
       "    <tr>\n",
       "      <th>0</th>\n",
       "      <td>1</td>\n",
       "      <td>Maven Toys Guadalajara 1</td>\n",
       "      <td>Guadalajara</td>\n",
       "      <td>Residential</td>\n",
       "      <td>1992-09-18</td>\n",
       "      <td>6.0</td>\n",
       "      <td>2017-01-01</td>\n",
       "      <td>31</td>\n",
       "      <td>1.0</td>\n",
       "      <td>7.0</td>\n",
       "      <td>Splash Balls</td>\n",
       "      <td>Sports &amp; Outdoors</td>\n",
       "      <td>7.99</td>\n",
       "      <td>8.99</td>\n",
       "      <td>0.000692</td>\n",
       "    </tr>\n",
       "    <tr>\n",
       "      <th>1</th>\n",
       "      <td>1</td>\n",
       "      <td>Maven Toys Guadalajara 1</td>\n",
       "      <td>Guadalajara</td>\n",
       "      <td>Residential</td>\n",
       "      <td>1992-09-18</td>\n",
       "      <td>87.0</td>\n",
       "      <td>2017-01-01</td>\n",
       "      <td>31</td>\n",
       "      <td>1.0</td>\n",
       "      <td>7.0</td>\n",
       "      <td>Splash Balls</td>\n",
       "      <td>Sports &amp; Outdoors</td>\n",
       "      <td>7.99</td>\n",
       "      <td>8.99</td>\n",
       "      <td>0.000692</td>\n",
       "    </tr>\n",
       "    <tr>\n",
       "      <th>2</th>\n",
       "      <td>1</td>\n",
       "      <td>Maven Toys Guadalajara 1</td>\n",
       "      <td>Guadalajara</td>\n",
       "      <td>Residential</td>\n",
       "      <td>1992-09-18</td>\n",
       "      <td>420.0</td>\n",
       "      <td>2017-01-01</td>\n",
       "      <td>31</td>\n",
       "      <td>1.0</td>\n",
       "      <td>7.0</td>\n",
       "      <td>Splash Balls</td>\n",
       "      <td>Sports &amp; Outdoors</td>\n",
       "      <td>7.99</td>\n",
       "      <td>8.99</td>\n",
       "      <td>0.000692</td>\n",
       "    </tr>\n",
       "    <tr>\n",
       "      <th>3</th>\n",
       "      <td>1</td>\n",
       "      <td>Maven Toys Guadalajara 1</td>\n",
       "      <td>Guadalajara</td>\n",
       "      <td>Residential</td>\n",
       "      <td>1992-09-18</td>\n",
       "      <td>637.0</td>\n",
       "      <td>2017-01-01</td>\n",
       "      <td>31</td>\n",
       "      <td>1.0</td>\n",
       "      <td>7.0</td>\n",
       "      <td>Splash Balls</td>\n",
       "      <td>Sports &amp; Outdoors</td>\n",
       "      <td>7.99</td>\n",
       "      <td>8.99</td>\n",
       "      <td>0.000692</td>\n",
       "    </tr>\n",
       "    <tr>\n",
       "      <th>4</th>\n",
       "      <td>1</td>\n",
       "      <td>Maven Toys Guadalajara 1</td>\n",
       "      <td>Guadalajara</td>\n",
       "      <td>Residential</td>\n",
       "      <td>1992-09-18</td>\n",
       "      <td>745.0</td>\n",
       "      <td>2017-01-01</td>\n",
       "      <td>31</td>\n",
       "      <td>1.0</td>\n",
       "      <td>7.0</td>\n",
       "      <td>Splash Balls</td>\n",
       "      <td>Sports &amp; Outdoors</td>\n",
       "      <td>7.99</td>\n",
       "      <td>8.99</td>\n",
       "      <td>0.000692</td>\n",
       "    </tr>\n",
       "  </tbody>\n",
       "</table>\n",
       "</div>"
      ],
      "text/plain": [
       "   Store_ID                Store_Name   Store_City Store_Location  \\\n",
       "0         1  Maven Toys Guadalajara 1  Guadalajara    Residential   \n",
       "1         1  Maven Toys Guadalajara 1  Guadalajara    Residential   \n",
       "2         1  Maven Toys Guadalajara 1  Guadalajara    Residential   \n",
       "3         1  Maven Toys Guadalajara 1  Guadalajara    Residential   \n",
       "4         1  Maven Toys Guadalajara 1  Guadalajara    Residential   \n",
       "\n",
       "  Store_Open_Date  Sale_ID        Date  Product_ID  Units  Stock_On_Hand  \\\n",
       "0      1992-09-18      6.0  2017-01-01          31    1.0            7.0   \n",
       "1      1992-09-18     87.0  2017-01-01          31    1.0            7.0   \n",
       "2      1992-09-18    420.0  2017-01-01          31    1.0            7.0   \n",
       "3      1992-09-18    637.0  2017-01-01          31    1.0            7.0   \n",
       "4      1992-09-18    745.0  2017-01-01          31    1.0            7.0   \n",
       "\n",
       "   Product_Name   Product_Category  Product_Cost  Product_Price  \\\n",
       "0  Splash Balls  Sports & Outdoors          7.99           8.99   \n",
       "1  Splash Balls  Sports & Outdoors          7.99           8.99   \n",
       "2  Splash Balls  Sports & Outdoors          7.99           8.99   \n",
       "3  Splash Balls  Sports & Outdoors          7.99           8.99   \n",
       "4  Splash Balls  Sports & Outdoors          7.99           8.99   \n",
       "\n",
       "   Product_Cost_Normalized  \n",
       "0                 0.000692  \n",
       "1                 0.000692  \n",
       "2                 0.000692  \n",
       "3                 0.000692  \n",
       "4                 0.000692  "
      ]
     },
     "execution_count": 28,
     "metadata": {},
     "output_type": "execute_result"
    }
   ],
   "source": [
    "PC_array = MergedFile['Product_Cost']\n",
    "\n",
    "PC_normalized_arr = preprocessing.normalize([PC_array])\n",
    "\n",
    "# Add a new column 'Product_Cost_Normalized' to the existing dataset\n",
    "MergedFile['Product_Cost_Normalized'] = PC_normalized_arr.flatten()\n",
    "\n",
    "# Print the MergedFile with the new column\n",
    "MergedFile.head()"
   ]
  },
  {
   "cell_type": "markdown",
   "id": "608e5fdf",
   "metadata": {
    "papermill": {
     "duration": 0.023304,
     "end_time": "2024-01-24T07:46:18.245422",
     "exception": false,
     "start_time": "2024-01-24T07:46:18.222118",
     "status": "completed"
    },
    "tags": []
   },
   "source": [
    "**Outlier Treatment on Product Price**"
   ]
  },
  {
   "cell_type": "code",
   "execution_count": 29,
   "id": "a89f67a2",
   "metadata": {
    "papermill": {
     "duration": 0.050064,
     "end_time": "2024-01-24T07:46:18.320356",
     "exception": false,
     "start_time": "2024-01-24T07:46:18.270292",
     "status": "completed"
    },
    "tags": []
   },
   "outputs": [
    {
     "name": "stdout",
     "output_type": "stream",
     "text": [
      "Mean: 13.772326936480878\n",
      "Standard Deviation: 8.664793700471606\n",
      "Minimum Value: 2.99\n",
      "Maximum Value: 39.99\n"
     ]
    }
   ],
   "source": [
    "# Calculate mean, standard deviation, and 3 times the standard deviation\n",
    "\n",
    "PP_mean = MergedFile['Product_Price'].mean()\n",
    "PP_std_deviation = MergedFile['Product_Price'].std()\n",
    "PP_Minimum_Value = MergedFile['Product_Price'].min()\n",
    "PP_Maximum_Value = MergedFile['Product_Price'].max()\n",
    "\n",
    "print(\"Mean:\", PP_mean)\n",
    "print(\"Standard Deviation:\", PP_std_deviation)\n",
    "print(\"Minimum Value:\", PP_Minimum_Value)\n",
    "print(\"Maximum Value:\", PP_Maximum_Value)"
   ]
  },
  {
   "cell_type": "code",
   "execution_count": 30,
   "id": "3037347f",
   "metadata": {
    "papermill": {
     "duration": 0.060611,
     "end_time": "2024-01-24T07:46:18.405490",
     "exception": false,
     "start_time": "2024-01-24T07:46:18.344879",
     "status": "completed"
    },
    "tags": []
   },
   "outputs": [
    {
     "name": "stderr",
     "output_type": "stream",
     "text": [
      "C:\\Users\\Dell 3400\\AppData\\Local\\Temp\\ipykernel_23404\\266363982.py:6: SettingWithCopyWarning: \n",
      "A value is trying to be set on a copy of a slice from a DataFrame.\n",
      "Try using .loc[row_indexer,col_indexer] = value instead\n",
      "\n",
      "See the caveats in the documentation: https://pandas.pydata.org/pandas-docs/stable/user_guide/indexing.html#returning-a-view-versus-a-copy\n",
      "  MergedFile['Product_Price_Normalized'] = PP_normalized_arr.flatten()\n"
     ]
    },
    {
     "data": {
      "text/html": [
       "<div>\n",
       "<style scoped>\n",
       "    .dataframe tbody tr th:only-of-type {\n",
       "        vertical-align: middle;\n",
       "    }\n",
       "\n",
       "    .dataframe tbody tr th {\n",
       "        vertical-align: top;\n",
       "    }\n",
       "\n",
       "    .dataframe thead th {\n",
       "        text-align: right;\n",
       "    }\n",
       "</style>\n",
       "<table border=\"1\" class=\"dataframe\">\n",
       "  <thead>\n",
       "    <tr style=\"text-align: right;\">\n",
       "      <th></th>\n",
       "      <th>Store_ID</th>\n",
       "      <th>Store_Name</th>\n",
       "      <th>Store_City</th>\n",
       "      <th>Store_Location</th>\n",
       "      <th>Store_Open_Date</th>\n",
       "      <th>Sale_ID</th>\n",
       "      <th>Date</th>\n",
       "      <th>Product_ID</th>\n",
       "      <th>Units</th>\n",
       "      <th>Stock_On_Hand</th>\n",
       "      <th>Product_Name</th>\n",
       "      <th>Product_Category</th>\n",
       "      <th>Product_Cost</th>\n",
       "      <th>Product_Price</th>\n",
       "      <th>Product_Cost_Normalized</th>\n",
       "      <th>Product_Price_Normalized</th>\n",
       "    </tr>\n",
       "  </thead>\n",
       "  <tbody>\n",
       "    <tr>\n",
       "      <th>0</th>\n",
       "      <td>1</td>\n",
       "      <td>Maven Toys Guadalajara 1</td>\n",
       "      <td>Guadalajara</td>\n",
       "      <td>Residential</td>\n",
       "      <td>1992-09-18</td>\n",
       "      <td>6.0</td>\n",
       "      <td>2017-01-01</td>\n",
       "      <td>31</td>\n",
       "      <td>1.0</td>\n",
       "      <td>7.0</td>\n",
       "      <td>Splash Balls</td>\n",
       "      <td>Sports &amp; Outdoors</td>\n",
       "      <td>7.99</td>\n",
       "      <td>8.99</td>\n",
       "      <td>0.000692</td>\n",
       "      <td>0.000607</td>\n",
       "    </tr>\n",
       "    <tr>\n",
       "      <th>1</th>\n",
       "      <td>1</td>\n",
       "      <td>Maven Toys Guadalajara 1</td>\n",
       "      <td>Guadalajara</td>\n",
       "      <td>Residential</td>\n",
       "      <td>1992-09-18</td>\n",
       "      <td>87.0</td>\n",
       "      <td>2017-01-01</td>\n",
       "      <td>31</td>\n",
       "      <td>1.0</td>\n",
       "      <td>7.0</td>\n",
       "      <td>Splash Balls</td>\n",
       "      <td>Sports &amp; Outdoors</td>\n",
       "      <td>7.99</td>\n",
       "      <td>8.99</td>\n",
       "      <td>0.000692</td>\n",
       "      <td>0.000607</td>\n",
       "    </tr>\n",
       "    <tr>\n",
       "      <th>2</th>\n",
       "      <td>1</td>\n",
       "      <td>Maven Toys Guadalajara 1</td>\n",
       "      <td>Guadalajara</td>\n",
       "      <td>Residential</td>\n",
       "      <td>1992-09-18</td>\n",
       "      <td>420.0</td>\n",
       "      <td>2017-01-01</td>\n",
       "      <td>31</td>\n",
       "      <td>1.0</td>\n",
       "      <td>7.0</td>\n",
       "      <td>Splash Balls</td>\n",
       "      <td>Sports &amp; Outdoors</td>\n",
       "      <td>7.99</td>\n",
       "      <td>8.99</td>\n",
       "      <td>0.000692</td>\n",
       "      <td>0.000607</td>\n",
       "    </tr>\n",
       "    <tr>\n",
       "      <th>3</th>\n",
       "      <td>1</td>\n",
       "      <td>Maven Toys Guadalajara 1</td>\n",
       "      <td>Guadalajara</td>\n",
       "      <td>Residential</td>\n",
       "      <td>1992-09-18</td>\n",
       "      <td>637.0</td>\n",
       "      <td>2017-01-01</td>\n",
       "      <td>31</td>\n",
       "      <td>1.0</td>\n",
       "      <td>7.0</td>\n",
       "      <td>Splash Balls</td>\n",
       "      <td>Sports &amp; Outdoors</td>\n",
       "      <td>7.99</td>\n",
       "      <td>8.99</td>\n",
       "      <td>0.000692</td>\n",
       "      <td>0.000607</td>\n",
       "    </tr>\n",
       "    <tr>\n",
       "      <th>4</th>\n",
       "      <td>1</td>\n",
       "      <td>Maven Toys Guadalajara 1</td>\n",
       "      <td>Guadalajara</td>\n",
       "      <td>Residential</td>\n",
       "      <td>1992-09-18</td>\n",
       "      <td>745.0</td>\n",
       "      <td>2017-01-01</td>\n",
       "      <td>31</td>\n",
       "      <td>1.0</td>\n",
       "      <td>7.0</td>\n",
       "      <td>Splash Balls</td>\n",
       "      <td>Sports &amp; Outdoors</td>\n",
       "      <td>7.99</td>\n",
       "      <td>8.99</td>\n",
       "      <td>0.000692</td>\n",
       "      <td>0.000607</td>\n",
       "    </tr>\n",
       "  </tbody>\n",
       "</table>\n",
       "</div>"
      ],
      "text/plain": [
       "   Store_ID                Store_Name   Store_City Store_Location  \\\n",
       "0         1  Maven Toys Guadalajara 1  Guadalajara    Residential   \n",
       "1         1  Maven Toys Guadalajara 1  Guadalajara    Residential   \n",
       "2         1  Maven Toys Guadalajara 1  Guadalajara    Residential   \n",
       "3         1  Maven Toys Guadalajara 1  Guadalajara    Residential   \n",
       "4         1  Maven Toys Guadalajara 1  Guadalajara    Residential   \n",
       "\n",
       "  Store_Open_Date  Sale_ID        Date  Product_ID  Units  Stock_On_Hand  \\\n",
       "0      1992-09-18      6.0  2017-01-01          31    1.0            7.0   \n",
       "1      1992-09-18     87.0  2017-01-01          31    1.0            7.0   \n",
       "2      1992-09-18    420.0  2017-01-01          31    1.0            7.0   \n",
       "3      1992-09-18    637.0  2017-01-01          31    1.0            7.0   \n",
       "4      1992-09-18    745.0  2017-01-01          31    1.0            7.0   \n",
       "\n",
       "   Product_Name   Product_Category  Product_Cost  Product_Price  \\\n",
       "0  Splash Balls  Sports & Outdoors          7.99           8.99   \n",
       "1  Splash Balls  Sports & Outdoors          7.99           8.99   \n",
       "2  Splash Balls  Sports & Outdoors          7.99           8.99   \n",
       "3  Splash Balls  Sports & Outdoors          7.99           8.99   \n",
       "4  Splash Balls  Sports & Outdoors          7.99           8.99   \n",
       "\n",
       "   Product_Cost_Normalized  Product_Price_Normalized  \n",
       "0                 0.000692                  0.000607  \n",
       "1                 0.000692                  0.000607  \n",
       "2                 0.000692                  0.000607  \n",
       "3                 0.000692                  0.000607  \n",
       "4                 0.000692                  0.000607  "
      ]
     },
     "execution_count": 30,
     "metadata": {},
     "output_type": "execute_result"
    }
   ],
   "source": [
    "PP_array = MergedFile['Product_Price']\n",
    "\n",
    "PP_normalized_arr = preprocessing.normalize([PP_array])\n",
    "\n",
    "# Add a new column 'Product_Cost_Normalized' to the existing dataset\n",
    "MergedFile['Product_Price_Normalized'] = PP_normalized_arr.flatten()\n",
    "\n",
    "# Print the MergedFile with the new column\n",
    "MergedFile.head()"
   ]
  },
  {
   "cell_type": "markdown",
   "id": "78158370",
   "metadata": {
    "papermill": {
     "duration": 0.022063,
     "end_time": "2024-01-24T07:46:18.450274",
     "exception": false,
     "start_time": "2024-01-24T07:46:18.428211",
     "status": "completed"
    },
    "tags": []
   },
   "source": [
    "**Outlier Treatment on Units**"
   ]
  },
  {
   "cell_type": "code",
   "execution_count": 31,
   "id": "e0f9895b",
   "metadata": {
    "papermill": {
     "duration": 0.052877,
     "end_time": "2024-01-24T07:46:18.525415",
     "exception": false,
     "start_time": "2024-01-24T07:46:18.472538",
     "status": "completed"
    },
    "tags": []
   },
   "outputs": [
    {
     "name": "stdout",
     "output_type": "stream",
     "text": [
      "Mean: 1.3151030675468067\n",
      "Standard Deviation: 0.830701243069464\n",
      "Minimum Value: 1.0\n",
      "Maximum Value: 30.0\n"
     ]
    }
   ],
   "source": [
    "# Calculate mean, standard deviation, and 3 times the standard deviation\n",
    "\n",
    "Units_mean = MergedFile['Units'].mean()\n",
    "Units_std_deviation = MergedFile['Units'].std()\n",
    "Units_Minimum_Value = MergedFile['Units'].min()\n",
    "Units_Maximum_Value = MergedFile['Units'].max()\n",
    "\n",
    "print(\"Mean:\", Units_mean)\n",
    "print(\"Standard Deviation:\", Units_std_deviation)\n",
    "print(\"Minimum Value:\", Units_Minimum_Value)\n",
    "print(\"Maximum Value:\", Units_Maximum_Value)"
   ]
  },
  {
   "cell_type": "code",
   "execution_count": 32,
   "id": "9a9cad01",
   "metadata": {
    "papermill": {
     "duration": 0.065226,
     "end_time": "2024-01-24T07:46:18.613196",
     "exception": false,
     "start_time": "2024-01-24T07:46:18.547970",
     "status": "completed"
    },
    "tags": []
   },
   "outputs": [
    {
     "name": "stderr",
     "output_type": "stream",
     "text": [
      "C:\\Users\\Dell 3400\\AppData\\Local\\Temp\\ipykernel_23404\\4000798222.py:6: SettingWithCopyWarning: \n",
      "A value is trying to be set on a copy of a slice from a DataFrame.\n",
      "Try using .loc[row_indexer,col_indexer] = value instead\n",
      "\n",
      "See the caveats in the documentation: https://pandas.pydata.org/pandas-docs/stable/user_guide/indexing.html#returning-a-view-versus-a-copy\n",
      "  MergedFile['Units_Normalized'] = Units_normalized_arr.flatten()\n"
     ]
    },
    {
     "data": {
      "text/html": [
       "<div>\n",
       "<style scoped>\n",
       "    .dataframe tbody tr th:only-of-type {\n",
       "        vertical-align: middle;\n",
       "    }\n",
       "\n",
       "    .dataframe tbody tr th {\n",
       "        vertical-align: top;\n",
       "    }\n",
       "\n",
       "    .dataframe thead th {\n",
       "        text-align: right;\n",
       "    }\n",
       "</style>\n",
       "<table border=\"1\" class=\"dataframe\">\n",
       "  <thead>\n",
       "    <tr style=\"text-align: right;\">\n",
       "      <th></th>\n",
       "      <th>Store_ID</th>\n",
       "      <th>Store_Name</th>\n",
       "      <th>Store_City</th>\n",
       "      <th>Store_Location</th>\n",
       "      <th>Store_Open_Date</th>\n",
       "      <th>Sale_ID</th>\n",
       "      <th>Date</th>\n",
       "      <th>Product_ID</th>\n",
       "      <th>Units</th>\n",
       "      <th>Stock_On_Hand</th>\n",
       "      <th>Product_Name</th>\n",
       "      <th>Product_Category</th>\n",
       "      <th>Product_Cost</th>\n",
       "      <th>Product_Price</th>\n",
       "      <th>Product_Cost_Normalized</th>\n",
       "      <th>Product_Price_Normalized</th>\n",
       "      <th>Units_Normalized</th>\n",
       "    </tr>\n",
       "  </thead>\n",
       "  <tbody>\n",
       "    <tr>\n",
       "      <th>0</th>\n",
       "      <td>1</td>\n",
       "      <td>Maven Toys Guadalajara 1</td>\n",
       "      <td>Guadalajara</td>\n",
       "      <td>Residential</td>\n",
       "      <td>1992-09-18</td>\n",
       "      <td>6.0</td>\n",
       "      <td>2017-01-01</td>\n",
       "      <td>31</td>\n",
       "      <td>1.0</td>\n",
       "      <td>7.0</td>\n",
       "      <td>Splash Balls</td>\n",
       "      <td>Sports &amp; Outdoors</td>\n",
       "      <td>7.99</td>\n",
       "      <td>8.99</td>\n",
       "      <td>0.000692</td>\n",
       "      <td>0.000607</td>\n",
       "      <td>0.000706</td>\n",
       "    </tr>\n",
       "    <tr>\n",
       "      <th>1</th>\n",
       "      <td>1</td>\n",
       "      <td>Maven Toys Guadalajara 1</td>\n",
       "      <td>Guadalajara</td>\n",
       "      <td>Residential</td>\n",
       "      <td>1992-09-18</td>\n",
       "      <td>87.0</td>\n",
       "      <td>2017-01-01</td>\n",
       "      <td>31</td>\n",
       "      <td>1.0</td>\n",
       "      <td>7.0</td>\n",
       "      <td>Splash Balls</td>\n",
       "      <td>Sports &amp; Outdoors</td>\n",
       "      <td>7.99</td>\n",
       "      <td>8.99</td>\n",
       "      <td>0.000692</td>\n",
       "      <td>0.000607</td>\n",
       "      <td>0.000706</td>\n",
       "    </tr>\n",
       "    <tr>\n",
       "      <th>2</th>\n",
       "      <td>1</td>\n",
       "      <td>Maven Toys Guadalajara 1</td>\n",
       "      <td>Guadalajara</td>\n",
       "      <td>Residential</td>\n",
       "      <td>1992-09-18</td>\n",
       "      <td>420.0</td>\n",
       "      <td>2017-01-01</td>\n",
       "      <td>31</td>\n",
       "      <td>1.0</td>\n",
       "      <td>7.0</td>\n",
       "      <td>Splash Balls</td>\n",
       "      <td>Sports &amp; Outdoors</td>\n",
       "      <td>7.99</td>\n",
       "      <td>8.99</td>\n",
       "      <td>0.000692</td>\n",
       "      <td>0.000607</td>\n",
       "      <td>0.000706</td>\n",
       "    </tr>\n",
       "    <tr>\n",
       "      <th>3</th>\n",
       "      <td>1</td>\n",
       "      <td>Maven Toys Guadalajara 1</td>\n",
       "      <td>Guadalajara</td>\n",
       "      <td>Residential</td>\n",
       "      <td>1992-09-18</td>\n",
       "      <td>637.0</td>\n",
       "      <td>2017-01-01</td>\n",
       "      <td>31</td>\n",
       "      <td>1.0</td>\n",
       "      <td>7.0</td>\n",
       "      <td>Splash Balls</td>\n",
       "      <td>Sports &amp; Outdoors</td>\n",
       "      <td>7.99</td>\n",
       "      <td>8.99</td>\n",
       "      <td>0.000692</td>\n",
       "      <td>0.000607</td>\n",
       "      <td>0.000706</td>\n",
       "    </tr>\n",
       "    <tr>\n",
       "      <th>4</th>\n",
       "      <td>1</td>\n",
       "      <td>Maven Toys Guadalajara 1</td>\n",
       "      <td>Guadalajara</td>\n",
       "      <td>Residential</td>\n",
       "      <td>1992-09-18</td>\n",
       "      <td>745.0</td>\n",
       "      <td>2017-01-01</td>\n",
       "      <td>31</td>\n",
       "      <td>1.0</td>\n",
       "      <td>7.0</td>\n",
       "      <td>Splash Balls</td>\n",
       "      <td>Sports &amp; Outdoors</td>\n",
       "      <td>7.99</td>\n",
       "      <td>8.99</td>\n",
       "      <td>0.000692</td>\n",
       "      <td>0.000607</td>\n",
       "      <td>0.000706</td>\n",
       "    </tr>\n",
       "  </tbody>\n",
       "</table>\n",
       "</div>"
      ],
      "text/plain": [
       "   Store_ID                Store_Name   Store_City Store_Location  \\\n",
       "0         1  Maven Toys Guadalajara 1  Guadalajara    Residential   \n",
       "1         1  Maven Toys Guadalajara 1  Guadalajara    Residential   \n",
       "2         1  Maven Toys Guadalajara 1  Guadalajara    Residential   \n",
       "3         1  Maven Toys Guadalajara 1  Guadalajara    Residential   \n",
       "4         1  Maven Toys Guadalajara 1  Guadalajara    Residential   \n",
       "\n",
       "  Store_Open_Date  Sale_ID        Date  Product_ID  Units  Stock_On_Hand  \\\n",
       "0      1992-09-18      6.0  2017-01-01          31    1.0            7.0   \n",
       "1      1992-09-18     87.0  2017-01-01          31    1.0            7.0   \n",
       "2      1992-09-18    420.0  2017-01-01          31    1.0            7.0   \n",
       "3      1992-09-18    637.0  2017-01-01          31    1.0            7.0   \n",
       "4      1992-09-18    745.0  2017-01-01          31    1.0            7.0   \n",
       "\n",
       "   Product_Name   Product_Category  Product_Cost  Product_Price  \\\n",
       "0  Splash Balls  Sports & Outdoors          7.99           8.99   \n",
       "1  Splash Balls  Sports & Outdoors          7.99           8.99   \n",
       "2  Splash Balls  Sports & Outdoors          7.99           8.99   \n",
       "3  Splash Balls  Sports & Outdoors          7.99           8.99   \n",
       "4  Splash Balls  Sports & Outdoors          7.99           8.99   \n",
       "\n",
       "   Product_Cost_Normalized  Product_Price_Normalized  Units_Normalized  \n",
       "0                 0.000692                  0.000607          0.000706  \n",
       "1                 0.000692                  0.000607          0.000706  \n",
       "2                 0.000692                  0.000607          0.000706  \n",
       "3                 0.000692                  0.000607          0.000706  \n",
       "4                 0.000692                  0.000607          0.000706  "
      ]
     },
     "execution_count": 32,
     "metadata": {},
     "output_type": "execute_result"
    }
   ],
   "source": [
    "Units_array = MergedFile['Units']\n",
    "\n",
    "Units_normalized_arr = preprocessing.normalize([Units_array])\n",
    "\n",
    "# Add a new column 'Product_Cost_Normalized' to the existing dataset\n",
    "MergedFile['Units_Normalized'] = Units_normalized_arr.flatten()\n",
    "\n",
    "# Print the MergedFile with the new column\n",
    "MergedFile.head()"
   ]
  },
  {
   "cell_type": "markdown",
   "id": "f3966d59",
   "metadata": {
    "papermill": {
     "duration": 0.022565,
     "end_time": "2024-01-24T07:46:18.659604",
     "exception": false,
     "start_time": "2024-01-24T07:46:18.637039",
     "status": "completed"
    },
    "tags": []
   },
   "source": [
    "# **Univariate Analysis And Feature Engineering**"
   ]
  },
  {
   "cell_type": "markdown",
   "id": "df97e39b",
   "metadata": {
    "papermill": {
     "duration": 0.022504,
     "end_time": "2024-01-24T07:46:18.704975",
     "exception": false,
     "start_time": "2024-01-24T07:46:18.682471",
     "status": "completed"
    },
    "tags": []
   },
   "source": [
    "**Adding columns for Feature Engineering**"
   ]
  },
  {
   "cell_type": "code",
   "execution_count": 33,
   "id": "c68c8017",
   "metadata": {
    "papermill": {
     "duration": 0.435337,
     "end_time": "2024-01-24T07:46:19.162973",
     "exception": false,
     "start_time": "2024-01-24T07:46:18.727636",
     "status": "completed"
    },
    "tags": []
   },
   "outputs": [
    {
     "name": "stderr",
     "output_type": "stream",
     "text": [
      "C:\\Users\\Dell 3400\\AppData\\Local\\Temp\\ipykernel_23404\\1106257966.py:2: SettingWithCopyWarning: \n",
      "A value is trying to be set on a copy of a slice from a DataFrame.\n",
      "Try using .loc[row_indexer,col_indexer] = value instead\n",
      "\n",
      "See the caveats in the documentation: https://pandas.pydata.org/pandas-docs/stable/user_guide/indexing.html#returning-a-view-versus-a-copy\n",
      "  MergedFile['Month']= pd.DatetimeIndex(MergedFile['Date']).month\n",
      "C:\\Users\\Dell 3400\\AppData\\Local\\Temp\\ipykernel_23404\\1106257966.py:5: SettingWithCopyWarning: \n",
      "A value is trying to be set on a copy of a slice from a DataFrame.\n",
      "Try using .loc[row_indexer,col_indexer] = value instead\n",
      "\n",
      "See the caveats in the documentation: https://pandas.pydata.org/pandas-docs/stable/user_guide/indexing.html#returning-a-view-versus-a-copy\n",
      "  MergedFile['Product_Price']=MergedFile['Product_Price'].astype(float)\n",
      "C:\\Users\\Dell 3400\\AppData\\Local\\Temp\\ipykernel_23404\\1106257966.py:6: SettingWithCopyWarning: \n",
      "A value is trying to be set on a copy of a slice from a DataFrame.\n",
      "Try using .loc[row_indexer,col_indexer] = value instead\n",
      "\n",
      "See the caveats in the documentation: https://pandas.pydata.org/pandas-docs/stable/user_guide/indexing.html#returning-a-view-versus-a-copy\n",
      "  MergedFile['Sales']=round(MergedFile['Units'] * MergedFile['Product_Price'])\n"
     ]
    },
    {
     "data": {
      "text/html": [
       "<div>\n",
       "<style scoped>\n",
       "    .dataframe tbody tr th:only-of-type {\n",
       "        vertical-align: middle;\n",
       "    }\n",
       "\n",
       "    .dataframe tbody tr th {\n",
       "        vertical-align: top;\n",
       "    }\n",
       "\n",
       "    .dataframe thead th {\n",
       "        text-align: right;\n",
       "    }\n",
       "</style>\n",
       "<table border=\"1\" class=\"dataframe\">\n",
       "  <thead>\n",
       "    <tr style=\"text-align: right;\">\n",
       "      <th></th>\n",
       "      <th>Store_ID</th>\n",
       "      <th>Store_Name</th>\n",
       "      <th>Store_City</th>\n",
       "      <th>Store_Location</th>\n",
       "      <th>Store_Open_Date</th>\n",
       "      <th>Sale_ID</th>\n",
       "      <th>Date</th>\n",
       "      <th>Product_ID</th>\n",
       "      <th>Units</th>\n",
       "      <th>Stock_On_Hand</th>\n",
       "      <th>Product_Name</th>\n",
       "      <th>Product_Category</th>\n",
       "      <th>Product_Cost</th>\n",
       "      <th>Product_Price</th>\n",
       "      <th>Product_Cost_Normalized</th>\n",
       "      <th>Product_Price_Normalized</th>\n",
       "      <th>Units_Normalized</th>\n",
       "      <th>Month</th>\n",
       "      <th>Sales</th>\n",
       "    </tr>\n",
       "  </thead>\n",
       "  <tbody>\n",
       "    <tr>\n",
       "      <th>0</th>\n",
       "      <td>1</td>\n",
       "      <td>Maven Toys Guadalajara 1</td>\n",
       "      <td>Guadalajara</td>\n",
       "      <td>Residential</td>\n",
       "      <td>1992-09-18</td>\n",
       "      <td>6.0</td>\n",
       "      <td>2017-01-01</td>\n",
       "      <td>31</td>\n",
       "      <td>1.0</td>\n",
       "      <td>7.0</td>\n",
       "      <td>Splash Balls</td>\n",
       "      <td>Sports &amp; Outdoors</td>\n",
       "      <td>7.99</td>\n",
       "      <td>8.99</td>\n",
       "      <td>0.000692</td>\n",
       "      <td>0.000607</td>\n",
       "      <td>0.000706</td>\n",
       "      <td>1</td>\n",
       "      <td>9.0</td>\n",
       "    </tr>\n",
       "    <tr>\n",
       "      <th>1</th>\n",
       "      <td>1</td>\n",
       "      <td>Maven Toys Guadalajara 1</td>\n",
       "      <td>Guadalajara</td>\n",
       "      <td>Residential</td>\n",
       "      <td>1992-09-18</td>\n",
       "      <td>87.0</td>\n",
       "      <td>2017-01-01</td>\n",
       "      <td>31</td>\n",
       "      <td>1.0</td>\n",
       "      <td>7.0</td>\n",
       "      <td>Splash Balls</td>\n",
       "      <td>Sports &amp; Outdoors</td>\n",
       "      <td>7.99</td>\n",
       "      <td>8.99</td>\n",
       "      <td>0.000692</td>\n",
       "      <td>0.000607</td>\n",
       "      <td>0.000706</td>\n",
       "      <td>1</td>\n",
       "      <td>9.0</td>\n",
       "    </tr>\n",
       "    <tr>\n",
       "      <th>2</th>\n",
       "      <td>1</td>\n",
       "      <td>Maven Toys Guadalajara 1</td>\n",
       "      <td>Guadalajara</td>\n",
       "      <td>Residential</td>\n",
       "      <td>1992-09-18</td>\n",
       "      <td>420.0</td>\n",
       "      <td>2017-01-01</td>\n",
       "      <td>31</td>\n",
       "      <td>1.0</td>\n",
       "      <td>7.0</td>\n",
       "      <td>Splash Balls</td>\n",
       "      <td>Sports &amp; Outdoors</td>\n",
       "      <td>7.99</td>\n",
       "      <td>8.99</td>\n",
       "      <td>0.000692</td>\n",
       "      <td>0.000607</td>\n",
       "      <td>0.000706</td>\n",
       "      <td>1</td>\n",
       "      <td>9.0</td>\n",
       "    </tr>\n",
       "    <tr>\n",
       "      <th>3</th>\n",
       "      <td>1</td>\n",
       "      <td>Maven Toys Guadalajara 1</td>\n",
       "      <td>Guadalajara</td>\n",
       "      <td>Residential</td>\n",
       "      <td>1992-09-18</td>\n",
       "      <td>637.0</td>\n",
       "      <td>2017-01-01</td>\n",
       "      <td>31</td>\n",
       "      <td>1.0</td>\n",
       "      <td>7.0</td>\n",
       "      <td>Splash Balls</td>\n",
       "      <td>Sports &amp; Outdoors</td>\n",
       "      <td>7.99</td>\n",
       "      <td>8.99</td>\n",
       "      <td>0.000692</td>\n",
       "      <td>0.000607</td>\n",
       "      <td>0.000706</td>\n",
       "      <td>1</td>\n",
       "      <td>9.0</td>\n",
       "    </tr>\n",
       "    <tr>\n",
       "      <th>4</th>\n",
       "      <td>1</td>\n",
       "      <td>Maven Toys Guadalajara 1</td>\n",
       "      <td>Guadalajara</td>\n",
       "      <td>Residential</td>\n",
       "      <td>1992-09-18</td>\n",
       "      <td>745.0</td>\n",
       "      <td>2017-01-01</td>\n",
       "      <td>31</td>\n",
       "      <td>1.0</td>\n",
       "      <td>7.0</td>\n",
       "      <td>Splash Balls</td>\n",
       "      <td>Sports &amp; Outdoors</td>\n",
       "      <td>7.99</td>\n",
       "      <td>8.99</td>\n",
       "      <td>0.000692</td>\n",
       "      <td>0.000607</td>\n",
       "      <td>0.000706</td>\n",
       "      <td>1</td>\n",
       "      <td>9.0</td>\n",
       "    </tr>\n",
       "  </tbody>\n",
       "</table>\n",
       "</div>"
      ],
      "text/plain": [
       "   Store_ID                Store_Name   Store_City Store_Location  \\\n",
       "0         1  Maven Toys Guadalajara 1  Guadalajara    Residential   \n",
       "1         1  Maven Toys Guadalajara 1  Guadalajara    Residential   \n",
       "2         1  Maven Toys Guadalajara 1  Guadalajara    Residential   \n",
       "3         1  Maven Toys Guadalajara 1  Guadalajara    Residential   \n",
       "4         1  Maven Toys Guadalajara 1  Guadalajara    Residential   \n",
       "\n",
       "  Store_Open_Date  Sale_ID        Date  Product_ID  Units  Stock_On_Hand  \\\n",
       "0      1992-09-18      6.0  2017-01-01          31    1.0            7.0   \n",
       "1      1992-09-18     87.0  2017-01-01          31    1.0            7.0   \n",
       "2      1992-09-18    420.0  2017-01-01          31    1.0            7.0   \n",
       "3      1992-09-18    637.0  2017-01-01          31    1.0            7.0   \n",
       "4      1992-09-18    745.0  2017-01-01          31    1.0            7.0   \n",
       "\n",
       "   Product_Name   Product_Category  Product_Cost  Product_Price  \\\n",
       "0  Splash Balls  Sports & Outdoors          7.99           8.99   \n",
       "1  Splash Balls  Sports & Outdoors          7.99           8.99   \n",
       "2  Splash Balls  Sports & Outdoors          7.99           8.99   \n",
       "3  Splash Balls  Sports & Outdoors          7.99           8.99   \n",
       "4  Splash Balls  Sports & Outdoors          7.99           8.99   \n",
       "\n",
       "   Product_Cost_Normalized  Product_Price_Normalized  Units_Normalized  Month  \\\n",
       "0                 0.000692                  0.000607          0.000706      1   \n",
       "1                 0.000692                  0.000607          0.000706      1   \n",
       "2                 0.000692                  0.000607          0.000706      1   \n",
       "3                 0.000692                  0.000607          0.000706      1   \n",
       "4                 0.000692                  0.000607          0.000706      1   \n",
       "\n",
       "   Sales  \n",
       "0    9.0  \n",
       "1    9.0  \n",
       "2    9.0  \n",
       "3    9.0  \n",
       "4    9.0  "
      ]
     },
     "execution_count": 33,
     "metadata": {},
     "output_type": "execute_result"
    }
   ],
   "source": [
    "#Month Column\n",
    "MergedFile['Month']= pd.DatetimeIndex(MergedFile['Date']).month\n",
    "\n",
    "#Sales Column\n",
    "MergedFile['Product_Price']=MergedFile['Product_Price'].astype(float)\n",
    "MergedFile['Sales']=round(MergedFile['Units'] * MergedFile['Product_Price'])\n",
    "\n",
    "MergedFile.head()"
   ]
  },
  {
   "cell_type": "code",
   "execution_count": 34,
   "id": "f45fa505",
   "metadata": {
    "papermill": {
     "duration": 0.037623,
     "end_time": "2024-01-24T07:46:19.224082",
     "exception": false,
     "start_time": "2024-01-24T07:46:19.186459",
     "status": "completed"
    },
    "tags": []
   },
   "outputs": [
    {
     "data": {
      "text/plain": [
       "Store_ID                      int64\n",
       "Store_Name                   object\n",
       "Store_City                   object\n",
       "Store_Location               object\n",
       "Store_Open_Date              object\n",
       "Sale_ID                     float64\n",
       "Date                         object\n",
       "Product_ID                    int64\n",
       "Units                       float64\n",
       "Stock_On_Hand               float64\n",
       "Product_Name                 object\n",
       "Product_Category             object\n",
       "Product_Cost                float64\n",
       "Product_Price               float64\n",
       "Product_Cost_Normalized     float64\n",
       "Product_Price_Normalized    float64\n",
       "Units_Normalized            float64\n",
       "Month                         int64\n",
       "Sales                       float64\n",
       "dtype: object"
      ]
     },
     "execution_count": 34,
     "metadata": {},
     "output_type": "execute_result"
    }
   ],
   "source": [
    "MergedFile.dtypes"
   ]
  },
  {
   "cell_type": "code",
   "execution_count": 35,
   "id": "68661fc7",
   "metadata": {
    "papermill": {
     "duration": 0.071348,
     "end_time": "2024-01-24T07:46:19.318981",
     "exception": false,
     "start_time": "2024-01-24T07:46:19.247633",
     "status": "completed"
    },
    "tags": []
   },
   "outputs": [
    {
     "data": {
      "text/plain": [
       "count    829262.000000\n",
       "mean         17.431738\n",
       "std          15.526597\n",
       "min           3.000000\n",
       "25%           9.000000\n",
       "50%          15.000000\n",
       "75%          20.000000\n",
       "max         880.000000\n",
       "Name: Sales, dtype: float64"
      ]
     },
     "execution_count": 35,
     "metadata": {},
     "output_type": "execute_result"
    }
   ],
   "source": [
    "MergedFile['Sales'].describe()"
   ]
  },
  {
   "cell_type": "code",
   "execution_count": 36,
   "id": "22f13688",
   "metadata": {
    "papermill": {
     "duration": 0.070052,
     "end_time": "2024-01-24T07:46:19.413245",
     "exception": false,
     "start_time": "2024-01-24T07:46:19.343193",
     "status": "completed"
    },
    "tags": []
   },
   "outputs": [
    {
     "data": {
      "text/plain": [
       "count    829262.000000\n",
       "mean         13.772327\n",
       "std           8.664794\n",
       "min           2.990000\n",
       "25%           6.990000\n",
       "50%          12.990000\n",
       "75%          15.990000\n",
       "max          39.990000\n",
       "Name: Product_Price, dtype: float64"
      ]
     },
     "execution_count": 36,
     "metadata": {},
     "output_type": "execute_result"
    }
   ],
   "source": [
    "MergedFile['Product_Price'].describe()"
   ]
  },
  {
   "cell_type": "code",
   "execution_count": 37,
   "id": "e9294ed4",
   "metadata": {
    "papermill": {
     "duration": 0.489138,
     "end_time": "2024-01-24T07:46:19.926998",
     "exception": false,
     "start_time": "2024-01-24T07:46:19.437860",
     "status": "completed"
    },
    "tags": []
   },
   "outputs": [
    {
     "data": {
      "text/plain": [
       "Text(0.5, 1.0, 'Price')"
      ]
     },
     "execution_count": 37,
     "metadata": {},
     "output_type": "execute_result"
    },
    {
     "data": {
      "image/png": "[encoded data removed]",
      "text/plain": [
       "<Figure size 640x480 with 1 Axes>"
      ]
     },
     "metadata": {},
     "output_type": "display_data"
    }
   ],
   "source": [
    "# Product Price Analysis\n",
    "sns.boxplot(x=MergedFile['Product_Price'])\n",
    "plt.title('Price')"
   ]
  },
  {
   "cell_type": "markdown",
   "id": "e631c01f",
   "metadata": {
    "papermill": {
     "duration": 0.026135,
     "end_time": "2024-01-24T07:46:19.978832",
     "exception": false,
     "start_time": "2024-01-24T07:46:19.952697",
     "status": "completed"
    },
    "tags": []
   },
   "source": [
    "# **Categorical Features**"
   ]
  },
  {
   "cell_type": "code",
   "execution_count": 38,
   "id": "ef4b70b8",
   "metadata": {
    "papermill": {
     "duration": 0.093541,
     "end_time": "2024-01-24T07:46:20.098180",
     "exception": false,
     "start_time": "2024-01-24T07:46:20.004639",
     "status": "completed"
    },
    "tags": []
   },
   "outputs": [
    {
     "data": {
      "text/plain": [
       "array(['Sports & Outdoors', 'Electronics', 'Toys', 'Games',\n",
       "       'Art & Crafts'], dtype=object)"
      ]
     },
     "execution_count": 38,
     "metadata": {},
     "output_type": "execute_result"
    }
   ],
   "source": [
    "#Product Categories\n",
    "MergedFile['Product_Category'].unique()"
   ]
  },
  {
   "cell_type": "code",
   "execution_count": 39,
   "id": "9ef6356d",
   "metadata": {
    "papermill": {
     "duration": 0.103742,
     "end_time": "2024-01-24T07:46:20.226805",
     "exception": false,
     "start_time": "2024-01-24T07:46:20.123063",
     "status": "completed"
    },
    "tags": []
   },
   "outputs": [
    {
     "name": "stdout",
     "output_type": "stream",
     "text": [
      "Product_Category\n",
      "Art & Crafts         220673\n",
      "Electronics           99025\n",
      "Games                157006\n",
      "Sports & Outdoors    131331\n",
      "Toys                 221227\n",
      "Name: Units, dtype: int64\n"
     ]
    }
   ],
   "source": [
    "#Units Sold per Category\n",
    "print(MergedFile.groupby(\"Product_Category\")[\"Units\"].count())"
   ]
  },
  {
   "cell_type": "code",
   "execution_count": 40,
   "id": "f2ca3fce",
   "metadata": {
    "papermill": {
     "duration": 0.105327,
     "end_time": "2024-01-24T07:46:20.356859",
     "exception": false,
     "start_time": "2024-01-24T07:46:20.251532",
     "status": "completed"
    },
    "tags": []
   },
   "outputs": [
    {
     "name": "stdout",
     "output_type": "stream",
     "text": [
      "Product_Category\n",
      "Art & Crafts         12.274361\n",
      "Electronics          22.702469\n",
      "Games                14.195528\n",
      "Sports & Outdoors    16.553974\n",
      "Toys                 23.034770\n",
      "Name: Sales, dtype: float64\n"
     ]
    }
   ],
   "source": [
    "#Average Sales per Category\n",
    "print(MergedFile.groupby(\"Product_Category\")[\"Sales\"].mean())"
   ]
  },
  {
   "cell_type": "code",
   "execution_count": 41,
   "id": "7331d4f5",
   "metadata": {
    "papermill": {
     "duration": 0.104221,
     "end_time": "2024-01-24T07:46:20.486094",
     "exception": false,
     "start_time": "2024-01-24T07:46:20.381873",
     "status": "completed"
    },
    "tags": []
   },
   "outputs": [
    {
     "name": "stdout",
     "output_type": "stream",
     "text": [
      "Product_Category\n",
      "Art & Crafts         2708620.0\n",
      "Electronics          2248112.0\n",
      "Games                2228783.0\n",
      "Sports & Outdoors    2174050.0\n",
      "Toys                 5095913.0\n",
      "Name: Sales, dtype: float64\n"
     ]
    }
   ],
   "source": [
    "#Total Sales per Category\n",
    "print(MergedFile.groupby(\"Product_Category\")[\"Sales\"].sum())"
   ]
  },
  {
   "cell_type": "code",
   "execution_count": 42,
   "id": "26a82488",
   "metadata": {
    "papermill": {
     "duration": 0.286965,
     "end_time": "2024-01-24T07:46:20.797492",
     "exception": false,
     "start_time": "2024-01-24T07:46:20.510527",
     "status": "completed"
    },
    "tags": []
   },
   "outputs": [
    {
     "data": {
      "image/png": "[encoded data removed]",
      "text/plain": [
       "<Figure size 640x480 with 1 Axes>"
      ]
     },
     "metadata": {},
     "output_type": "display_data"
    }
   ],
   "source": [
    "#BarPlot showing Average Sales for each Category\n",
    "aggr_data = MergedFile.groupby('Product_Category')['Sales'].mean().reset_index();\n",
    "sns.barplot(x='Product_Category', y='Sales',data=aggr_data)\n",
    "plt.xlabel(\"Product Category\")\n",
    "plt.ylabel(\"Average Sales\")\n",
    "plt.show()"
   ]
  },
  {
   "cell_type": "code",
   "execution_count": 43,
   "id": "094b88c2",
   "metadata": {
    "papermill": {
     "duration": 0.277045,
     "end_time": "2024-01-24T07:46:21.101185",
     "exception": false,
     "start_time": "2024-01-24T07:46:20.824140",
     "status": "completed"
    },
    "tags": []
   },
   "outputs": [
    {
     "data": {
      "image/png": "[encoded data removed]",
      "text/plain": [
       "<Figure size 640x480 with 1 Axes>"
      ]
     },
     "metadata": {},
     "output_type": "display_data"
    }
   ],
   "source": [
    "#Product_Category and Total Sales\n",
    "aggr_data = MergedFile.groupby('Product_Category')['Sales'].sum().reset_index()\n",
    "aggr_data['Sales_M'] = aggr_data['Sales']/1000000\n",
    "\n",
    "sns.barplot(x='Product_Category', y='Sales_M',data=aggr_data)\n",
    "plt.xlabel(\"Product Category\")\n",
    "plt.ylabel(\"Total Sales\")\n",
    "plt.show()"
   ]
  },
  {
   "cell_type": "code",
   "execution_count": 44,
   "id": "0932a0c5",
   "metadata": {
    "papermill": {
     "duration": 0.089985,
     "end_time": "2024-01-24T07:46:21.217903",
     "exception": false,
     "start_time": "2024-01-24T07:46:21.127918",
     "status": "completed"
    },
    "tags": []
   },
   "outputs": [
    {
     "data": {
      "text/plain": [
       "35"
      ]
     },
     "execution_count": 44,
     "metadata": {},
     "output_type": "execute_result"
    }
   ],
   "source": [
    "#Products\n",
    "MergedFile['Product_Name'].nunique()"
   ]
  },
  {
   "cell_type": "code",
   "execution_count": 45,
   "id": "7406a23d",
   "metadata": {
    "papermill": {
     "duration": 0.095,
     "end_time": "2024-01-24T07:46:21.341716",
     "exception": false,
     "start_time": "2024-01-24T07:46:21.246716",
     "status": "completed"
    },
    "tags": []
   },
   "outputs": [
    {
     "data": {
      "text/plain": [
       "array(['Splash Balls', 'Mini Ping Pong Set', 'Toy Robot', 'Action Figure',\n",
       "       'Dinosaur Figures', 'Deck Of Cards', 'PlayDoh Toolkit',\n",
       "       'Lego Bricks', 'Classic Dominoes', 'Kids Makeup Kit', 'Dino Egg',\n",
       "       'Monopoly', 'Glass Marbles', 'Colorbuds', 'Dart Gun',\n",
       "       \"Rubik's Cube\", 'Chutes & Ladders', 'Teddy Bear', 'Animal Figures',\n",
       "       'PlayDoh Can', 'Nerf Gun', 'Hot Wheels 5-Pack', 'Uno Card Game',\n",
       "       'Supersoaker Water Gun', 'Mini Basketball Hoop', 'PlayDoh Playset',\n",
       "       'Plush Pony', 'Jenga', 'Gamer Headphones', \"Barrel O' Slime\",\n",
       "       'Magic Sand', 'Etch A Sketch', 'Mr. Potatohead',\n",
       "       'Foam Disk Launcher', 'Playfoam'], dtype=object)"
      ]
     },
     "execution_count": 45,
     "metadata": {},
     "output_type": "execute_result"
    }
   ],
   "source": [
    "MergedFile['Product_Name'].unique()"
   ]
  },
  {
   "cell_type": "code",
   "execution_count": 46,
   "id": "2de01938",
   "metadata": {
    "papermill": {
     "duration": 0.111835,
     "end_time": "2024-01-24T07:46:21.480126",
     "exception": false,
     "start_time": "2024-01-24T07:46:21.368291",
     "status": "completed"
    },
    "tags": []
   },
   "outputs": [
    {
     "name": "stdout",
     "output_type": "stream",
     "text": [
      "Store_Location\n",
      "Airport        18.853981\n",
      "Commercial     17.766417\n",
      "Downtown       17.129250\n",
      "Residential    17.286578\n",
      "Name: Sales, dtype: float64\n"
     ]
    }
   ],
   "source": [
    "#Average Sales at each Location.\n",
    "print(MergedFile.groupby(\"Store_Location\")[\"Sales\"].mean())"
   ]
  },
  {
   "cell_type": "code",
   "execution_count": 47,
   "id": "16b31d36",
   "metadata": {
    "papermill": {
     "duration": 0.328037,
     "end_time": "2024-01-24T07:46:21.840586",
     "exception": false,
     "start_time": "2024-01-24T07:46:21.512549",
     "status": "completed"
    },
    "tags": []
   },
   "outputs": [
    {
     "data": {
      "image/png": "[encoded data removed]",
      "text/plain": [
       "<Figure size 640x480 with 1 Axes>"
      ]
     },
     "metadata": {},
     "output_type": "display_data"
    }
   ],
   "source": [
    "#Barplot for Store Location and Average Sales.\n",
    "aggr_data = MergedFile.groupby('Store_Location')['Sales'].mean().reset_index()\n",
    "sns.barplot(x='Store_Location', y='Sales', data=aggr_data)\n",
    "plt.xlabel(\"Store Location\")\n",
    "plt.ylabel(\"Average Sales\")\n",
    "plt.show()"
   ]
  },
  {
   "cell_type": "markdown",
   "id": "5b3aa5ce",
   "metadata": {
    "papermill": {
     "duration": 0.030207,
     "end_time": "2024-01-24T07:46:21.897602",
     "exception": false,
     "start_time": "2024-01-24T07:46:21.867395",
     "status": "completed"
    },
    "tags": []
   },
   "source": [
    "**Summary of Univariate Analysis**\n",
    "1.\tMaximum number of units are sold in Toys Category, followed by Arts and Crafts. Also, toys accounts for highest Total Sales.\n",
    "2. Electronics accounts for highest average sales among Product Categories.\n",
    "3.\tElectronics and Games have the lowest total sales among all categories.\n",
    "4.\tThere are total of 35 Unique Products.\n",
    "5.\tDowntown sold the maximum quantities while Airport accounts for least number of quantities that are sold.\n",
    "6.\t Store Locations doesnot have any significant impact on average sales."
   ]
  },
  {
   "cell_type": "markdown",
   "id": "b0e04b19",
   "metadata": {
    "papermill": {
     "duration": 0.02912,
     "end_time": "2024-01-24T07:46:21.957094",
     "exception": false,
     "start_time": "2024-01-24T07:46:21.927974",
     "status": "completed"
    },
    "tags": []
   },
   "source": [
    "# **Bivariate Analysis**\n",
    "\n",
    "**Agenda:** Finding Correlations between Sales and other Variables."
   ]
  },
  {
   "cell_type": "code",
   "execution_count": 48,
   "id": "bbfd729a",
   "metadata": {
    "papermill": {
     "duration": 0.083322,
     "end_time": "2024-01-24T07:46:22.077615",
     "exception": false,
     "start_time": "2024-01-24T07:46:21.994293",
     "status": "completed"
    },
    "tags": []
   },
   "outputs": [
    {
     "data": {
      "text/html": [
       "<div>\n",
       "<style scoped>\n",
       "    .dataframe tbody tr th:only-of-type {\n",
       "        vertical-align: middle;\n",
       "    }\n",
       "\n",
       "    .dataframe tbody tr th {\n",
       "        vertical-align: top;\n",
       "    }\n",
       "\n",
       "    .dataframe thead th {\n",
       "        text-align: right;\n",
       "    }\n",
       "</style>\n",
       "<table border=\"1\" class=\"dataframe\">\n",
       "  <thead>\n",
       "    <tr style=\"text-align: right;\">\n",
       "      <th></th>\n",
       "      <th>Sales</th>\n",
       "      <th>Product_Cost</th>\n",
       "    </tr>\n",
       "  </thead>\n",
       "  <tbody>\n",
       "    <tr>\n",
       "      <th>Sales</th>\n",
       "      <td>1.000000</td>\n",
       "      <td>0.635539</td>\n",
       "    </tr>\n",
       "    <tr>\n",
       "      <th>Product_Cost</th>\n",
       "      <td>0.635539</td>\n",
       "      <td>1.000000</td>\n",
       "    </tr>\n",
       "  </tbody>\n",
       "</table>\n",
       "</div>"
      ],
      "text/plain": [
       "                 Sales  Product_Cost\n",
       "Sales         1.000000      0.635539\n",
       "Product_Cost  0.635539      1.000000"
      ]
     },
     "execution_count": 48,
     "metadata": {},
     "output_type": "execute_result"
    }
   ],
   "source": [
    "#Pearson coefficient between Sales & Product Prie\n",
    "MergedFile[['Sales','Product_Cost']].corr(method='pearson')"
   ]
  },
  {
   "cell_type": "markdown",
   "id": "f0c5db4c",
   "metadata": {
    "papermill": {
     "duration": 0.025803,
     "end_time": "2024-01-24T07:46:22.129842",
     "exception": false,
     "start_time": "2024-01-24T07:46:22.104039",
     "status": "completed"
    },
    "tags": []
   },
   "source": [
    "**Inference-** There is a positive correlation between Sales and Product Cost."
   ]
  },
  {
   "cell_type": "code",
   "execution_count": 49,
   "id": "e2bd0167",
   "metadata": {
    "papermill": {
     "duration": 0.066282,
     "end_time": "2024-01-24T07:46:22.221909",
     "exception": false,
     "start_time": "2024-01-24T07:46:22.155627",
     "status": "completed"
    },
    "tags": []
   },
   "outputs": [
    {
     "data": {
      "text/html": [
       "<div>\n",
       "<style scoped>\n",
       "    .dataframe tbody tr th:only-of-type {\n",
       "        vertical-align: middle;\n",
       "    }\n",
       "\n",
       "    .dataframe tbody tr th {\n",
       "        vertical-align: top;\n",
       "    }\n",
       "\n",
       "    .dataframe thead th {\n",
       "        text-align: right;\n",
       "    }\n",
       "</style>\n",
       "<table border=\"1\" class=\"dataframe\">\n",
       "  <thead>\n",
       "    <tr style=\"text-align: right;\">\n",
       "      <th></th>\n",
       "      <th>Sales</th>\n",
       "      <th>Stock_On_Hand</th>\n",
       "    </tr>\n",
       "  </thead>\n",
       "  <tbody>\n",
       "    <tr>\n",
       "      <th>Sales</th>\n",
       "      <td>1.00000</td>\n",
       "      <td>-0.07969</td>\n",
       "    </tr>\n",
       "    <tr>\n",
       "      <th>Stock_On_Hand</th>\n",
       "      <td>-0.07969</td>\n",
       "      <td>1.00000</td>\n",
       "    </tr>\n",
       "  </tbody>\n",
       "</table>\n",
       "</div>"
      ],
      "text/plain": [
       "                 Sales  Stock_On_Hand\n",
       "Sales          1.00000       -0.07969\n",
       "Stock_On_Hand -0.07969        1.00000"
      ]
     },
     "execution_count": 49,
     "metadata": {},
     "output_type": "execute_result"
    }
   ],
   "source": [
    "# Sales & Stock_On_Hand\n",
    "MergedFile[['Sales','Stock_On_Hand']].corr(method='pearson')"
   ]
  },
  {
   "cell_type": "markdown",
   "id": "d9d72cb3",
   "metadata": {
    "papermill": {
     "duration": 0.025416,
     "end_time": "2024-01-24T07:46:22.273639",
     "exception": false,
     "start_time": "2024-01-24T07:46:22.248223",
     "status": "completed"
    },
    "tags": []
   },
   "source": [
    "**Inference-** There is a negative correlation between Sales and Stock on Hand."
   ]
  },
  {
   "cell_type": "code",
   "execution_count": 50,
   "id": "91c9a9ff",
   "metadata": {
    "papermill": {
     "duration": 0.070867,
     "end_time": "2024-01-24T07:46:22.371233",
     "exception": false,
     "start_time": "2024-01-24T07:46:22.300366",
     "status": "completed"
    },
    "tags": []
   },
   "outputs": [
    {
     "data": {
      "text/html": [
       "<div>\n",
       "<style scoped>\n",
       "    .dataframe tbody tr th:only-of-type {\n",
       "        vertical-align: middle;\n",
       "    }\n",
       "\n",
       "    .dataframe tbody tr th {\n",
       "        vertical-align: top;\n",
       "    }\n",
       "\n",
       "    .dataframe thead th {\n",
       "        text-align: right;\n",
       "    }\n",
       "</style>\n",
       "<table border=\"1\" class=\"dataframe\">\n",
       "  <thead>\n",
       "    <tr style=\"text-align: right;\">\n",
       "      <th></th>\n",
       "      <th>Sales</th>\n",
       "      <th>Month</th>\n",
       "    </tr>\n",
       "  </thead>\n",
       "  <tbody>\n",
       "    <tr>\n",
       "      <th>Sales</th>\n",
       "      <td>1.000000</td>\n",
       "      <td>-0.026523</td>\n",
       "    </tr>\n",
       "    <tr>\n",
       "      <th>Month</th>\n",
       "      <td>-0.026523</td>\n",
       "      <td>1.000000</td>\n",
       "    </tr>\n",
       "  </tbody>\n",
       "</table>\n",
       "</div>"
      ],
      "text/plain": [
       "          Sales     Month\n",
       "Sales  1.000000 -0.026523\n",
       "Month -0.026523  1.000000"
      ]
     },
     "execution_count": 50,
     "metadata": {},
     "output_type": "execute_result"
    }
   ],
   "source": [
    "# Sales and Month\n",
    "MergedFile[['Sales','Month']].corr(method='pearson')"
   ]
  },
  {
   "cell_type": "markdown",
   "id": "3073dabd",
   "metadata": {
    "papermill": {
     "duration": 0.025771,
     "end_time": "2024-01-24T07:46:22.423173",
     "exception": false,
     "start_time": "2024-01-24T07:46:22.397402",
     "status": "completed"
    },
    "tags": []
   },
   "source": [
    "**Inference-** There is a negative but **weak** correlation between Sales and Month."
   ]
  },
  {
   "cell_type": "code",
   "execution_count": 51,
   "id": "d094c382",
   "metadata": {
    "papermill": {
     "duration": 0.118376,
     "end_time": "2024-01-24T07:46:22.568632",
     "exception": false,
     "start_time": "2024-01-24T07:46:22.450256",
     "status": "completed"
    },
    "tags": []
   },
   "outputs": [
    {
     "data": {
      "text/html": [
       "<div>\n",
       "<style scoped>\n",
       "    .dataframe tbody tr th:only-of-type {\n",
       "        vertical-align: middle;\n",
       "    }\n",
       "\n",
       "    .dataframe tbody tr th {\n",
       "        vertical-align: top;\n",
       "    }\n",
       "\n",
       "    .dataframe thead th {\n",
       "        text-align: right;\n",
       "    }\n",
       "</style>\n",
       "<table border=\"1\" class=\"dataframe\">\n",
       "  <thead>\n",
       "    <tr style=\"text-align: right;\">\n",
       "      <th></th>\n",
       "      <th>Units</th>\n",
       "      <th>Month</th>\n",
       "      <th>Stock_On_Hand</th>\n",
       "      <th>Product_Price</th>\n",
       "    </tr>\n",
       "  </thead>\n",
       "  <tbody>\n",
       "    <tr>\n",
       "      <th>Units</th>\n",
       "      <td>1.000000</td>\n",
       "      <td>-0.008336</td>\n",
       "      <td>0.071421</td>\n",
       "      <td>-0.096340</td>\n",
       "    </tr>\n",
       "    <tr>\n",
       "      <th>Month</th>\n",
       "      <td>-0.008336</td>\n",
       "      <td>1.000000</td>\n",
       "      <td>-0.002916</td>\n",
       "      <td>-0.016262</td>\n",
       "    </tr>\n",
       "    <tr>\n",
       "      <th>Stock_On_Hand</th>\n",
       "      <td>0.071421</td>\n",
       "      <td>-0.002916</td>\n",
       "      <td>1.000000</td>\n",
       "      <td>-0.180476</td>\n",
       "    </tr>\n",
       "    <tr>\n",
       "      <th>Product_Price</th>\n",
       "      <td>-0.096340</td>\n",
       "      <td>-0.016262</td>\n",
       "      <td>-0.180476</td>\n",
       "      <td>1.000000</td>\n",
       "    </tr>\n",
       "  </tbody>\n",
       "</table>\n",
       "</div>"
      ],
      "text/plain": [
       "                  Units     Month  Stock_On_Hand  Product_Price\n",
       "Units          1.000000 -0.008336       0.071421      -0.096340\n",
       "Month         -0.008336  1.000000      -0.002916      -0.016262\n",
       "Stock_On_Hand  0.071421 -0.002916       1.000000      -0.180476\n",
       "Product_Price -0.096340 -0.016262      -0.180476       1.000000"
      ]
     },
     "execution_count": 51,
     "metadata": {},
     "output_type": "execute_result"
    }
   ],
   "source": [
    "#Correlation for Number of Units Sold\n",
    "MergedFile[['Units','Month','Stock_On_Hand','Product_Price']].corr(method='pearson')"
   ]
  },
  {
   "cell_type": "code",
   "execution_count": 52,
   "id": "b64d12a0",
   "metadata": {
    "papermill": {
     "duration": 1.018648,
     "end_time": "2024-01-24T07:46:23.613333",
     "exception": false,
     "start_time": "2024-01-24T07:46:22.594685",
     "status": "completed"
    },
    "tags": []
   },
   "outputs": [
    {
     "data": {
      "image/png": "[encoded data removed]",
      "text/plain": [
       "<Figure size 1200x1000 with 4 Axes>"
      ]
     },
     "metadata": {},
     "output_type": "display_data"
    }
   ],
   "source": [
    "# Assuming MergedFile is your DataFrame\n",
    "Corr = MergedFile[['Units', 'Month', 'Stock_On_Hand', 'Product_Price']].corr()\n",
    "\n",
    "# Create subplots for each correlation\n",
    "fig, axes = plt.subplots(nrows=2, ncols=2, figsize=(12, 10))\n",
    "\n",
    "# Flatten the 2D array of subplots for easier indexing\n",
    "axes = axes.flatten()\n",
    "\n",
    "# List of variables to loop through\n",
    "variables = ['Units', 'Month', 'Stock_On_Hand', 'Product_Price']\n",
    "\n",
    "for i, variable in enumerate(variables):\n",
    "    # Create a bar plot for the correlation with the current variable\n",
    "    sns.barplot(x=Corr.index, y=Corr[variable], ax=axes[i])\n",
    "    \n",
    "    # Set plot title\n",
    "    axes[i].set_title(f'Correlation with {variable}')\n",
    "\n",
    "    # Set y-axis limits to match the desired range from -1 to 1\n",
    "    axes[i].set_ylim(-1, 1)\n",
    "\n",
    "# Adjust layout\n",
    "plt.tight_layout()\n",
    "plt.show()"
   ]
  },
  {
   "cell_type": "code",
   "execution_count": 53,
   "id": "1fe9aa84",
   "metadata": {
    "papermill": {
     "duration": 0.429824,
     "end_time": "2024-01-24T07:46:24.072300",
     "exception": false,
     "start_time": "2024-01-24T07:46:23.642476",
     "status": "completed"
    },
    "tags": []
   },
   "outputs": [
    {
     "data": {
      "text/plain": [
       "<Axes: >"
      ]
     },
     "execution_count": 53,
     "metadata": {},
     "output_type": "execute_result"
    },
    {
     "data": {
      "image/png": "[encoded data removed]",
      "text/plain": [
       "<Figure size 640x480 with 2 Axes>"
      ]
     },
     "metadata": {},
     "output_type": "display_data"
    }
   ],
   "source": [
    "Corr=MergedFile[['Units','Month','Stock_On_Hand','Product_Price']].corr()\n",
    "sns.heatmap(Corr,\n",
    "            xticklabels=Corr.columns.values,\n",
    "            yticklabels=Corr.columns.values)"
   ]
  },
  {
   "cell_type": "markdown",
   "id": "20869775",
   "metadata": {
    "papermill": {
     "duration": 0.027657,
     "end_time": "2024-01-24T07:46:24.127771",
     "exception": false,
     "start_time": "2024-01-24T07:46:24.100114",
     "status": "completed"
    },
    "tags": []
   },
   "source": [
    "**Summary of Bivariate Analysis**\n",
    "1. There is a significant correlation between Sales and Product_Cost.\n",
    "2. Also, Product Price and Sales have positive correlation.\n",
    "3. Stock In hand and Month does not affect the overall Sales.\n",
    "4. Number of Units Sold are not affected by Product Price.\n",
    "5. Similarly, Stock in Hand and months does not influence  total sold units."
   ]
  },
  {
   "cell_type": "markdown",
   "id": "bb9ee185",
   "metadata": {
    "papermill": {
     "duration": 0.027319,
     "end_time": "2024-01-24T07:46:24.182796",
     "exception": false,
     "start_time": "2024-01-24T07:46:24.155477",
     "status": "completed"
    },
    "tags": []
   },
   "source": [
    "# **HYPOTHESIS TESTING**"
   ]
  },
  {
   "cell_type": "markdown",
   "id": "08020b9d",
   "metadata": {
    "papermill": {
     "duration": 0.027079,
     "end_time": "2024-01-24T07:46:24.237505",
     "exception": false,
     "start_time": "2024-01-24T07:46:24.210426",
     "status": "completed"
    },
    "tags": []
   },
   "source": [
    "**1.Test for Correlation Between Stocks On Hands and Sales Volume**\n",
    "\n",
    "**Null Hypothesis:** H0= There is a strong Correlation Between Stock on Hand and Sales Volume\n",
    "\n",
    "**Alternate Hypothesis:** H1= There is no strong Correlation Between Stock On Hand and Sales Volume"
   ]
  },
  {
   "cell_type": "code",
   "execution_count": 54,
   "id": "c4e9f372",
   "metadata": {
    "papermill": {
     "duration": 4.757624,
     "end_time": "2024-01-24T07:46:29.022816",
     "exception": false,
     "start_time": "2024-01-24T07:46:24.265192",
     "status": "completed"
    },
    "tags": []
   },
   "outputs": [
    {
     "data": {
      "image/png": "[encoded data removed]",
      "text/plain": [
       "<Figure size 640x480 with 1 Axes>"
      ]
     },
     "metadata": {},
     "output_type": "display_data"
    }
   ],
   "source": [
    "# Plotting Histogram and KDE of Stock_On_Hand\n",
    "sns.histplot(MergedFile['Stock_On_Hand'], bins='auto', kde=True, color='blue', edgecolor='black')\n",
    "\n",
    "# Adding labels and title\n",
    "plt.xlabel('Stock_On_Hand')\n",
    "plt.ylabel('Density')\n",
    "plt.title('Histogram and KDE of Stock_On_Hand')\n",
    "\n",
    "# Displaying the plot\n",
    "plt.show()"
   ]
  },
  {
   "cell_type": "code",
   "execution_count": 55,
   "id": "f837aad3",
   "metadata": {
    "papermill": {
     "duration": 4.002303,
     "end_time": "2024-01-24T07:46:33.056487",
     "exception": false,
     "start_time": "2024-01-24T07:46:29.054184",
     "status": "completed"
    },
    "tags": []
   },
   "outputs": [
    {
     "data": {
      "image/png": "[encoded data removed]",
      "text/plain": [
       "<Figure size 640x480 with 1 Axes>"
      ]
     },
     "metadata": {},
     "output_type": "display_data"
    }
   ],
   "source": [
    "# Plotting Histogram and KDE of Units\n",
    "sns.histplot(MergedFile['Units'], bins='auto', kde=True, color='blue', edgecolor='black')\n",
    "\n",
    "# Adding labels and title\n",
    "plt.xlabel('Units')\n",
    "plt.ylabel('Density')\n",
    "plt.title('Histogram and KDE of Units')\n",
    "\n",
    "# Displaying the plot\n",
    "plt.show()"
   ]
  },
  {
   "cell_type": "code",
   "execution_count": 56,
   "id": "249ea868",
   "metadata": {
    "papermill": {
     "duration": 0.053953,
     "end_time": "2024-01-24T07:46:33.139955",
     "exception": false,
     "start_time": "2024-01-24T07:46:33.086002",
     "status": "completed"
    },
    "tags": []
   },
   "outputs": [
    {
     "name": "stdout",
     "output_type": "stream",
     "text": [
      "Pearson Correlation Coefficient: 0.07142073291877102\n",
      "There is not a strong correlation between Stock on Hand and Sales Volume.\n"
     ]
    }
   ],
   "source": [
    "# Calculate the Pearson correlation coefficient\n",
    "correlation = MergedFile['Stock_On_Hand'].corr(MergedFile['Units'])\n",
    "\n",
    "# Display the correlation coefficient\n",
    "print(f'Pearson Correlation Coefficient: {correlation}')\n",
    "\n",
    "# Check the strength of the correlation\n",
    "if abs(correlation) > 0.7:\n",
    "    print('There is a strong correlation between Stock on Hand and Sales Volume.')\n",
    "else:\n",
    "    print('There is not a strong correlation between Stock on Hand and Sales Volume.')"
   ]
  },
  {
   "cell_type": "markdown",
   "id": "955f6f96",
   "metadata": {
    "papermill": {
     "duration": 0.028922,
     "end_time": "2024-01-24T07:46:33.198155",
     "exception": false,
     "start_time": "2024-01-24T07:46:33.169233",
     "status": "completed"
    },
    "tags": []
   },
   "source": [
    "# **p-value-**\n",
    "\n",
    "A p-value of 0.0 in the context of statistical testing usually means that the p-value is extremely small and has reached the precision limit of the computer. It doesn't literally mean the p-value is exactly zero, but rather that it's very close to zero.\n",
    "\n",
    "In practical terms, when you see a p-value close to zero, it indicates strong evidence against the null hypothesis.\n",
    "\n",
    "# **Table showing strength of correlation-**\n",
    "\n",
    "> 0.0<0.1 - No Correlation\n",
    "\n",
    "> 0.1<0.3 - Low Correlation\n",
    "\n",
    "> 0.3<0.5 - Medium Correlation\n",
    "\n",
    "> 0.5<0.7 - High Correlation\n",
    "\n",
    "> 0.7<1 - Very High Correlation"
   ]
  },
  {
   "cell_type": "markdown",
   "id": "9aefde9d",
   "metadata": {
    "papermill": {
     "duration": 0.028495,
     "end_time": "2024-01-24T07:46:33.256859",
     "exception": false,
     "start_time": "2024-01-24T07:46:33.228364",
     "status": "completed"
    },
    "tags": []
   },
   "source": [
    "**2. Test for finding influence on Sales at different Store Location.**\n",
    "\n",
    "**Null Hypothesis:** H0= Store Location has strong influences on Sales.\n",
    "\n",
    "**Alternate Hypothesis:** H1= Store Location donot have strong influences on Sales."
   ]
  },
  {
   "cell_type": "code",
   "execution_count": 57,
   "id": "be9638c1",
   "metadata": {
    "papermill": {
     "duration": 3.816214,
     "end_time": "2024-01-24T07:46:37.101966",
     "exception": false,
     "start_time": "2024-01-24T07:46:33.285752",
     "status": "completed"
    },
    "tags": []
   },
   "outputs": [
    {
     "data": {
      "image/png": "[encoded data removed]",
      "text/plain": [
       "<Figure size 640x480 with 1 Axes>"
      ]
     },
     "metadata": {},
     "output_type": "display_data"
    }
   ],
   "source": [
    "# Plotting KDE of Sales\n",
    "sns.kdeplot(MergedFile['Sales'], color='blue', fill=True)\n",
    "\n",
    "# Adding labels and title\n",
    "plt.xlabel('Sales')\n",
    "plt.ylabel('Density')\n",
    "plt.title('Kernel Density Estimate of Sales')\n",
    "\n",
    "# Displaying the plot\n",
    "plt.show()"
   ]
  },
  {
   "cell_type": "code",
   "execution_count": 58,
   "id": "442036f6",
   "metadata": {
    "papermill": {
     "duration": 0.48852,
     "end_time": "2024-01-24T07:46:37.619911",
     "exception": false,
     "start_time": "2024-01-24T07:46:37.131391",
     "status": "completed"
    },
    "tags": []
   },
   "outputs": [
    {
     "name": "stdout",
     "output_type": "stream",
     "text": [
      "One-way ANOVA Test: F-statistic=283.9115518080945, p-value=3.239408288754662e-184\n",
      "There is a significant difference in sales between different store locations.\n"
     ]
    }
   ],
   "source": [
    "from scipy.stats import f_oneway\n",
    "\n",
    "# Separate the sales data for each store location\n",
    "Residential = MergedFile[MergedFile['Store_Location'] == 'Residential']['Sales']\n",
    "Commercial = MergedFile[MergedFile['Store_Location'] == 'Commercial']['Sales']\n",
    "Downtown = MergedFile[MergedFile['Store_Location'] == 'Downtown']['Sales']\n",
    "Airport = MergedFile[MergedFile['Store_Location'] == 'Airport']['Sales']\n",
    "\n",
    "# Perform the one-way ANOVA test\n",
    "statistic, p_value = f_oneway(Residential, Commercial, Downtown,Airport)\n",
    "\n",
    "# Display the results\n",
    "print(f'One-way ANOVA Test: F-statistic={statistic}, p-value={p_value}')\n",
    "\n",
    "# Check the significance of the results\n",
    "if p_value < 0.05:\n",
    "    print('There is a significant difference in sales between different store locations.')\n",
    "else:\n",
    "    print('There is no significant difference in sales between different store locations.')"
   ]
  },
  {
   "cell_type": "markdown",
   "id": "d1c9919c",
   "metadata": {
    "papermill": {
     "duration": 0.029725,
     "end_time": "2024-01-24T07:46:37.680124",
     "exception": false,
     "start_time": "2024-01-24T07:46:37.650399",
     "status": "completed"
    },
    "tags": []
   },
   "source": [
    "**Since, the density curve of Sales do not follow Normal Distribution therefore conclusions from Oneway ANOVA  cannot be taken into consideration. Hence,  Hypothesis Test is  further conducted using Kruskal Wallis Method.**"
   ]
  },
  {
   "cell_type": "code",
   "execution_count": 59,
   "id": "3e98345f",
   "metadata": {
    "papermill": {
     "duration": 0.563597,
     "end_time": "2024-01-24T07:46:38.273971",
     "exception": false,
     "start_time": "2024-01-24T07:46:37.710374",
     "status": "completed"
    },
    "tags": []
   },
   "outputs": [
    {
     "name": "stdout",
     "output_type": "stream",
     "text": [
      "Kruskal-Wallis H Test: Statistic=828.3233210001104, p-value=3.1148676204715556e-179\n",
      "There is a significant difference in sales between different store locations.\n"
     ]
    }
   ],
   "source": [
    "from scipy.stats import kruskal\n",
    "\n",
    "# Separate the sales data for each store location\n",
    "Residential = MergedFile[MergedFile['Store_Location'] == 'Residential']['Sales']\n",
    "Commercial = MergedFile[MergedFile['Store_Location'] == 'Commercial']['Sales']\n",
    "Downtown = MergedFile[MergedFile['Store_Location'] == 'Downtown']['Sales']\n",
    "Airport = MergedFile[MergedFile['Store_Location'] == 'Airport']['Sales']\n",
    "\n",
    "# Perform the Kruskal-Wallis H test\n",
    "statistic, p_value = kruskal(Residential, Commercial, Downtown,Airport)\n",
    "\n",
    "# Display the results\n",
    "print(f'Kruskal-Wallis H Test: Statistic={statistic}, p-value={p_value}')\n",
    "\n",
    "# Check the significance of the results\n",
    "if p_value < 0.05:\n",
    "    print('There is a significant difference in sales between different store locations.')\n",
    "else:\n",
    "    print('There is no significant difference in sales between different store locations.')"
   ]
  },
  {
   "cell_type": "markdown",
   "id": "97eb903e",
   "metadata": {
    "papermill": {
     "duration": 0.031192,
     "end_time": "2024-01-24T07:46:38.336413",
     "exception": false,
     "start_time": "2024-01-24T07:46:38.305221",
     "status": "completed"
    },
    "tags": []
   },
   "source": [
    "## **Multiple Linear Regression Model**"
   ]
  },
  {
   "cell_type": "code",
   "execution_count": 60,
   "id": "68c87e98",
   "metadata": {
    "papermill": {
     "duration": 3.855366,
     "end_time": "2024-01-24T07:46:42.222455",
     "exception": false,
     "start_time": "2024-01-24T07:46:38.367089",
     "status": "completed"
    },
    "tags": []
   },
   "outputs": [
    {
     "name": "stdout",
     "output_type": "stream",
     "text": [
      "R-squared score: 0.8110368672438331\n"
     ]
    }
   ],
   "source": [
    "import pandas as pd\n",
    "from sklearn.model_selection import train_test_split\n",
    "from sklearn.linear_model import LinearRegression\n",
    "from sklearn.preprocessing import OneHotEncoder, LabelEncoder\n",
    "from sklearn.compose import ColumnTransformer\n",
    "from sklearn.pipeline import Pipeline\n",
    "\n",
    "# Selecting relevant features for prediction\n",
    "features = ['Store_City', 'Store_Location','Product_ID', 'Units', 'Stock_On_Hand', 'Product_Cost', 'Product_Price']\n",
    "\n",
    "# Assuming 'MergedFile' is your DataFrame\n",
    "y = MergedFile['Sales']\n",
    "X = MergedFile[features].copy()  # Create a copy to avoid SettingWithCopyWarning\n",
    "\n",
    "# Ensure 'Store_City' and 'Store_Location' contain only categorical data\n",
    "X.loc[:, 'Store_City'] = X['Store_City'].astype(str)\n",
    "X.loc[:, 'Store_Location'] = X['Store_Location'].astype(str)\n",
    "\n",
    "# Label encoding for categorical columns\n",
    "label_encoder = LabelEncoder()\n",
    "X['Store_City'] = label_encoder.fit_transform(X['Store_City'])\n",
    "X['Store_Location'] = label_encoder.fit_transform(X['Store_Location'])\n",
    "\n",
    "X.rename(columns = {'Store_City': 'Store_City_LE'}, inplace=True)\n",
    "X.rename(columns = {'Store_Location': 'Store_Location_LE'}, inplace=True)\n",
    "\n",
    "# Categorical columns\n",
    "cat_cols = ['Store_City_LE', 'Store_City_LE']\n",
    "\n",
    "# Splitting into train and test sets\n",
    "X_train, X_test, y_train, y_test = train_test_split(X, y, test_size=0.2, random_state=42)\n",
    "\n",
    "# Pipeline for encoding categorical variables and fitting the model\n",
    "pipeline = Pipeline([\n",
    "    ('one_hot_encoder', ColumnTransformer([\n",
    "        ('one_hot_encoder', OneHotEncoder(drop='first'), cat_cols)\n",
    "    ], remainder='passthrough')),\n",
    "    ('regressor', LinearRegression())  # Using Linear Regression as the model\n",
    "])\n",
    "\n",
    "# Fit the pipeline on the training data\n",
    "pipeline.fit(X_train, y_train)\n",
    "\n",
    "# Predict on the test set\n",
    "predictions = pipeline.predict(X_test)\n",
    "\n",
    "# Evaluate the model (use appropriate evaluation metrics)\n",
    "r_squared = pipeline.score(X_test, y_test)\n",
    "print(f\"R-squared score: {r_squared}\")"
   ]
  },
  {
   "cell_type": "markdown",
   "id": "db4338b9",
   "metadata": {
    "papermill": {
     "duration": 0.036402,
     "end_time": "2024-01-24T07:46:42.293469",
     "exception": false,
     "start_time": "2024-01-24T07:46:42.257067",
     "status": "completed"
    },
    "tags": []
   },
   "source": [
    "R squared (R2) is a regression error metric that justifies the performance of the model. It represents the value of how much the independent variables are able to describe the value for the response/target variable.\n",
    "\n",
    "R-squared values range from 0 to 1 and are commonly stated as percentages from 0% to 100%. An R-squared of 100% means that all of the movements of a security (or another dependent variable) are completely explained by movements in the index (or whatever independent variable you are interested in)."
   ]
  },
  {
   "cell_type": "code",
   "execution_count": 61,
   "id": "e68818f7",
   "metadata": {
    "papermill": {
     "duration": 0.051005,
     "end_time": "2024-01-24T07:46:42.378860",
     "exception": false,
     "start_time": "2024-01-24T07:46:42.327855",
     "status": "completed"
    },
    "tags": []
   },
   "outputs": [],
   "source": [
    "def model_pred(MergedFile, Store_City, Store_Location, ref_city, ref_loc):\n",
    "  #Creating a copy of MergedFile for Label Encoding\n",
    "  Pred_X = MergedFile[features].copy()\n",
    "\n",
    "  # Label Encoding of all the features\n",
    "  label_encoder = LabelEncoder()\n",
    "  Pred_X['Store_City_LE'] = label_encoder.fit_transform(Pred_X['Store_City'])\n",
    "  Pred_X['Store_Location_LE'] = label_encoder.fit_transform(Pred_X['Store_Location'])\n",
    "\n",
    "  #Finding the Label Encoded values of City and Location\n",
    "  Store_City_LE = Pred_X[Pred_X['Store_City'] == Store_City]['Store_City_LE'].unique()\n",
    "  Store_Location_LE = Pred_X[Pred_X['Store_Location'] == Store_Location]['Store_Location_LE'].unique()\n",
    "\n",
    "  #Creating dataframe for the City and Location\n",
    "  new_store_data = {\n",
    "      'Store_City_LE': Store_City_LE,\n",
    "      'Store_Location_LE': Store_Location_LE}\n",
    "  new_store_df =  pd.DataFrame(new_store_data)\n",
    "\n",
    "  # print('New Store Dataframe',new_store_df)\n",
    "\n",
    "  #Creating the dataframe with rest of the features\n",
    "  Pred_features = MergedFile[(MergedFile['Store_City'] == ref_city) &(MergedFile['Store_Location'] == ref_loc)][['Product_ID', 'Units', 'Stock_On_Hand', 'Product_Cost', 'Product_Price']]\n",
    "  # print('Size of pred features', Pred_features.shape)\n",
    "\n",
    "  #Resizing new_store_df to the size of Pred_features_df\n",
    "  new_store_resized_df = pd.concat([new_store_df]*len(Pred_features),ignore_index=True)\n",
    "  # print('resized New Store Dataframe',new_store_resized_df)\n",
    "\n",
    "  #Dropping index of Pred_features dataframe for alignment during concate\n",
    "  Pred_features.reset_index(drop=True, inplace=True)\n",
    "\n",
    "  Pred_features_final_df = pd.concat([new_store_resized_df, Pred_features], axis = 1)\n",
    "  # print('Dataframe to be passed for prediction', Pred_features_final_df)\n",
    "\n",
    "  # Use the pipeline to make predictions for the new store data\n",
    "  predicted_sales = pipeline.predict(Pred_features_final_df)\n",
    "  pred_sales_df = pd.DataFrame(predicted_sales, columns = ['Pred_Sales'])\n",
    "  # print('pred_sales_df', pred_sales_df)\n",
    "  prediction_df = pd.concat([Pred_features_final_df, pred_sales_df], axis=1)\n",
    "  city_loc_data = {\n",
    "      'Store_City': Store_City,\n",
    "      'Store_Location': Store_Location,\n",
    "      'Store_City_LE': Store_City_LE,\n",
    "      'Store_Location_LE': Store_Location_LE}\n",
    "  city_loc_df =  pd.DataFrame(city_loc_data)\n",
    "  prediction_final_df = prediction_df.merge(city_loc_df, on=['Store_City_LE', 'Store_Location_LE'], how='inner')\n",
    "  return(prediction_final_df[['Store_City', 'Store_Location', 'Product_ID',\t'Units', 'Stock_On_Hand',\t'Product_Cost',\t'Product_Price', 'Pred_Sales']])"
   ]
  },
  {
   "cell_type": "code",
   "execution_count": 62,
   "id": "c832de15",
   "metadata": {
    "papermill": {
     "duration": 0.309181,
     "end_time": "2024-01-24T07:46:42.724243",
     "exception": false,
     "start_time": "2024-01-24T07:46:42.415062",
     "status": "completed"
    },
    "tags": []
   },
   "outputs": [],
   "source": [
    "#Finding the combinations of city and locations present in the data\n",
    "present_combinations = MergedFile[['Store_City', 'Store_Location']].drop_duplicates()\n",
    "present_combinations.sort_values(by='Store_City', ascending=True, inplace=True)\n",
    "\n",
    "#Finding all the unqiue cities and location\n",
    "store_loc = pd.DataFrame(MergedFile['Store_Location'].unique())\n",
    "store_loc.rename(columns = {0:'Store_Location'}, inplace=True)\n",
    "store_city = pd.DataFrame(MergedFile['Store_City'].unique())\n",
    "store_city.rename(columns = {0:'Store_City'}, inplace=True)\n",
    "\n",
    "#Dropping the indices for merging\n",
    "store_loc.reset_index(drop=True, inplace=True)\n",
    "store_city.reset_index(drop=True, inplace=True)\n",
    "\n",
    "#Creating all combinations of cities and locations\n",
    "repeated_df1 = pd.concat([store_loc] * store_city.shape[0], ignore_index=True)\n",
    "repeated_df2 = pd.concat([store_city] * store_loc.shape[0], ignore_index=True)\n",
    "all_combinations = pd.concat([repeated_df2, repeated_df1], axis=1)\n",
    "all_combinations.sort_values(by='Store_City', ascending=True, inplace=True)\n",
    "\n",
    "#Finding the missing combinations\n",
    "merged = all_combinations.merge(present_combinations, on=['Store_City', 'Store_Location'], how='left', indicator=True)\n",
    "missing_combination = merged[merged['_merge'] == 'left_only'][['Store_City','Store_Location']]"
   ]
  },
  {
   "cell_type": "code",
   "execution_count": 63,
   "id": "57d4448a",
   "metadata": {
    "papermill": {
     "duration": 0.19429,
     "end_time": "2024-01-24T07:46:42.952853",
     "exception": false,
     "start_time": "2024-01-24T07:46:42.758563",
     "status": "completed"
    },
    "tags": []
   },
   "outputs": [
    {
     "name": "stdout",
     "output_type": "stream",
     "text": [
      "Count of each store location for all store cities:\n",
      "          Store_City Store_Location  Count\n",
      "0     Aguascalientes       Downtown  14588\n",
      "1           Campeche     Commercial  12805\n",
      "2           Campeche       Downtown  17695\n",
      "3           Chetumal       Downtown  14644\n",
      "4          Chihuahua     Commercial  13998\n",
      "5          Chihuahua       Downtown  16580\n",
      "6       Chilpancingo       Downtown  14592\n",
      "7    Ciudad Victoria       Downtown  16034\n",
      "8         Cuernavaca       Downtown  13643\n",
      "9   Cuidad de Mexico        Airport  29024\n",
      "10  Cuidad de Mexico     Commercial  17668\n",
      "11  Cuidad de Mexico       Downtown  24482\n",
      "12  Cuidad de Mexico    Residential  19551\n",
      "13          Culiacan       Downtown  14594\n",
      "14           Durango       Downtown  14110\n",
      "15       Guadalajara        Airport  23384\n",
      "16       Guadalajara     Commercial  16331\n",
      "17       Guadalajara       Downtown  18739\n",
      "18       Guadalajara    Residential  15926\n",
      "19        Guanajuato     Commercial  16494\n",
      "20        Guanajuato       Downtown  18157\n",
      "21        Guanajuato    Residential  14569\n",
      "22        Hermosillo     Commercial  16553\n",
      "23        Hermosillo       Downtown  18018\n",
      "24        Hermosillo    Residential  15264\n",
      "25            La Paz       Downtown  13217\n",
      "26            Merida       Downtown  14875\n",
      "27          Mexicali     Commercial  16864\n",
      "28          Mexicali       Downtown  16991\n",
      "29         Monterrey        Airport  16049\n",
      "30         Monterrey     Commercial  16276\n",
      "31         Monterrey       Downtown  21300\n",
      "32         Monterrey    Residential  15698\n",
      "33           Morelia       Downtown  14956\n",
      "34            Oaxaca       Downtown  13957\n",
      "35           Pachuca       Downtown  14969\n",
      "36            Puebla     Commercial  15776\n",
      "37            Puebla       Downtown  16764\n",
      "38            Puebla    Residential  14868\n",
      "39          Saltillo     Commercial  14166\n",
      "40          Saltillo       Downtown  18924\n",
      "41   San Luis Potosi       Downtown  15499\n",
      "42          Santiago       Downtown  16111\n",
      "43            Toluca     Commercial  12776\n",
      "44            Toluca       Downtown  23533\n",
      "45  Tuxtla Gutierrez       Downtown  14618\n",
      "46      Villahermosa       Downtown  16324\n",
      "47            Xalapa     Commercial  14998\n",
      "48            Xalapa       Downtown  18809\n",
      "49         Zacatecas       Downtown  13501\n"
     ]
    }
   ],
   "source": [
    "store_location_counts = MergedFile.groupby(['Store_City', 'Store_Location']).size().reset_index(name='Count')\n",
    "\n",
    "# Print the result\n",
    "print(\"Count of each store location for all store cities:\")\n",
    "print(store_location_counts)"
   ]
  },
  {
   "cell_type": "code",
   "execution_count": 64,
   "id": "e571f147",
   "metadata": {
    "papermill": {
     "duration": 0.045364,
     "end_time": "2024-01-24T07:46:43.029903",
     "exception": false,
     "start_time": "2024-01-24T07:46:42.984539",
     "status": "completed"
    },
    "tags": []
   },
   "outputs": [
    {
     "name": "stdout",
     "output_type": "stream",
     "text": [
      "Average Sales per store: 289109.56\n"
     ]
    }
   ],
   "source": [
    "average_sales = MergedFile['Sales'].sum()/50\n",
    "\n",
    "print(\"Average Sales per store:\", average_sales)"
   ]
  },
  {
   "cell_type": "code",
   "execution_count": 65,
   "id": "d07eab47",
   "metadata": {
    "papermill": {
     "duration": 87.138323,
     "end_time": "2024-01-24T07:48:10.200012",
     "exception": false,
     "start_time": "2024-01-24T07:46:43.061689",
     "status": "completed"
    },
    "tags": []
   },
   "outputs": [
    {
     "name": "stdout",
     "output_type": "stream",
     "text": [
      "The predicted sales for  Aguascalientes  and  Commercial have been added to final results df\n",
      "The predicted sales for  Aguascalientes  and  Residential have been added to final results df\n",
      "The predicted sales for  Aguascalientes  and  Airport have been added to final results df\n",
      "The predicted sales for  Campeche  and  Airport have been added to final results df\n",
      "The predicted sales for  Campeche  and  Residential have been added to final results df\n",
      "The predicted sales for  Chetumal  and  Airport have been added to final results df\n",
      "The predicted sales for  Chetumal  and  Residential have been added to final results df\n",
      "The predicted sales for  Chetumal  and  Commercial have been added to final results df\n",
      "The predicted sales for  Chihuahua  and  Residential have been added to final results df\n",
      "The predicted sales for  Chihuahua  and  Airport have been added to final results df\n",
      "The predicted sales for  Chilpancingo  and  Residential have been added to final results df\n",
      "The predicted sales for  Chilpancingo  and  Commercial have been added to final results df\n",
      "The predicted sales for  Chilpancingo  and  Airport have been added to final results df\n",
      "The predicted sales for  Ciudad Victoria  and  Residential have been added to final results df\n",
      "The predicted sales for  Ciudad Victoria  and  Airport have been added to final results df\n",
      "The predicted sales for  Ciudad Victoria  and  Commercial have been added to final results df\n",
      "The predicted sales for  Cuernavaca  and  Airport have been added to final results df\n",
      "The predicted sales for  Cuernavaca  and  Residential have been added to final results df\n",
      "The predicted sales for  Cuernavaca  and  Commercial have been added to final results df\n",
      "The predicted sales for  Culiacan  and  Commercial have been added to final results df\n",
      "The predicted sales for  Culiacan  and  Airport have been added to final results df\n",
      "The predicted sales for  Culiacan  and  Residential have been added to final results df\n",
      "The predicted sales for  Durango  and  Residential have been added to final results df\n",
      "The predicted sales for  Durango  and  Commercial have been added to final results df\n",
      "The predicted sales for  Durango  and  Airport have been added to final results df\n",
      "The predicted sales for  Guanajuato  and  Airport have been added to final results df\n",
      "The predicted sales for  Hermosillo  and  Airport have been added to final results df\n",
      "The predicted sales for  La Paz  and  Airport have been added to final results df\n",
      "The predicted sales for  La Paz  and  Residential have been added to final results df\n",
      "The predicted sales for  La Paz  and  Commercial have been added to final results df\n",
      "The predicted sales for  Merida  and  Commercial have been added to final results df\n",
      "The predicted sales for  Merida  and  Airport have been added to final results df\n",
      "The predicted sales for  Merida  and  Residential have been added to final results df\n",
      "The predicted sales for  Mexicali  and  Airport have been added to final results df\n",
      "The predicted sales for  Mexicali  and  Residential have been added to final results df\n",
      "The predicted sales for  Morelia  and  Commercial have been added to final results df\n",
      "The predicted sales for  Morelia  and  Airport have been added to final results df\n",
      "The predicted sales for  Morelia  and  Residential have been added to final results df\n",
      "The predicted sales for  Oaxaca  and  Commercial have been added to final results df\n",
      "The predicted sales for  Oaxaca  and  Residential have been added to final results df\n",
      "The predicted sales for  Oaxaca  and  Airport have been added to final results df\n",
      "The predicted sales for  Pachuca  and  Residential have been added to final results df\n",
      "The predicted sales for  Pachuca  and  Airport have been added to final results df\n",
      "The predicted sales for  Pachuca  and  Commercial have been added to final results df\n",
      "The predicted sales for  Puebla  and  Airport have been added to final results df\n",
      "The predicted sales for  Saltillo  and  Airport have been added to final results df\n",
      "The predicted sales for  Saltillo  and  Residential have been added to final results df\n",
      "The predicted sales for  San Luis Potosi  and  Commercial have been added to final results df\n",
      "The predicted sales for  San Luis Potosi  and  Airport have been added to final results df\n",
      "The predicted sales for  San Luis Potosi  and  Residential have been added to final results df\n",
      "The predicted sales for  Santiago  and  Residential have been added to final results df\n",
      "The predicted sales for  Santiago  and  Commercial have been added to final results df\n",
      "The predicted sales for  Santiago  and  Airport have been added to final results df\n",
      "The predicted sales for  Toluca  and  Residential have been added to final results df\n",
      "The predicted sales for  Toluca  and  Airport have been added to final results df\n",
      "The predicted sales for  Tuxtla Gutierrez  and  Residential have been added to final results df\n",
      "The predicted sales for  Tuxtla Gutierrez  and  Airport have been added to final results df\n",
      "The predicted sales for  Tuxtla Gutierrez  and  Commercial have been added to final results df\n",
      "The predicted sales for  Villahermosa  and  Residential have been added to final results df\n",
      "The predicted sales for  Villahermosa  and  Commercial have been added to final results df\n",
      "The predicted sales for  Villahermosa  and  Airport have been added to final results df\n",
      "The predicted sales for  Xalapa  and  Airport have been added to final results df\n",
      "The predicted sales for  Xalapa  and  Residential have been added to final results df\n",
      "The predicted sales for  Zacatecas  and  Airport have been added to final results df\n",
      "The predicted sales for  Zacatecas  and  Commercial have been added to final results df\n",
      "The predicted sales for  Zacatecas  and  Residential have been added to final results df\n"
     ]
    }
   ],
   "source": [
    "missing_city_locations = list(missing_combination.to_records(index=False))\n",
    "final_results = pd.DataFrame()\n",
    "for city_loc in missing_city_locations:\n",
    "  # City for which predictions are to be made\n",
    "  Store_City = city_loc[0] #Enter the city name\n",
    "\n",
    "  # Location for which predictions are to be made\n",
    "  Store_Location = city_loc[1] #Enter the location\n",
    "\n",
    "  # Creating variables for referring the rest of the variables' values\n",
    "  ref_city = 'Monterrey' #Enter city for reference\n",
    "  ref_loc = 'Airport' #Enter Location for reference\n",
    "\n",
    "  print('The predicted sales for ', Store_City, ' and ', Store_Location, 'have been added to final results df')\n",
    "  predicted_df = model_pred(MergedFile, Store_City, Store_Location, ref_city, ref_loc)\n",
    "  final_results = pd.concat([final_results, predicted_df], ignore_index=True)"
   ]
  },
  {
   "cell_type": "code",
   "execution_count": 66,
   "id": "61157f8e",
   "metadata": {
    "papermill": {
     "duration": 0.400098,
     "end_time": "2024-01-24T07:48:10.634190",
     "exception": false,
     "start_time": "2024-01-24T07:48:10.234092",
     "status": "completed"
    },
    "tags": []
   },
   "outputs": [
    {
     "data": {
      "text/html": [
       "<div>\n",
       "<style scoped>\n",
       "    .dataframe tbody tr th:only-of-type {\n",
       "        vertical-align: middle;\n",
       "    }\n",
       "\n",
       "    .dataframe tbody tr th {\n",
       "        vertical-align: top;\n",
       "    }\n",
       "\n",
       "    .dataframe thead th {\n",
       "        text-align: right;\n",
       "    }\n",
       "</style>\n",
       "<table border=\"1\" class=\"dataframe\">\n",
       "  <thead>\n",
       "    <tr style=\"text-align: right;\">\n",
       "      <th></th>\n",
       "      <th>Store_City</th>\n",
       "      <th>Prediction_Location</th>\n",
       "      <th>Existing_Sales</th>\n",
       "      <th>Pred_Sales</th>\n",
       "      <th>Delta_Sales</th>\n",
       "    </tr>\n",
       "  </thead>\n",
       "  <tbody>\n",
       "    <tr>\n",
       "      <th>27</th>\n",
       "      <td>La Paz</td>\n",
       "      <td>Airport</td>\n",
       "      <td>211060.0</td>\n",
       "      <td>283009.955645</td>\n",
       "      <td>71949.955645</td>\n",
       "    </tr>\n",
       "    <tr>\n",
       "      <th>28</th>\n",
       "      <td>La Paz</td>\n",
       "      <td>Commercial</td>\n",
       "      <td>211060.0</td>\n",
       "      <td>281365.917291</td>\n",
       "      <td>70305.917291</td>\n",
       "    </tr>\n",
       "    <tr>\n",
       "      <th>16</th>\n",
       "      <td>Cuernavaca</td>\n",
       "      <td>Airport</td>\n",
       "      <td>221758.0</td>\n",
       "      <td>288936.109781</td>\n",
       "      <td>67178.109781</td>\n",
       "    </tr>\n",
       "    <tr>\n",
       "      <th>29</th>\n",
       "      <td>La Paz</td>\n",
       "      <td>Residential</td>\n",
       "      <td>211060.0</td>\n",
       "      <td>278077.840583</td>\n",
       "      <td>67017.840583</td>\n",
       "    </tr>\n",
       "    <tr>\n",
       "      <th>17</th>\n",
       "      <td>Cuernavaca</td>\n",
       "      <td>Commercial</td>\n",
       "      <td>221758.0</td>\n",
       "      <td>287292.071427</td>\n",
       "      <td>65534.071427</td>\n",
       "    </tr>\n",
       "    <tr>\n",
       "      <th>18</th>\n",
       "      <td>Cuernavaca</td>\n",
       "      <td>Residential</td>\n",
       "      <td>221758.0</td>\n",
       "      <td>284003.994718</td>\n",
       "      <td>62245.994718</td>\n",
       "    </tr>\n",
       "    <tr>\n",
       "      <th>22</th>\n",
       "      <td>Durango</td>\n",
       "      <td>Airport</td>\n",
       "      <td>222493.0</td>\n",
       "      <td>283000.132523</td>\n",
       "      <td>60507.132523</td>\n",
       "    </tr>\n",
       "    <tr>\n",
       "      <th>23</th>\n",
       "      <td>Durango</td>\n",
       "      <td>Commercial</td>\n",
       "      <td>222493.0</td>\n",
       "      <td>281356.094169</td>\n",
       "      <td>58863.094169</td>\n",
       "    </tr>\n",
       "    <tr>\n",
       "      <th>24</th>\n",
       "      <td>Durango</td>\n",
       "      <td>Residential</td>\n",
       "      <td>222493.0</td>\n",
       "      <td>278068.017461</td>\n",
       "      <td>55575.017461</td>\n",
       "    </tr>\n",
       "    <tr>\n",
       "      <th>55</th>\n",
       "      <td>Tuxtla Gutierrez</td>\n",
       "      <td>Airport</td>\n",
       "      <td>229896.0</td>\n",
       "      <td>283575.890787</td>\n",
       "      <td>53679.890787</td>\n",
       "    </tr>\n",
       "    <tr>\n",
       "      <th>56</th>\n",
       "      <td>Tuxtla Gutierrez</td>\n",
       "      <td>Commercial</td>\n",
       "      <td>229896.0</td>\n",
       "      <td>281931.852433</td>\n",
       "      <td>52035.852433</td>\n",
       "    </tr>\n",
       "    <tr>\n",
       "      <th>63</th>\n",
       "      <td>Zacatecas</td>\n",
       "      <td>Airport</td>\n",
       "      <td>230155.0</td>\n",
       "      <td>282134.674933</td>\n",
       "      <td>51979.674933</td>\n",
       "    </tr>\n",
       "    <tr>\n",
       "      <th>64</th>\n",
       "      <td>Zacatecas</td>\n",
       "      <td>Commercial</td>\n",
       "      <td>230155.0</td>\n",
       "      <td>280490.636579</td>\n",
       "      <td>50335.636579</td>\n",
       "    </tr>\n",
       "    <tr>\n",
       "      <th>30</th>\n",
       "      <td>Merida</td>\n",
       "      <td>Airport</td>\n",
       "      <td>232281.0</td>\n",
       "      <td>282243.346251</td>\n",
       "      <td>49962.346251</td>\n",
       "    </tr>\n",
       "    <tr>\n",
       "      <th>0</th>\n",
       "      <td>Aguascalientes</td>\n",
       "      <td>Airport</td>\n",
       "      <td>240176.0</td>\n",
       "      <td>289009.631401</td>\n",
       "      <td>48833.631401</td>\n",
       "    </tr>\n",
       "    <tr>\n",
       "      <th>57</th>\n",
       "      <td>Tuxtla Gutierrez</td>\n",
       "      <td>Residential</td>\n",
       "      <td>229896.0</td>\n",
       "      <td>278643.775725</td>\n",
       "      <td>48747.775725</td>\n",
       "    </tr>\n",
       "    <tr>\n",
       "      <th>31</th>\n",
       "      <td>Merida</td>\n",
       "      <td>Commercial</td>\n",
       "      <td>232281.0</td>\n",
       "      <td>280599.307897</td>\n",
       "      <td>48318.307897</td>\n",
       "    </tr>\n",
       "    <tr>\n",
       "      <th>1</th>\n",
       "      <td>Aguascalientes</td>\n",
       "      <td>Commercial</td>\n",
       "      <td>240176.0</td>\n",
       "      <td>287365.593047</td>\n",
       "      <td>47189.593047</td>\n",
       "    </tr>\n",
       "    <tr>\n",
       "      <th>65</th>\n",
       "      <td>Zacatecas</td>\n",
       "      <td>Residential</td>\n",
       "      <td>230155.0</td>\n",
       "      <td>277202.559871</td>\n",
       "      <td>47047.559871</td>\n",
       "    </tr>\n",
       "    <tr>\n",
       "      <th>32</th>\n",
       "      <td>Merida</td>\n",
       "      <td>Residential</td>\n",
       "      <td>232281.0</td>\n",
       "      <td>277311.231189</td>\n",
       "      <td>45030.231189</td>\n",
       "    </tr>\n",
       "    <tr>\n",
       "      <th>10</th>\n",
       "      <td>Chilpancingo</td>\n",
       "      <td>Airport</td>\n",
       "      <td>242723.0</td>\n",
       "      <td>287008.135213</td>\n",
       "      <td>44285.135213</td>\n",
       "    </tr>\n",
       "    <tr>\n",
       "      <th>2</th>\n",
       "      <td>Aguascalientes</td>\n",
       "      <td>Residential</td>\n",
       "      <td>240176.0</td>\n",
       "      <td>284077.516339</td>\n",
       "      <td>43901.516339</td>\n",
       "    </tr>\n",
       "    <tr>\n",
       "      <th>11</th>\n",
       "      <td>Chilpancingo</td>\n",
       "      <td>Commercial</td>\n",
       "      <td>242723.0</td>\n",
       "      <td>285364.096859</td>\n",
       "      <td>42641.096859</td>\n",
       "    </tr>\n",
       "    <tr>\n",
       "      <th>41</th>\n",
       "      <td>Pachuca</td>\n",
       "      <td>Airport</td>\n",
       "      <td>237868.0</td>\n",
       "      <td>278432.318667</td>\n",
       "      <td>40564.318667</td>\n",
       "    </tr>\n",
       "    <tr>\n",
       "      <th>12</th>\n",
       "      <td>Chilpancingo</td>\n",
       "      <td>Residential</td>\n",
       "      <td>242723.0</td>\n",
       "      <td>282076.020151</td>\n",
       "      <td>39353.020151</td>\n",
       "    </tr>\n",
       "    <tr>\n",
       "      <th>42</th>\n",
       "      <td>Pachuca</td>\n",
       "      <td>Commercial</td>\n",
       "      <td>237868.0</td>\n",
       "      <td>276788.280313</td>\n",
       "      <td>38920.280313</td>\n",
       "    </tr>\n",
       "    <tr>\n",
       "      <th>38</th>\n",
       "      <td>Oaxaca</td>\n",
       "      <td>Airport</td>\n",
       "      <td>242340.0</td>\n",
       "      <td>278150.802053</td>\n",
       "      <td>35810.802053</td>\n",
       "    </tr>\n",
       "    <tr>\n",
       "      <th>43</th>\n",
       "      <td>Pachuca</td>\n",
       "      <td>Residential</td>\n",
       "      <td>237868.0</td>\n",
       "      <td>273500.203605</td>\n",
       "      <td>35632.203605</td>\n",
       "    </tr>\n",
       "    <tr>\n",
       "      <th>39</th>\n",
       "      <td>Oaxaca</td>\n",
       "      <td>Commercial</td>\n",
       "      <td>242340.0</td>\n",
       "      <td>276506.763699</td>\n",
       "      <td>34166.763699</td>\n",
       "    </tr>\n",
       "    <tr>\n",
       "      <th>19</th>\n",
       "      <td>Culiacan</td>\n",
       "      <td>Airport</td>\n",
       "      <td>251360.0</td>\n",
       "      <td>283425.338884</td>\n",
       "      <td>32065.338884</td>\n",
       "    </tr>\n",
       "    <tr>\n",
       "      <th>5</th>\n",
       "      <td>Chetumal</td>\n",
       "      <td>Airport</td>\n",
       "      <td>259109.0</td>\n",
       "      <td>290131.042640</td>\n",
       "      <td>31022.042640</td>\n",
       "    </tr>\n",
       "    <tr>\n",
       "      <th>40</th>\n",
       "      <td>Oaxaca</td>\n",
       "      <td>Residential</td>\n",
       "      <td>242340.0</td>\n",
       "      <td>273218.686991</td>\n",
       "      <td>30878.686991</td>\n",
       "    </tr>\n",
       "    <tr>\n",
       "      <th>20</th>\n",
       "      <td>Culiacan</td>\n",
       "      <td>Commercial</td>\n",
       "      <td>251360.0</td>\n",
       "      <td>281781.300530</td>\n",
       "      <td>30421.300530</td>\n",
       "    </tr>\n",
       "    <tr>\n",
       "      <th>6</th>\n",
       "      <td>Chetumal</td>\n",
       "      <td>Commercial</td>\n",
       "      <td>259109.0</td>\n",
       "      <td>288487.004286</td>\n",
       "      <td>29378.004286</td>\n",
       "    </tr>\n",
       "    <tr>\n",
       "      <th>58</th>\n",
       "      <td>Villahermosa</td>\n",
       "      <td>Airport</td>\n",
       "      <td>258420.0</td>\n",
       "      <td>286087.256190</td>\n",
       "      <td>27667.256190</td>\n",
       "    </tr>\n",
       "    <tr>\n",
       "      <th>21</th>\n",
       "      <td>Culiacan</td>\n",
       "      <td>Residential</td>\n",
       "      <td>251360.0</td>\n",
       "      <td>278493.223822</td>\n",
       "      <td>27133.223822</td>\n",
       "    </tr>\n",
       "    <tr>\n",
       "      <th>7</th>\n",
       "      <td>Chetumal</td>\n",
       "      <td>Residential</td>\n",
       "      <td>259109.0</td>\n",
       "      <td>285198.927578</td>\n",
       "      <td>26089.927578</td>\n",
       "    </tr>\n",
       "    <tr>\n",
       "      <th>59</th>\n",
       "      <td>Villahermosa</td>\n",
       "      <td>Commercial</td>\n",
       "      <td>258420.0</td>\n",
       "      <td>284443.217836</td>\n",
       "      <td>26023.217836</td>\n",
       "    </tr>\n",
       "    <tr>\n",
       "      <th>60</th>\n",
       "      <td>Villahermosa</td>\n",
       "      <td>Residential</td>\n",
       "      <td>258420.0</td>\n",
       "      <td>281155.141128</td>\n",
       "      <td>22735.141128</td>\n",
       "    </tr>\n",
       "    <tr>\n",
       "      <th>47</th>\n",
       "      <td>San Luis Potosi</td>\n",
       "      <td>Airport</td>\n",
       "      <td>263586.0</td>\n",
       "      <td>281725.102883</td>\n",
       "      <td>18139.102883</td>\n",
       "    </tr>\n",
       "    <tr>\n",
       "      <th>48</th>\n",
       "      <td>San Luis Potosi</td>\n",
       "      <td>Commercial</td>\n",
       "      <td>263586.0</td>\n",
       "      <td>280081.064529</td>\n",
       "      <td>16495.064529</td>\n",
       "    </tr>\n",
       "    <tr>\n",
       "      <th>49</th>\n",
       "      <td>San Luis Potosi</td>\n",
       "      <td>Residential</td>\n",
       "      <td>263586.0</td>\n",
       "      <td>276792.987821</td>\n",
       "      <td>13206.987821</td>\n",
       "    </tr>\n",
       "    <tr>\n",
       "      <th>35</th>\n",
       "      <td>Morelia</td>\n",
       "      <td>Airport</td>\n",
       "      <td>273269.0</td>\n",
       "      <td>285807.993596</td>\n",
       "      <td>12538.993596</td>\n",
       "    </tr>\n",
       "    <tr>\n",
       "      <th>8</th>\n",
       "      <td>Chihuahua</td>\n",
       "      <td>Airport</td>\n",
       "      <td>268928.0</td>\n",
       "      <td>280779.364669</td>\n",
       "      <td>11851.364669</td>\n",
       "    </tr>\n",
       "    <tr>\n",
       "      <th>36</th>\n",
       "      <td>Morelia</td>\n",
       "      <td>Commercial</td>\n",
       "      <td>273269.0</td>\n",
       "      <td>284163.955242</td>\n",
       "      <td>10894.955242</td>\n",
       "    </tr>\n",
       "    <tr>\n",
       "      <th>37</th>\n",
       "      <td>Morelia</td>\n",
       "      <td>Residential</td>\n",
       "      <td>273269.0</td>\n",
       "      <td>280875.878534</td>\n",
       "      <td>7606.878534</td>\n",
       "    </tr>\n",
       "    <tr>\n",
       "      <th>9</th>\n",
       "      <td>Chihuahua</td>\n",
       "      <td>Residential</td>\n",
       "      <td>268928.0</td>\n",
       "      <td>275847.249606</td>\n",
       "      <td>6919.249606</td>\n",
       "    </tr>\n",
       "    <tr>\n",
       "      <th>50</th>\n",
       "      <td>Santiago</td>\n",
       "      <td>Airport</td>\n",
       "      <td>277801.0</td>\n",
       "      <td>283363.083765</td>\n",
       "      <td>5562.083765</td>\n",
       "    </tr>\n",
       "    <tr>\n",
       "      <th>51</th>\n",
       "      <td>Santiago</td>\n",
       "      <td>Commercial</td>\n",
       "      <td>277801.0</td>\n",
       "      <td>281719.045411</td>\n",
       "      <td>3918.045411</td>\n",
       "    </tr>\n",
       "    <tr>\n",
       "      <th>44</th>\n",
       "      <td>Puebla</td>\n",
       "      <td>Airport</td>\n",
       "      <td>282841.0</td>\n",
       "      <td>284114.273698</td>\n",
       "      <td>1273.273698</td>\n",
       "    </tr>\n",
       "    <tr>\n",
       "      <th>52</th>\n",
       "      <td>Santiago</td>\n",
       "      <td>Residential</td>\n",
       "      <td>277801.0</td>\n",
       "      <td>278430.968703</td>\n",
       "      <td>629.968703</td>\n",
       "    </tr>\n",
       "  </tbody>\n",
       "</table>\n",
       "</div>"
      ],
      "text/plain": [
       "          Store_City Prediction_Location  Existing_Sales     Pred_Sales  \\\n",
       "27            La Paz             Airport        211060.0  283009.955645   \n",
       "28            La Paz          Commercial        211060.0  281365.917291   \n",
       "16        Cuernavaca             Airport        221758.0  288936.109781   \n",
       "29            La Paz         Residential        211060.0  278077.840583   \n",
       "17        Cuernavaca          Commercial        221758.0  287292.071427   \n",
       "18        Cuernavaca         Residential        221758.0  284003.994718   \n",
       "22           Durango             Airport        222493.0  283000.132523   \n",
       "23           Durango          Commercial        222493.0  281356.094169   \n",
       "24           Durango         Residential        222493.0  278068.017461   \n",
       "55  Tuxtla Gutierrez             Airport        229896.0  283575.890787   \n",
       "56  Tuxtla Gutierrez          Commercial        229896.0  281931.852433   \n",
       "63         Zacatecas             Airport        230155.0  282134.674933   \n",
       "64         Zacatecas          Commercial        230155.0  280490.636579   \n",
       "30            Merida             Airport        232281.0  282243.346251   \n",
       "0     Aguascalientes             Airport        240176.0  289009.631401   \n",
       "57  Tuxtla Gutierrez         Residential        229896.0  278643.775725   \n",
       "31            Merida          Commercial        232281.0  280599.307897   \n",
       "1     Aguascalientes          Commercial        240176.0  287365.593047   \n",
       "65         Zacatecas         Residential        230155.0  277202.559871   \n",
       "32            Merida         Residential        232281.0  277311.231189   \n",
       "10      Chilpancingo             Airport        242723.0  287008.135213   \n",
       "2     Aguascalientes         Residential        240176.0  284077.516339   \n",
       "11      Chilpancingo          Commercial        242723.0  285364.096859   \n",
       "41           Pachuca             Airport        237868.0  278432.318667   \n",
       "12      Chilpancingo         Residential        242723.0  282076.020151   \n",
       "42           Pachuca          Commercial        237868.0  276788.280313   \n",
       "38            Oaxaca             Airport        242340.0  278150.802053   \n",
       "43           Pachuca         Residential        237868.0  273500.203605   \n",
       "39            Oaxaca          Commercial        242340.0  276506.763699   \n",
       "19          Culiacan             Airport        251360.0  283425.338884   \n",
       "5           Chetumal             Airport        259109.0  290131.042640   \n",
       "40            Oaxaca         Residential        242340.0  273218.686991   \n",
       "20          Culiacan          Commercial        251360.0  281781.300530   \n",
       "6           Chetumal          Commercial        259109.0  288487.004286   \n",
       "58      Villahermosa             Airport        258420.0  286087.256190   \n",
       "21          Culiacan         Residential        251360.0  278493.223822   \n",
       "7           Chetumal         Residential        259109.0  285198.927578   \n",
       "59      Villahermosa          Commercial        258420.0  284443.217836   \n",
       "60      Villahermosa         Residential        258420.0  281155.141128   \n",
       "47   San Luis Potosi             Airport        263586.0  281725.102883   \n",
       "48   San Luis Potosi          Commercial        263586.0  280081.064529   \n",
       "49   San Luis Potosi         Residential        263586.0  276792.987821   \n",
       "35           Morelia             Airport        273269.0  285807.993596   \n",
       "8          Chihuahua             Airport        268928.0  280779.364669   \n",
       "36           Morelia          Commercial        273269.0  284163.955242   \n",
       "37           Morelia         Residential        273269.0  280875.878534   \n",
       "9          Chihuahua         Residential        268928.0  275847.249606   \n",
       "50          Santiago             Airport        277801.0  283363.083765   \n",
       "51          Santiago          Commercial        277801.0  281719.045411   \n",
       "44            Puebla             Airport        282841.0  284114.273698   \n",
       "52          Santiago         Residential        277801.0  278430.968703   \n",
       "\n",
       "     Delta_Sales  \n",
       "27  71949.955645  \n",
       "28  70305.917291  \n",
       "16  67178.109781  \n",
       "29  67017.840583  \n",
       "17  65534.071427  \n",
       "18  62245.994718  \n",
       "22  60507.132523  \n",
       "23  58863.094169  \n",
       "24  55575.017461  \n",
       "55  53679.890787  \n",
       "56  52035.852433  \n",
       "63  51979.674933  \n",
       "64  50335.636579  \n",
       "30  49962.346251  \n",
       "0   48833.631401  \n",
       "57  48747.775725  \n",
       "31  48318.307897  \n",
       "1   47189.593047  \n",
       "65  47047.559871  \n",
       "32  45030.231189  \n",
       "10  44285.135213  \n",
       "2   43901.516339  \n",
       "11  42641.096859  \n",
       "41  40564.318667  \n",
       "12  39353.020151  \n",
       "42  38920.280313  \n",
       "38  35810.802053  \n",
       "43  35632.203605  \n",
       "39  34166.763699  \n",
       "19  32065.338884  \n",
       "5   31022.042640  \n",
       "40  30878.686991  \n",
       "20  30421.300530  \n",
       "6   29378.004286  \n",
       "58  27667.256190  \n",
       "21  27133.223822  \n",
       "7   26089.927578  \n",
       "59  26023.217836  \n",
       "60  22735.141128  \n",
       "47  18139.102883  \n",
       "48  16495.064529  \n",
       "49  13206.987821  \n",
       "35  12538.993596  \n",
       "8   11851.364669  \n",
       "36  10894.955242  \n",
       "37   7606.878534  \n",
       "9    6919.249606  \n",
       "50   5562.083765  \n",
       "51   3918.045411  \n",
       "44   1273.273698  \n",
       "52    629.968703  "
      ]
     },
     "execution_count": 66,
     "metadata": {},
     "output_type": "execute_result"
    }
   ],
   "source": [
    "#Finding the total predicted sales for each city-location\n",
    "Predicted_Sales_df = pd.DataFrame(final_results.groupby(['Store_City','Store_Location'])['Pred_Sales'].sum().reset_index())\n",
    "\n",
    "#finding the total sales of existing city-location\n",
    "existing_sales = pd.DataFrame(MergedFile.groupby(['Store_City','Store_Location'])['Sales'].sum().reset_index())\n",
    "\n",
    "#Finding the Maximum sales location for each city\n",
    "existing_max_sales = pd.DataFrame(existing_sales.groupby('Store_City')['Sales'].max().reset_index())\n",
    "\n",
    "#Merging the prediction sales and existing minimum sales dataframes\n",
    "pred_existing_sales_merge = existing_max_sales.merge(Predicted_Sales_df, on='Store_City', how='inner')\n",
    "pred_existing_sales_merge.rename(columns = {'Store_Location': 'Prediction_Location', 'Sales':'Existing_Sales'}, inplace=True)\n",
    "pred_existing_sales_merge = pred_existing_sales_merge[['Store_City', 'Prediction_Location', 'Existing_Sales', 'Pred_Sales']]\n",
    "\n",
    "#Creating a Delta_Sales column to find the differnece between predicted sales and existing minimum sales\n",
    "pred_existing_sales_merge['Delta_Sales'] = pred_existing_sales_merge['Pred_Sales'] - pred_existing_sales_merge['Existing_Sales']\n",
    "\n",
    "#Filtering for city and locations where delta is positive\n",
    "pred_existing_sales_merge[pred_existing_sales_merge['Delta_Sales']>0].sort_values(by='Delta_Sales', ascending=False)"
   ]
  },
  {
   "cell_type": "code",
   "execution_count": 67,
   "id": "cf398dc5",
   "metadata": {
    "papermill": {
     "duration": 0.352829,
     "end_time": "2024-01-24T07:48:11.020751",
     "exception": false,
     "start_time": "2024-01-24T07:48:10.667922",
     "status": "completed"
    },
    "tags": []
   },
   "outputs": [
    {
     "data": {
      "image/png": "[encoded data removed]",
      "text/plain": [
       "<Figure size 1000x400 with 1 Axes>"
      ]
     },
     "metadata": {},
     "output_type": "display_data"
    }
   ],
   "source": [
    "# Combine 'Store_City' and 'Store_Location' into a single column 'Location'\n",
    "pred_existing_sales_merge['Location'] = pred_existing_sales_merge['Store_City'] + '-' + pred_existing_sales_merge['Prediction_Location']\n",
    "\n",
    "# Specify the locations you want to display\n",
    "selected_locations = ['La Paz-Airport', 'Cuernavaca-Airport', 'Durango-Airport', 'Tuxtla Gutierrez-Airport', 'Zacatecas-Airport']\n",
    "\n",
    "# Filter the original dataframe to include only the specified locations\n",
    "selected_df = pred_existing_sales_merge[pred_existing_sales_merge['Location'].isin(selected_locations)]\n",
    "\n",
    "# Plotting\n",
    "fig, ax = plt.subplots(figsize=(10, 4))\n",
    "\n",
    "width = 0.4  # Width of the bars\n",
    "index = range(len(selected_df.index))\n",
    "\n",
    "# Plotting bars for Existing Sales\n",
    "ax.bar(selected_df['Location'], selected_df['Existing_Sales'], width=width, label='Existing Sales', align='center', color='gold')\n",
    "\n",
    "# Plotting bars for Predictive Sales next to Existing Sales\n",
    "ax.bar(selected_df['Location'], selected_df['Pred_Sales'], width=width, label='Predictive Sales', align='edge', color='green')\n",
    "\n",
    "ax.set_xlabel('Store City & Location')\n",
    "plt.xticks(rotation=45)  # Rotate x-axis labels for better readability\n",
    "ax.set_ylabel('Sales')\n",
    "ax.set_title('Comparison between Maximum and Predicted Sales for Top 5 City & Location')\n",
    "ax.legend(loc='upper left', bbox_to_anchor=(1, 1))  # Set legend outside the chart\n",
    "\n",
    "plt.tight_layout()\n",
    "plt.show()"
   ]
  }
 ],
 "metadata": {
  "kaggle": {
   "accelerator": "none",
   "dataSources": [
    {
     "datasetId": 1531119,
     "sourceId": 2527112,
     "sourceType": "datasetVersion"
    }
   ],
   "dockerImageVersionId": 30558,
   "isGpuEnabled": false,
   "isInternetEnabled": true,
   "language": "python",
   "sourceType": "notebook"
  },
  "kernelspec": {
   "display_name": "Python 3 (ipykernel)",
   "language": "python",
   "name": "python3"
  },
  "language_info": {
   "codemirror_mode": {
    "name": "ipython",
    "version": 3
   },
   "file_extension": ".py",
   "mimetype": "text/x-python",
   "name": "python",
   "nbconvert_exporter": "python",
   "pygments_lexer": "ipython3",
   "version": "3.11.3"
  },
  "papermill": {
   "default_parameters": {},
   "duration": 127.933033,
   "end_time": "2024-01-24T07:48:11.984739",
   "environment_variables": {},
   "exception": null,
   "input_path": "__notebook__.ipynb",
   "output_path": "__notebook__.ipynb",
   "parameters": {},
   "start_time": "2024-01-24T07:46:04.051706",
   "version": "2.4.0"
  }
 },
 "nbformat": 4,
 "nbformat_minor": 5
}
